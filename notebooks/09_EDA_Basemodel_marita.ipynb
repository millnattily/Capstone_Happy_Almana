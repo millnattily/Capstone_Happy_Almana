{
 "cells": [
  {
   "cell_type": "markdown",
   "metadata": {},
   "source": [
    "## Basemodel\n",
    "\n",
    "Target:\n",
    "+ life_ladder  \n",
    "\n",
    "Features:\n",
    "+ log_gdp_per_capita"
   ]
  },
  {
   "cell_type": "markdown",
   "metadata": {},
   "source": [
    "import libraries"
   ]
  },
  {
   "cell_type": "code",
   "execution_count": 1,
   "metadata": {},
   "outputs": [],
   "source": [
    "import pandas as pd\n",
    "import numpy as np\n",
    "import matplotlib.pyplot as plt\n",
    "import seaborn as sns\n",
    "\n",
    "from sklearn.preprocessing import StandardScaler, MinMaxScaler, PolynomialFeatures\n",
    "from sklearn.model_selection import train_test_split, cross_val_score\n",
    "from sklearn.linear_model import LinearRegression\n",
    "from sklearn.neighbors import KNeighborsRegressor\n",
    "from sklearn.tree import DecisionTreeRegressor, plot_tree\n",
    "from sklearn.ensemble import RandomForestRegressor, ExtraTreesRegressor, AdaBoostRegressor, GradientBoostingRegressor\n",
    "from sklearn.metrics import mean_squared_error, r2_score"
   ]
  },
  {
   "cell_type": "code",
   "execution_count": 2,
   "metadata": {},
   "outputs": [],
   "source": [
    "model_name = 'basemodel'"
   ]
  },
  {
   "cell_type": "markdown",
   "metadata": {},
   "source": [
    "function section"
   ]
  },
  {
   "cell_type": "code",
   "execution_count": 3,
   "metadata": {},
   "outputs": [],
   "source": [
    "def adjusted_r_squared(r_squared, X):\n",
    "    adjusted_r2 = 1 - ((1 - r_squared) * (len(X) - 1) / (len(X) - X.shape[1] - 1))\n",
    "    return adjusted_r2 "
   ]
  },
  {
   "cell_type": "code",
   "execution_count": 4,
   "metadata": {},
   "outputs": [],
   "source": [
    "df = pd.read_csv(\"../data/life_ladder_2005_2022_no1_gdp_sosupp.txt\", delimiter=',')\n",
    "df.columns = df.columns.str.replace(' ','_')\n",
    "df.columns = df.columns.str.lower()"
   ]
  },
  {
   "cell_type": "code",
   "execution_count": 5,
   "metadata": {},
   "outputs": [
    {
     "name": "stdout",
     "output_type": "stream",
     "text": [
      "<class 'pandas.core.frame.DataFrame'>\n",
      "RangeIndex: 2166 entries, 0 to 2165\n",
      "Data columns (total 5 columns):\n",
      " #   Column              Non-Null Count  Dtype  \n",
      "---  ------              --------------  -----  \n",
      " 0   country_name        2166 non-null   object \n",
      " 1   year                2166 non-null   int64  \n",
      " 2   life_ladder         2166 non-null   float64\n",
      " 3   log_gdp_per_capita  2166 non-null   float64\n",
      " 4   social_support      2166 non-null   float64\n",
      "dtypes: float64(3), int64(1), object(1)\n",
      "memory usage: 84.7+ KB\n"
     ]
    }
   ],
   "source": [
    "df.info()"
   ]
  },
  {
   "cell_type": "markdown",
   "metadata": {},
   "source": [
    "Define features and Target:"
   ]
  },
  {
   "cell_type": "code",
   "execution_count": 6,
   "metadata": {},
   "outputs": [],
   "source": [
    "features = df.columns.tolist()\n",
    "features.remove('country_name')\n",
    "features.remove('year')\n",
    "features.remove('life_ladder')\n",
    "features.remove('social_support') # nur hier, spaeter nicht mehr!!\n",
    "\n",
    "X = df[features]\n",
    "y = df['life_ladder']"
   ]
  },
  {
   "cell_type": "code",
   "execution_count": 7,
   "metadata": {},
   "outputs": [
    {
     "data": {
      "text/plain": [
       "Index(['log_gdp_per_capita'], dtype='object')"
      ]
     },
     "execution_count": 7,
     "metadata": {},
     "output_type": "execute_result"
    }
   ],
   "source": [
    "X.columns"
   ]
  },
  {
   "cell_type": "code",
   "execution_count": 8,
   "metadata": {},
   "outputs": [
    {
     "name": "stdout",
     "output_type": "stream",
     "text": [
      "(2166, 1) (2166,)\n"
     ]
    }
   ],
   "source": [
    "print(X.shape, y.shape)"
   ]
  },
  {
   "cell_type": "markdown",
   "metadata": {},
   "source": [
    "Train-Test-Split:"
   ]
  },
  {
   "cell_type": "code",
   "execution_count": 9,
   "metadata": {},
   "outputs": [],
   "source": [
    "X_train, X_test, y_train, y_test = train_test_split(X, y,  test_size=0.3, random_state=123)"
   ]
  },
  {
   "cell_type": "code",
   "execution_count": 10,
   "metadata": {},
   "outputs": [
    {
     "name": "stdout",
     "output_type": "stream",
     "text": [
      "(1516, 1) (650, 1) (1516,) (650,)\n"
     ]
    }
   ],
   "source": [
    "print(X_train.shape, X_test.shape, y_train.shape, y_test.shape)"
   ]
  },
  {
   "cell_type": "markdown",
   "metadata": {},
   "source": [
    "Remember:   \n",
    "**R2 should be as high as possible**  \n",
    "\n",
    "(For example: an R2 of 0.917 will be interpreted as 91,70% of the variation in x can be explained by y (and vice versa). The rest (8,30%) is noise, which cannot refer to the variables.)  \n",
    "\n",
    "**RMSE should be low as possible**"
   ]
  },
  {
   "cell_type": "markdown",
   "metadata": {},
   "source": [
    "KNN Model with variable number of neighbors and variable distance metrics"
   ]
  },
  {
   "cell_type": "code",
   "execution_count": 41,
   "metadata": {},
   "outputs": [
    {
     "name": "stdout",
     "output_type": "stream",
     "text": [
      "train_rmse  0.634\n",
      "train_r2  0.68\n",
      "test_rmse  0.634\n",
      "test_r2  0.681\n"
     ]
    }
   ],
   "source": [
    "knn = KNeighborsRegressor(n_neighbors=25, p=1)\n",
    "knn.fit(X_train, y_train)\n",
    "\n",
    "y_pred_test = knn.predict(X_test)\n",
    "y_pred_train = knn.predict(X_train)\n",
    "rmse_test = mean_squared_error(y_test, y_pred_dec_test, squared=False).round(3)\n",
    "r2_test = r2_score(y_test, y_pred_dec_test).round(3)\n",
    "rmse_train = mean_squared_error(y_train, y_pred_dec_train, squared=False).round(3)\n",
    "r2_train = r2_score(y_train, y_pred_dec_train).round(3)\n",
    "\n",
    "print('train_rmse ', rmse_train) \n",
    "print('train_r2 ', r2_train)\n",
    "print('test_rmse ', rmse_test)\n",
    "print('test_r2 ',r2_test)"
   ]
  },
  {
   "cell_type": "code",
   "execution_count": 79,
   "metadata": {},
   "outputs": [
    {
     "data": {
      "text/html": [
       "<div>\n",
       "<style scoped>\n",
       "    .dataframe tbody tr th:only-of-type {\n",
       "        vertical-align: middle;\n",
       "    }\n",
       "\n",
       "    .dataframe tbody tr th {\n",
       "        vertical-align: top;\n",
       "    }\n",
       "\n",
       "    .dataframe thead th {\n",
       "        text-align: right;\n",
       "    }\n",
       "</style>\n",
       "<table border=\"1\" class=\"dataframe\">\n",
       "  <thead>\n",
       "    <tr style=\"text-align: right;\">\n",
       "      <th></th>\n",
       "      <th>log_gdp_per_capita</th>\n",
       "      <th>life_ladder</th>\n",
       "    </tr>\n",
       "  </thead>\n",
       "  <tbody>\n",
       "    <tr>\n",
       "      <th>0</th>\n",
       "      <td>8.036</td>\n",
       "      <td>5.104</td>\n",
       "    </tr>\n",
       "    <tr>\n",
       "      <th>1</th>\n",
       "      <td>10.692</td>\n",
       "      <td>7.488</td>\n",
       "    </tr>\n",
       "    <tr>\n",
       "      <th>2</th>\n",
       "      <td>10.043</td>\n",
       "      <td>5.961</td>\n",
       "    </tr>\n",
       "    <tr>\n",
       "      <th>3</th>\n",
       "      <td>7.423</td>\n",
       "      <td>3.466</td>\n",
       "    </tr>\n",
       "    <tr>\n",
       "      <th>4</th>\n",
       "      <td>9.539</td>\n",
       "      <td>4.887</td>\n",
       "    </tr>\n",
       "    <tr>\n",
       "      <th>...</th>\n",
       "      <td>...</td>\n",
       "      <td>...</td>\n",
       "    </tr>\n",
       "    <tr>\n",
       "      <th>645</th>\n",
       "      <td>9.222</td>\n",
       "      <td>5.043</td>\n",
       "    </tr>\n",
       "    <tr>\n",
       "      <th>646</th>\n",
       "      <td>8.369</td>\n",
       "      <td>4.476</td>\n",
       "    </tr>\n",
       "    <tr>\n",
       "      <th>647</th>\n",
       "      <td>8.499</td>\n",
       "      <td>4.448</td>\n",
       "    </tr>\n",
       "    <tr>\n",
       "      <th>648</th>\n",
       "      <td>9.940</td>\n",
       "      <td>5.514</td>\n",
       "    </tr>\n",
       "    <tr>\n",
       "      <th>649</th>\n",
       "      <td>8.359</td>\n",
       "      <td>5.138</td>\n",
       "    </tr>\n",
       "  </tbody>\n",
       "</table>\n",
       "<p>650 rows × 2 columns</p>\n",
       "</div>"
      ],
      "text/plain": [
       "     log_gdp_per_capita  life_ladder\n",
       "0                 8.036        5.104\n",
       "1                10.692        7.488\n",
       "2                10.043        5.961\n",
       "3                 7.423        3.466\n",
       "4                 9.539        4.887\n",
       "..                  ...          ...\n",
       "645               9.222        5.043\n",
       "646               8.369        4.476\n",
       "647               8.499        4.448\n",
       "648               9.940        5.514\n",
       "649               8.359        5.138\n",
       "\n",
       "[650 rows x 2 columns]"
      ]
     },
     "execution_count": 79,
     "metadata": {},
     "output_type": "execute_result"
    }
   ],
   "source": [
    "df_4_plot = pd.concat([X_test, y_test], axis=1)\n",
    "df_4_plot.reset_index(inplace=True, drop=True) \n",
    "df_4_plot"
   ]
  },
  {
   "cell_type": "code",
   "execution_count": 80,
   "metadata": {},
   "outputs": [],
   "source": [
    "y_pred_series = pd.DataFrame(y_pred_test)\n",
    "y_pred_series.rename(columns={0:'prediction'}, inplace=True)"
   ]
  },
  {
   "cell_type": "code",
   "execution_count": 81,
   "metadata": {},
   "outputs": [
    {
     "data": {
      "text/html": [
       "<div>\n",
       "<style scoped>\n",
       "    .dataframe tbody tr th:only-of-type {\n",
       "        vertical-align: middle;\n",
       "    }\n",
       "\n",
       "    .dataframe tbody tr th {\n",
       "        vertical-align: top;\n",
       "    }\n",
       "\n",
       "    .dataframe thead th {\n",
       "        text-align: right;\n",
       "    }\n",
       "</style>\n",
       "<table border=\"1\" class=\"dataframe\">\n",
       "  <thead>\n",
       "    <tr style=\"text-align: right;\">\n",
       "      <th></th>\n",
       "      <th>log_gdp_per_capita</th>\n",
       "      <th>life_ladder</th>\n",
       "      <th>prediction</th>\n",
       "    </tr>\n",
       "  </thead>\n",
       "  <tbody>\n",
       "    <tr>\n",
       "      <th>0</th>\n",
       "      <td>8.036</td>\n",
       "      <td>5.104</td>\n",
       "      <td>4.45592</td>\n",
       "    </tr>\n",
       "    <tr>\n",
       "      <th>1</th>\n",
       "      <td>10.692</td>\n",
       "      <td>7.488</td>\n",
       "      <td>6.72992</td>\n",
       "    </tr>\n",
       "    <tr>\n",
       "      <th>2</th>\n",
       "      <td>10.043</td>\n",
       "      <td>5.961</td>\n",
       "      <td>6.05344</td>\n",
       "    </tr>\n",
       "    <tr>\n",
       "      <th>3</th>\n",
       "      <td>7.423</td>\n",
       "      <td>3.466</td>\n",
       "      <td>3.94772</td>\n",
       "    </tr>\n",
       "    <tr>\n",
       "      <th>4</th>\n",
       "      <td>9.539</td>\n",
       "      <td>4.887</td>\n",
       "      <td>5.09936</td>\n",
       "    </tr>\n",
       "    <tr>\n",
       "      <th>...</th>\n",
       "      <td>...</td>\n",
       "      <td>...</td>\n",
       "      <td>...</td>\n",
       "    </tr>\n",
       "    <tr>\n",
       "      <th>645</th>\n",
       "      <td>9.222</td>\n",
       "      <td>5.043</td>\n",
       "      <td>5.25468</td>\n",
       "    </tr>\n",
       "    <tr>\n",
       "      <th>646</th>\n",
       "      <td>8.369</td>\n",
       "      <td>4.476</td>\n",
       "      <td>4.76208</td>\n",
       "    </tr>\n",
       "    <tr>\n",
       "      <th>647</th>\n",
       "      <td>8.499</td>\n",
       "      <td>4.448</td>\n",
       "      <td>4.92472</td>\n",
       "    </tr>\n",
       "    <tr>\n",
       "      <th>648</th>\n",
       "      <td>9.940</td>\n",
       "      <td>5.514</td>\n",
       "      <td>6.09116</td>\n",
       "    </tr>\n",
       "    <tr>\n",
       "      <th>649</th>\n",
       "      <td>8.359</td>\n",
       "      <td>5.138</td>\n",
       "      <td>4.77620</td>\n",
       "    </tr>\n",
       "  </tbody>\n",
       "</table>\n",
       "<p>650 rows × 3 columns</p>\n",
       "</div>"
      ],
      "text/plain": [
       "     log_gdp_per_capita  life_ladder  prediction\n",
       "0                 8.036        5.104     4.45592\n",
       "1                10.692        7.488     6.72992\n",
       "2                10.043        5.961     6.05344\n",
       "3                 7.423        3.466     3.94772\n",
       "4                 9.539        4.887     5.09936\n",
       "..                  ...          ...         ...\n",
       "645               9.222        5.043     5.25468\n",
       "646               8.369        4.476     4.76208\n",
       "647               8.499        4.448     4.92472\n",
       "648               9.940        5.514     6.09116\n",
       "649               8.359        5.138     4.77620\n",
       "\n",
       "[650 rows x 3 columns]"
      ]
     },
     "execution_count": 81,
     "metadata": {},
     "output_type": "execute_result"
    }
   ],
   "source": [
    "df_4_plot = pd.concat([df_4_plot, y_pred_series], axis=1)\n",
    "df_4_plot"
   ]
  },
  {
   "cell_type": "code",
   "execution_count": 86,
   "metadata": {},
   "outputs": [
    {
     "data": {
      "text/plain": [
       "<Axes: xlabel='life_ladder', ylabel='prediction'>"
      ]
     },
     "execution_count": 86,
     "metadata": {},
     "output_type": "execute_result"
    },
    {
     "data": {
      "image/png": "[encoded data removed]",
      "text/plain": [
       "<Figure size 640x480 with 1 Axes>"
      ]
     },
     "metadata": {},
     "output_type": "display_data"
    }
   ],
   "source": [
    "sns.scatterplot(data=df_4_plot.sort_values(by='life_ladder'),\n",
    "                x=df_4_plot.life_ladder,\n",
    "                y=df_4_plot.prediction, color='steelblue')\n",
    "sns.scatterplot(data=df_4_plot.sort_values(by='life_ladder'),\n",
    "                x=df_4_plot.life_ladder,\n",
    "                y=df_4_plot.life_ladder, color='red')\n",
    "#sns.pointplot(y=y_pred_dec_test, color='red')\n",
    "#sns('log_gdp_per_capita')\n",
    "#plt.ylabel('life_ladder');"
   ]
  }
 ],
 "metadata": {
  "kernelspec": {
   "display_name": ".venv",
   "language": "python",
   "name": "python3"
  },
  "language_info": {
   "codemirror_mode": {
    "name": "ipython",
    "version": 3
   },
   "file_extension": ".py",
   "mimetype": "text/x-python",
   "name": "python",
   "nbconvert_exporter": "python",
   "pygments_lexer": "ipython3",
   "version": "3.11.3"
  }
 },
 "nbformat": 4,
 "nbformat_minor": 2
}
