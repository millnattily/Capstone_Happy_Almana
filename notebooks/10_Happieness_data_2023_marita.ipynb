{
 "cells": [
  {
   "cell_type": "markdown",
   "metadata": {},
   "source": [
    "New Data from Happieness Report 2024  \n",
    "\n",
    "We want to predict with our model the life ladder for 2023, therefore we need all Data for 2023"
   ]
  },
  {
   "cell_type": "code",
   "execution_count": 39,
   "metadata": {},
   "outputs": [],
   "source": [
    "import pandas as pd\n",
    "pd.options.display.max_columns = None\n",
    "pd.options.display.max_rows = None\n",
    "\n",
    "import numpy as np\n",
    "import seaborn as sns\n",
    "import matplotlib.pyplot as plt"
   ]
  },
  {
   "cell_type": "code",
   "execution_count": 40,
   "metadata": {},
   "outputs": [],
   "source": [
    "df = pd.read_csv(\"../data/world-happiness-report-2024.txt\", delimiter=',')\n",
    "df.columns = df.columns.str.replace(' ','_')\n",
    "df.columns = df.columns.str.lower()"
   ]
  },
  {
   "cell_type": "code",
   "execution_count": 41,
   "metadata": {},
   "outputs": [
    {
     "name": "stdout",
     "output_type": "stream",
     "text": [
      "<class 'pandas.core.frame.DataFrame'>\n",
      "RangeIndex: 2363 entries, 0 to 2362\n",
      "Data columns (total 11 columns):\n",
      " #   Column                            Non-Null Count  Dtype  \n",
      "---  ------                            --------------  -----  \n",
      " 0   country_name                      2363 non-null   object \n",
      " 1   year                              2363 non-null   int64  \n",
      " 2   life_ladder                       2363 non-null   float64\n",
      " 3   log_gdp_per_capita                2335 non-null   float64\n",
      " 4   social_support                    2350 non-null   float64\n",
      " 5   healthy_life_expectancy_at_birth  2300 non-null   float64\n",
      " 6   freedom_to_make_life_choices      2327 non-null   float64\n",
      " 7   generosity                        2282 non-null   float64\n",
      " 8   perceptions_of_corruption         2238 non-null   float64\n",
      " 9   positive_affect                   2339 non-null   float64\n",
      " 10  negative_affect                   2347 non-null   float64\n",
      "dtypes: float64(9), int64(1), object(1)\n",
      "memory usage: 203.2+ KB\n"
     ]
    }
   ],
   "source": [
    "df.info()"
   ]
  },
  {
   "cell_type": "code",
   "execution_count": 42,
   "metadata": {},
   "outputs": [
    {
     "name": "stdout",
     "output_type": "stream",
     "text": [
      "<class 'pandas.core.frame.DataFrame'>\n",
      "Index: 138 entries, 14 to 2362\n",
      "Data columns (total 11 columns):\n",
      " #   Column                            Non-Null Count  Dtype  \n",
      "---  ------                            --------------  -----  \n",
      " 0   country_name                      138 non-null    object \n",
      " 1   year                              138 non-null    int64  \n",
      " 2   life_ladder                       138 non-null    float64\n",
      " 3   log_gdp_per_capita                129 non-null    float64\n",
      " 4   social_support                    138 non-null    float64\n",
      " 5   healthy_life_expectancy_at_birth  135 non-null    float64\n",
      " 6   freedom_to_make_life_choices      136 non-null    float64\n",
      " 7   generosity                        129 non-null    float64\n",
      " 8   perceptions_of_corruption         131 non-null    float64\n",
      " 9   positive_affect                   138 non-null    float64\n",
      " 10  negative_affect                   138 non-null    float64\n",
      "dtypes: float64(9), int64(1), object(1)\n",
      "memory usage: 12.9+ KB\n"
     ]
    }
   ],
   "source": [
    "df_2023 = df.query('year == 2023')\n",
    "df_2023.info()"
   ]
  },
  {
   "cell_type": "code",
   "execution_count": 43,
   "metadata": {},
   "outputs": [
    {
     "name": "stdout",
     "output_type": "stream",
     "text": [
      "<class 'pandas.core.frame.DataFrame'>\n",
      "Index: 138 entries, 14 to 2362\n",
      "Data columns (total 9 columns):\n",
      " #   Column                            Non-Null Count  Dtype  \n",
      "---  ------                            --------------  -----  \n",
      " 0   country_name                      138 non-null    object \n",
      " 1   year                              138 non-null    int64  \n",
      " 2   life_ladder                       138 non-null    float64\n",
      " 3   log_gdp_per_capita                129 non-null    float64\n",
      " 4   social_support                    138 non-null    float64\n",
      " 5   healthy_life_expectancy_at_birth  135 non-null    float64\n",
      " 6   freedom_to_make_life_choices      136 non-null    float64\n",
      " 7   perceptions_of_corruption         131 non-null    float64\n",
      " 8   positive_affect                   138 non-null    float64\n",
      "dtypes: float64(7), int64(1), object(1)\n",
      "memory usage: 10.8+ KB\n"
     ]
    },
    {
     "name": "stderr",
     "output_type": "stream",
     "text": [
      "/var/folders/m_/n8mjr4pn3vl8nz5my8xxr76r0000gn/T/ipykernel_43355/4120316150.py:1: SettingWithCopyWarning: \n",
      "A value is trying to be set on a copy of a slice from a DataFrame\n",
      "\n",
      "See the caveats in the documentation: https://pandas.pydata.org/pandas-docs/stable/user_guide/indexing.html#returning-a-view-versus-a-copy\n",
      "  df_2023.drop(['generosity','negative_affect'], axis= 'columns', inplace= True)\n"
     ]
    }
   ],
   "source": [
    "df_2023.drop(['generosity','negative_affect'], axis= 'columns', inplace= True)\n",
    "df_2023.info()"
   ]
  },
  {
   "cell_type": "code",
   "execution_count": 58,
   "metadata": {},
   "outputs": [
    {
     "data": {
      "text/html": [
       "<div>\n",
       "<style scoped>\n",
       "    .dataframe tbody tr th:only-of-type {\n",
       "        vertical-align: middle;\n",
       "    }\n",
       "\n",
       "    .dataframe tbody tr th {\n",
       "        vertical-align: top;\n",
       "    }\n",
       "\n",
       "    .dataframe thead th {\n",
       "        text-align: right;\n",
       "    }\n",
       "</style>\n",
       "<table border=\"1\" class=\"dataframe\">\n",
       "  <thead>\n",
       "    <tr style=\"text-align: right;\">\n",
       "      <th></th>\n",
       "      <th>country_name</th>\n",
       "      <th>mys_year</th>\n",
       "    </tr>\n",
       "  </thead>\n",
       "  <tbody>\n",
       "    <tr>\n",
       "      <th>152</th>\n",
       "      <td>Vietnam</td>\n",
       "      <td>8.002617</td>\n",
       "    </tr>\n",
       "    <tr>\n",
       "      <th>153</th>\n",
       "      <td>Yemen</td>\n",
       "      <td>2.727503</td>\n",
       "    </tr>\n",
       "    <tr>\n",
       "      <th>154</th>\n",
       "      <td>Zambia</td>\n",
       "      <td>6.647242</td>\n",
       "    </tr>\n",
       "    <tr>\n",
       "      <th>155</th>\n",
       "      <td>Zimbabwe</td>\n",
       "      <td>8.118752</td>\n",
       "    </tr>\n",
       "    <tr>\n",
       "      <th>156</th>\n",
       "      <td>Kosovo</td>\n",
       "      <td>13.200000</td>\n",
       "    </tr>\n",
       "  </tbody>\n",
       "</table>\n",
       "</div>"
      ],
      "text/plain": [
       "    country_name   mys_year\n",
       "152      Vietnam   8.002617\n",
       "153        Yemen   2.727503\n",
       "154       Zambia   6.647242\n",
       "155     Zimbabwe   8.118752\n",
       "156       Kosovo  13.200000"
      ]
     },
     "execution_count": 58,
     "metadata": {},
     "output_type": "execute_result"
    }
   ],
   "source": [
    "df_mys= pd.read_csv('../data/mys_mean.txt')\n",
    "df_mys.tail()"
   ]
  },
  {
   "cell_type": "code",
   "execution_count": 52,
   "metadata": {},
   "outputs": [
    {
     "data": {
      "text/plain": [
       "165"
      ]
     },
     "execution_count": 52,
     "metadata": {},
     "output_type": "execute_result"
    }
   ],
   "source": [
    "country_names_lst = df.country_name.unique().tolist()\n",
    "len(country_names_lst)"
   ]
  },
  {
   "cell_type": "markdown",
   "metadata": {},
   "source": [
    "mys_2023 = []\n",
    "count = 0\n",
    "for item in country_names_lst:\n",
    "    mys_2023.append({'country_name': item,\n",
    "                     'mys_2023': df[df['country_name'] == item].head(2).mys_year.mean()})\n",
    "                \n",
    "    count += 1\n",
    "\n",
    "df_mys_2023 = pd.DataFrame(mys_2023)"
   ]
  },
  {
   "cell_type": "code",
   "execution_count": 53,
   "metadata": {},
   "outputs": [
    {
     "data": {
      "text/plain": [
       "array(['Algeria', 'Angola', 'Belarus', 'Belize', 'Bhutan', 'Burundi',\n",
       "       'Central African Republic', 'China', 'Djibouti', 'Eswatini',\n",
       "       'Guyana', 'Haiti', 'Jamaica', 'Lesotho', 'Qatar', 'Rwanda',\n",
       "       'Somalia', 'Sudan', 'Suriname', 'Syria', 'Trinidad and Tobago'],\n",
       "      dtype=object)"
      ]
     },
     "execution_count": 53,
     "metadata": {},
     "output_type": "execute_result"
    }
   ],
   "source": [
    "#quality_countries = df_mys_2023.country_name.unique()\n",
    "#happy_countries = df_2023.country_name.unique()\n",
    "\n",
    "#no_intersect = \n",
    "np.setxor1d(df_mys.country_name.unique(), df_2023.country_name.unique())\n",
    "#no_intersect"
   ]
  },
  {
   "cell_type": "code",
   "execution_count": 59,
   "metadata": {},
   "outputs": [
    {
     "name": "stdout",
     "output_type": "stream",
     "text": [
      "<class 'pandas.core.frame.DataFrame'>\n",
      "RangeIndex: 138 entries, 0 to 137\n",
      "Data columns (total 10 columns):\n",
      " #   Column                            Non-Null Count  Dtype  \n",
      "---  ------                            --------------  -----  \n",
      " 0   country_name                      138 non-null    object \n",
      " 1   year                              138 non-null    int64  \n",
      " 2   life_ladder                       138 non-null    float64\n",
      " 3   log_gdp_per_capita                129 non-null    float64\n",
      " 4   social_support                    138 non-null    float64\n",
      " 5   healthy_life_expectancy_at_birth  135 non-null    float64\n",
      " 6   freedom_to_make_life_choices      136 non-null    float64\n",
      " 7   perceptions_of_corruption         131 non-null    float64\n",
      " 8   positive_affect                   138 non-null    float64\n",
      " 9   mys_year                          134 non-null    float64\n",
      "dtypes: float64(8), int64(1), object(1)\n",
      "memory usage: 10.9+ KB\n"
     ]
    }
   ],
   "source": [
    "df_combine = pd.merge(df_2023, df_mys, on=['country_name'], how='left')\n",
    "df_combine.info()"
   ]
  },
  {
   "cell_type": "code",
   "execution_count": 63,
   "metadata": {},
   "outputs": [
    {
     "name": "stdout",
     "output_type": "stream",
     "text": [
      "<class 'pandas.core.frame.DataFrame'>\n",
      "Index: 118 entries, 1 to 137\n",
      "Data columns (total 10 columns):\n",
      " #   Column                            Non-Null Count  Dtype  \n",
      "---  ------                            --------------  -----  \n",
      " 0   country_name                      118 non-null    object \n",
      " 1   year                              118 non-null    int64  \n",
      " 2   life_ladder                       118 non-null    float64\n",
      " 3   log_gdp_per_capita                118 non-null    float64\n",
      " 4   social_support                    118 non-null    float64\n",
      " 5   healthy_life_expectancy_at_birth  118 non-null    float64\n",
      " 6   freedom_to_make_life_choices      118 non-null    float64\n",
      " 7   perceptions_of_corruption         118 non-null    float64\n",
      " 8   positive_affect                   118 non-null    float64\n",
      " 9   mys_year                          118 non-null    float64\n",
      "dtypes: float64(8), int64(1), object(1)\n",
      "memory usage: 10.1+ KB\n"
     ]
    }
   ],
   "source": [
    "df_combine.dropna(inplace=True)\n",
    "df_combine.info()"
   ]
  },
  {
   "cell_type": "code",
   "execution_count": 64,
   "metadata": {},
   "outputs": [],
   "source": [
    "df_combine.to_csv('../data/life_ladder_2023.txt', index=False)"
   ]
  },
  {
   "cell_type": "code",
   "execution_count": 65,
   "metadata": {},
   "outputs": [
    {
     "name": "stderr",
     "output_type": "stream",
     "text": [
      "/var/folders/m_/n8mjr4pn3vl8nz5my8xxr76r0000gn/T/ipykernel_43355/1350002492.py:12: UserWarning: FixedFormatter should only be used together with FixedLocator\n",
      "  g.set_xticklabels(['0','2','4','6','8','10'])\n",
      "/var/folders/m_/n8mjr4pn3vl8nz5my8xxr76r0000gn/T/ipykernel_43355/1350002492.py:13: UserWarning: FixedFormatter should only be used together with FixedLocator\n",
      "  g.set_yticklabels(['0','20','40','60','80','100'])\n"
     ]
    },
    {
     "data": {
      "text/plain": [
       "[Text(0, 3.0, '0'),\n",
       " Text(0, 4.0, '20'),\n",
       " Text(0, 5.0, '40'),\n",
       " Text(0, 6.0, '60'),\n",
       " Text(0, 7.0, '80'),\n",
       " Text(0, 8.0, '100')]"
      ]
     },
     "execution_count": 65,
     "metadata": {},
     "output_type": "execute_result"
    },
    {
     "data": {
      "image/png": "[encoded data removed]",
      "text/plain": [
       "<Figure size 640x480 with 1 Axes>"
      ]
     },
     "metadata": {},
     "output_type": "display_data"
    }
   ],
   "source": [
    "g=sns.scatterplot(data=df_combine,\n",
    "                x='log_gdp_per_capita',\n",
    "                y='life_ladder',\n",
    "                color= 'mediumslateblue',\n",
    "                s=50)\n",
    "for edge in ['right', 'top']:\n",
    "    g.spines[edge].set_visible(False)\n",
    "g.set(ylabel='Target')\n",
    "g.set(xlabel='Feature')\n",
    "g.set_xlim(7, 12)\n",
    "g.set_ylim(3, 8)\n",
    "g.set_xticklabels(['0','2','4','6','8','10'])\n",
    "g.set_yticklabels(['0','20','40','60','80','100'])"
   ]
  }
 ],
 "metadata": {
  "kernelspec": {
   "display_name": ".venv",
   "language": "python",
   "name": "python3"
  },
  "language_info": {
   "codemirror_mode": {
    "name": "ipython",
    "version": 3
   },
   "file_extension": ".py",
   "mimetype": "text/x-python",
   "name": "python",
   "nbconvert_exporter": "python",
   "pygments_lexer": "ipython3",
   "version": "3.11.3"
  }
 },
 "nbformat": 4,
 "nbformat_minor": 2
}
