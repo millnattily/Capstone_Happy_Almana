{
 "cells": [
  {
   "cell_type": "markdown",
   "metadata": {},
   "source": [
    "#World Happiness\n",
    "\n",
    "This notebook contains our Capstone Data Science Project examining \n",
    "\n"
   ]
  },
  {
   "cell_type": "markdown",
   "metadata": {},
   "source": [
    "## Loading Data"
   ]
  },
  {
   "cell_type": "code",
   "execution_count": 17,
   "metadata": {
    "slideshow": {
     "slide_type": "skip"
    }
   },
   "outputs": [],
   "source": [
    "import sys\n",
    "# adding to the path variables the one folder higher (locally, not changing system variables)\n",
    "sys.path.append(\"..\")\n",
    "import pandas as pd\n",
    "import numpy as np\n",
    "import warnings\n",
    "import mlflow\n",
    "\n",
    "# Import packages \n",
    "import numpy as np\n",
    "import pandas as pd\n",
    "import matplotlib.pyplot as plt\n",
    "import seaborn as sns\n",
    "from timeit import default_timer as timer\n",
    "\n",
    "# eye candy plots\n",
    "plt.style.use('https://github.com/dhaitz/matplotlib-stylesheets/raw/master/pitayasmoothie-light.mplstyle')\n",
    "# source https://github.com/dhaitz/matplotlib-stylesheets\n",
    "\n",
    "from sklearn.preprocessing import StandardScaler, MinMaxScaler\n",
    "from sklearn.model_selection import train_test_split, cross_val_score\n",
    "from sklearn.model_selection import GridSearchCV, RandomizedSearchCV\n",
    "from sklearn.linear_model import SGDClassifier\n",
    "from sklearn.neighbors import KNeighborsClassifier\n",
    "from sklearn.metrics import confusion_matrix, accuracy_score\n",
    "\n",
    "RSEED = 10\n",
    "\n",
    "\n",
    "warnings.filterwarnings('ignore')\n",
    "\n",
    "df=pd.read_csv('../data/DataForTable2.1WHR2023.txt')"
   ]
  },
  {
   "cell_type": "markdown",
   "metadata": {},
   "source": [
    "#### Data has been loaded into variable \"df\" and now let's look inside the data"
   ]
  },
  {
   "cell_type": "code",
   "execution_count": 18,
   "metadata": {
    "slideshow": {
     "slide_type": "skip"
    }
   },
   "outputs": [
    {
     "data": {
      "text/html": [
       "<div>\n",
       "<style scoped>\n",
       "    .dataframe tbody tr th:only-of-type {\n",
       "        vertical-align: middle;\n",
       "    }\n",
       "\n",
       "    .dataframe tbody tr th {\n",
       "        vertical-align: top;\n",
       "    }\n",
       "\n",
       "    .dataframe thead th {\n",
       "        text-align: right;\n",
       "    }\n",
       "</style>\n",
       "<table border=\"1\" class=\"dataframe\">\n",
       "  <thead>\n",
       "    <tr style=\"text-align: right;\">\n",
       "      <th></th>\n",
       "      <th>Country name</th>\n",
       "      <th>year</th>\n",
       "      <th>Life Ladder</th>\n",
       "      <th>Log GDP per capita</th>\n",
       "      <th>Social support</th>\n",
       "      <th>Healthy life expectancy at birth</th>\n",
       "      <th>Freedom to make life choices</th>\n",
       "      <th>Generosity</th>\n",
       "      <th>Perceptions of corruption</th>\n",
       "      <th>Positive affect</th>\n",
       "      <th>Negative affect</th>\n",
       "    </tr>\n",
       "  </thead>\n",
       "  <tbody>\n",
       "    <tr>\n",
       "      <th>0</th>\n",
       "      <td>Afghanistan</td>\n",
       "      <td>2008</td>\n",
       "      <td>3.724</td>\n",
       "      <td>7.350</td>\n",
       "      <td>0.451</td>\n",
       "      <td>50.5</td>\n",
       "      <td>0.718</td>\n",
       "      <td>0.168</td>\n",
       "      <td>0.882</td>\n",
       "      <td>0.414</td>\n",
       "      <td>0.258</td>\n",
       "    </tr>\n",
       "    <tr>\n",
       "      <th>1</th>\n",
       "      <td>Afghanistan</td>\n",
       "      <td>2009</td>\n",
       "      <td>4.402</td>\n",
       "      <td>7.509</td>\n",
       "      <td>0.552</td>\n",
       "      <td>50.8</td>\n",
       "      <td>0.679</td>\n",
       "      <td>0.191</td>\n",
       "      <td>0.850</td>\n",
       "      <td>0.481</td>\n",
       "      <td>0.237</td>\n",
       "    </tr>\n",
       "    <tr>\n",
       "      <th>2</th>\n",
       "      <td>Afghanistan</td>\n",
       "      <td>2010</td>\n",
       "      <td>4.758</td>\n",
       "      <td>7.614</td>\n",
       "      <td>0.539</td>\n",
       "      <td>51.1</td>\n",
       "      <td>0.600</td>\n",
       "      <td>0.121</td>\n",
       "      <td>0.707</td>\n",
       "      <td>0.517</td>\n",
       "      <td>0.275</td>\n",
       "    </tr>\n",
       "    <tr>\n",
       "      <th>3</th>\n",
       "      <td>Afghanistan</td>\n",
       "      <td>2011</td>\n",
       "      <td>3.832</td>\n",
       "      <td>7.581</td>\n",
       "      <td>0.521</td>\n",
       "      <td>51.4</td>\n",
       "      <td>0.496</td>\n",
       "      <td>0.164</td>\n",
       "      <td>0.731</td>\n",
       "      <td>0.480</td>\n",
       "      <td>0.267</td>\n",
       "    </tr>\n",
       "    <tr>\n",
       "      <th>4</th>\n",
       "      <td>Afghanistan</td>\n",
       "      <td>2012</td>\n",
       "      <td>3.783</td>\n",
       "      <td>7.661</td>\n",
       "      <td>0.521</td>\n",
       "      <td>51.7</td>\n",
       "      <td>0.531</td>\n",
       "      <td>0.238</td>\n",
       "      <td>0.776</td>\n",
       "      <td>0.614</td>\n",
       "      <td>0.268</td>\n",
       "    </tr>\n",
       "  </tbody>\n",
       "</table>\n",
       "</div>"
      ],
      "text/plain": [
       "  Country name  year  Life Ladder  Log GDP per capita  Social support   \n",
       "0  Afghanistan  2008        3.724               7.350           0.451  \\\n",
       "1  Afghanistan  2009        4.402               7.509           0.552   \n",
       "2  Afghanistan  2010        4.758               7.614           0.539   \n",
       "3  Afghanistan  2011        3.832               7.581           0.521   \n",
       "4  Afghanistan  2012        3.783               7.661           0.521   \n",
       "\n",
       "   Healthy life expectancy at birth  Freedom to make life choices  Generosity   \n",
       "0                              50.5                         0.718       0.168  \\\n",
       "1                              50.8                         0.679       0.191   \n",
       "2                              51.1                         0.600       0.121   \n",
       "3                              51.4                         0.496       0.164   \n",
       "4                              51.7                         0.531       0.238   \n",
       "\n",
       "   Perceptions of corruption  Positive affect  Negative affect  \n",
       "0                      0.882            0.414            0.258  \n",
       "1                      0.850            0.481            0.237  \n",
       "2                      0.707            0.517            0.275  \n",
       "3                      0.731            0.480            0.267  \n",
       "4                      0.776            0.614            0.268  "
      ]
     },
     "execution_count": 18,
     "metadata": {},
     "output_type": "execute_result"
    }
   ],
   "source": [
    "df.head()"
   ]
  },
  {
   "cell_type": "code",
   "execution_count": 19,
   "metadata": {
    "slideshow": {
     "slide_type": "skip"
    }
   },
   "outputs": [
    {
     "data": {
      "text/plain": [
       "Index(['Country name', 'year', 'Life Ladder', 'Log GDP per capita',\n",
       "       'Social support', 'Healthy life expectancy at birth',\n",
       "       'Freedom to make life choices', 'Generosity',\n",
       "       'Perceptions of corruption', 'Positive affect', 'Negative affect'],\n",
       "      dtype='object')"
      ]
     },
     "execution_count": 19,
     "metadata": {},
     "output_type": "execute_result"
    }
   ],
   "source": [
    "df.columns\n"
   ]
  },
  {
   "cell_type": "code",
   "execution_count": 20,
   "metadata": {},
   "outputs": [
    {
     "data": {
      "text/html": [
       "<div>\n",
       "<style scoped>\n",
       "    .dataframe tbody tr th:only-of-type {\n",
       "        vertical-align: middle;\n",
       "    }\n",
       "\n",
       "    .dataframe tbody tr th {\n",
       "        vertical-align: top;\n",
       "    }\n",
       "\n",
       "    .dataframe thead th {\n",
       "        text-align: right;\n",
       "    }\n",
       "</style>\n",
       "<table border=\"1\" class=\"dataframe\">\n",
       "  <thead>\n",
       "    <tr style=\"text-align: right;\">\n",
       "      <th></th>\n",
       "      <th>year</th>\n",
       "      <th>Life Ladder</th>\n",
       "      <th>Log GDP per capita</th>\n",
       "      <th>Social support</th>\n",
       "      <th>Healthy life expectancy at birth</th>\n",
       "      <th>Freedom to make life choices</th>\n",
       "      <th>Generosity</th>\n",
       "      <th>Perceptions of corruption</th>\n",
       "      <th>Positive affect</th>\n",
       "      <th>Negative affect</th>\n",
       "    </tr>\n",
       "  </thead>\n",
       "  <tbody>\n",
       "    <tr>\n",
       "      <th>count</th>\n",
       "      <td>2199.000000</td>\n",
       "      <td>2199.000000</td>\n",
       "      <td>2179.000000</td>\n",
       "      <td>2186.000000</td>\n",
       "      <td>2145.000000</td>\n",
       "      <td>2166.000000</td>\n",
       "      <td>2126.000000</td>\n",
       "      <td>2083.000000</td>\n",
       "      <td>2175.000000</td>\n",
       "      <td>2183.000000</td>\n",
       "    </tr>\n",
       "    <tr>\n",
       "      <th>mean</th>\n",
       "      <td>2014.161437</td>\n",
       "      <td>5.479227</td>\n",
       "      <td>9.389760</td>\n",
       "      <td>0.810681</td>\n",
       "      <td>63.294582</td>\n",
       "      <td>0.747847</td>\n",
       "      <td>0.000091</td>\n",
       "      <td>0.745208</td>\n",
       "      <td>0.652148</td>\n",
       "      <td>0.271493</td>\n",
       "    </tr>\n",
       "    <tr>\n",
       "      <th>std</th>\n",
       "      <td>4.718736</td>\n",
       "      <td>1.125527</td>\n",
       "      <td>1.153402</td>\n",
       "      <td>0.120953</td>\n",
       "      <td>6.901104</td>\n",
       "      <td>0.140137</td>\n",
       "      <td>0.161079</td>\n",
       "      <td>0.185835</td>\n",
       "      <td>0.105913</td>\n",
       "      <td>0.086872</td>\n",
       "    </tr>\n",
       "    <tr>\n",
       "      <th>min</th>\n",
       "      <td>2005.000000</td>\n",
       "      <td>1.281000</td>\n",
       "      <td>5.527000</td>\n",
       "      <td>0.228000</td>\n",
       "      <td>6.720000</td>\n",
       "      <td>0.258000</td>\n",
       "      <td>-0.338000</td>\n",
       "      <td>0.035000</td>\n",
       "      <td>0.179000</td>\n",
       "      <td>0.083000</td>\n",
       "    </tr>\n",
       "    <tr>\n",
       "      <th>25%</th>\n",
       "      <td>2010.000000</td>\n",
       "      <td>4.647000</td>\n",
       "      <td>8.500000</td>\n",
       "      <td>0.747000</td>\n",
       "      <td>59.120000</td>\n",
       "      <td>0.656250</td>\n",
       "      <td>-0.112000</td>\n",
       "      <td>0.688000</td>\n",
       "      <td>0.572000</td>\n",
       "      <td>0.208000</td>\n",
       "    </tr>\n",
       "    <tr>\n",
       "      <th>50%</th>\n",
       "      <td>2014.000000</td>\n",
       "      <td>5.432000</td>\n",
       "      <td>9.499000</td>\n",
       "      <td>0.836000</td>\n",
       "      <td>65.050000</td>\n",
       "      <td>0.770000</td>\n",
       "      <td>-0.023000</td>\n",
       "      <td>0.800000</td>\n",
       "      <td>0.663000</td>\n",
       "      <td>0.261000</td>\n",
       "    </tr>\n",
       "    <tr>\n",
       "      <th>75%</th>\n",
       "      <td>2018.000000</td>\n",
       "      <td>6.309500</td>\n",
       "      <td>10.373500</td>\n",
       "      <td>0.905000</td>\n",
       "      <td>68.500000</td>\n",
       "      <td>0.859000</td>\n",
       "      <td>0.092000</td>\n",
       "      <td>0.869000</td>\n",
       "      <td>0.738000</td>\n",
       "      <td>0.323000</td>\n",
       "    </tr>\n",
       "    <tr>\n",
       "      <th>max</th>\n",
       "      <td>2022.000000</td>\n",
       "      <td>8.019000</td>\n",
       "      <td>11.664000</td>\n",
       "      <td>0.987000</td>\n",
       "      <td>74.475000</td>\n",
       "      <td>0.985000</td>\n",
       "      <td>0.703000</td>\n",
       "      <td>0.983000</td>\n",
       "      <td>0.884000</td>\n",
       "      <td>0.705000</td>\n",
       "    </tr>\n",
       "  </tbody>\n",
       "</table>\n",
       "</div>"
      ],
      "text/plain": [
       "              year  Life Ladder  Log GDP per capita  Social support   \n",
       "count  2199.000000  2199.000000         2179.000000     2186.000000  \\\n",
       "mean   2014.161437     5.479227            9.389760        0.810681   \n",
       "std       4.718736     1.125527            1.153402        0.120953   \n",
       "min    2005.000000     1.281000            5.527000        0.228000   \n",
       "25%    2010.000000     4.647000            8.500000        0.747000   \n",
       "50%    2014.000000     5.432000            9.499000        0.836000   \n",
       "75%    2018.000000     6.309500           10.373500        0.905000   \n",
       "max    2022.000000     8.019000           11.664000        0.987000   \n",
       "\n",
       "       Healthy life expectancy at birth  Freedom to make life choices   \n",
       "count                       2145.000000                   2166.000000  \\\n",
       "mean                          63.294582                      0.747847   \n",
       "std                            6.901104                      0.140137   \n",
       "min                            6.720000                      0.258000   \n",
       "25%                           59.120000                      0.656250   \n",
       "50%                           65.050000                      0.770000   \n",
       "75%                           68.500000                      0.859000   \n",
       "max                           74.475000                      0.985000   \n",
       "\n",
       "        Generosity  Perceptions of corruption  Positive affect   \n",
       "count  2126.000000                2083.000000      2175.000000  \\\n",
       "mean      0.000091                   0.745208         0.652148   \n",
       "std       0.161079                   0.185835         0.105913   \n",
       "min      -0.338000                   0.035000         0.179000   \n",
       "25%      -0.112000                   0.688000         0.572000   \n",
       "50%      -0.023000                   0.800000         0.663000   \n",
       "75%       0.092000                   0.869000         0.738000   \n",
       "max       0.703000                   0.983000         0.884000   \n",
       "\n",
       "       Negative affect  \n",
       "count      2183.000000  \n",
       "mean          0.271493  \n",
       "std           0.086872  \n",
       "min           0.083000  \n",
       "25%           0.208000  \n",
       "50%           0.261000  \n",
       "75%           0.323000  \n",
       "max           0.705000  "
      ]
     },
     "execution_count": 20,
     "metadata": {},
     "output_type": "execute_result"
    }
   ],
   "source": [
    "df.describe()"
   ]
  },
  {
   "cell_type": "code",
   "execution_count": 21,
   "metadata": {
    "slideshow": {
     "slide_type": "skip"
    }
   },
   "outputs": [
    {
     "data": {
      "text/plain": [
       "11"
      ]
     },
     "execution_count": 21,
     "metadata": {},
     "output_type": "execute_result"
    }
   ],
   "source": [
    "len(df.columns)"
   ]
  },
  {
   "cell_type": "code",
   "execution_count": 22,
   "metadata": {},
   "outputs": [
    {
     "name": "stdout",
     "output_type": "stream",
     "text": [
      "<class 'pandas.core.frame.DataFrame'>\n",
      "RangeIndex: 2199 entries, 0 to 2198\n",
      "Data columns (total 11 columns):\n",
      " #   Column                            Non-Null Count  Dtype  \n",
      "---  ------                            --------------  -----  \n",
      " 0   Country name                      2199 non-null   object \n",
      " 1   year                              2199 non-null   int64  \n",
      " 2   Life Ladder                       2199 non-null   float64\n",
      " 3   Log GDP per capita                2179 non-null   float64\n",
      " 4   Social support                    2186 non-null   float64\n",
      " 5   Healthy life expectancy at birth  2145 non-null   float64\n",
      " 6   Freedom to make life choices      2166 non-null   float64\n",
      " 7   Generosity                        2126 non-null   float64\n",
      " 8   Perceptions of corruption         2083 non-null   float64\n",
      " 9   Positive affect                   2175 non-null   float64\n",
      " 10  Negative affect                   2183 non-null   float64\n",
      "dtypes: float64(9), int64(1), object(1)\n",
      "memory usage: 189.1+ KB\n"
     ]
    }
   ],
   "source": [
    "df.info()"
   ]
  },
  {
   "cell_type": "code",
   "execution_count": 23,
   "metadata": {},
   "outputs": [
    {
     "data": {
      "text/html": [
       "<div>\n",
       "<style scoped>\n",
       "    .dataframe tbody tr th:only-of-type {\n",
       "        vertical-align: middle;\n",
       "    }\n",
       "\n",
       "    .dataframe tbody tr th {\n",
       "        vertical-align: top;\n",
       "    }\n",
       "\n",
       "    .dataframe thead th {\n",
       "        text-align: right;\n",
       "    }\n",
       "</style>\n",
       "<table border=\"1\" class=\"dataframe\">\n",
       "  <thead>\n",
       "    <tr style=\"text-align: right;\">\n",
       "      <th></th>\n",
       "      <th>year</th>\n",
       "      <th>Life Ladder</th>\n",
       "      <th>Log GDP per capita</th>\n",
       "      <th>Social support</th>\n",
       "      <th>Healthy life expectancy at birth</th>\n",
       "      <th>Freedom to make life choices</th>\n",
       "      <th>Generosity</th>\n",
       "      <th>Perceptions of corruption</th>\n",
       "      <th>Positive affect</th>\n",
       "      <th>Negative affect</th>\n",
       "    </tr>\n",
       "  </thead>\n",
       "  <tbody>\n",
       "    <tr>\n",
       "      <th>count</th>\n",
       "      <td>2199.000000</td>\n",
       "      <td>2199.000000</td>\n",
       "      <td>2179.000000</td>\n",
       "      <td>2186.000000</td>\n",
       "      <td>2145.000000</td>\n",
       "      <td>2166.000000</td>\n",
       "      <td>2126.000000</td>\n",
       "      <td>2083.000000</td>\n",
       "      <td>2175.000000</td>\n",
       "      <td>2183.000000</td>\n",
       "    </tr>\n",
       "    <tr>\n",
       "      <th>mean</th>\n",
       "      <td>2014.161437</td>\n",
       "      <td>5.479227</td>\n",
       "      <td>9.389760</td>\n",
       "      <td>0.810681</td>\n",
       "      <td>63.294582</td>\n",
       "      <td>0.747847</td>\n",
       "      <td>0.000091</td>\n",
       "      <td>0.745208</td>\n",
       "      <td>0.652148</td>\n",
       "      <td>0.271493</td>\n",
       "    </tr>\n",
       "    <tr>\n",
       "      <th>std</th>\n",
       "      <td>4.718736</td>\n",
       "      <td>1.125527</td>\n",
       "      <td>1.153402</td>\n",
       "      <td>0.120953</td>\n",
       "      <td>6.901104</td>\n",
       "      <td>0.140137</td>\n",
       "      <td>0.161079</td>\n",
       "      <td>0.185835</td>\n",
       "      <td>0.105913</td>\n",
       "      <td>0.086872</td>\n",
       "    </tr>\n",
       "    <tr>\n",
       "      <th>min</th>\n",
       "      <td>2005.000000</td>\n",
       "      <td>1.281000</td>\n",
       "      <td>5.527000</td>\n",
       "      <td>0.228000</td>\n",
       "      <td>6.720000</td>\n",
       "      <td>0.258000</td>\n",
       "      <td>-0.338000</td>\n",
       "      <td>0.035000</td>\n",
       "      <td>0.179000</td>\n",
       "      <td>0.083000</td>\n",
       "    </tr>\n",
       "    <tr>\n",
       "      <th>25%</th>\n",
       "      <td>2010.000000</td>\n",
       "      <td>4.647000</td>\n",
       "      <td>8.500000</td>\n",
       "      <td>0.747000</td>\n",
       "      <td>59.120000</td>\n",
       "      <td>0.656250</td>\n",
       "      <td>-0.112000</td>\n",
       "      <td>0.688000</td>\n",
       "      <td>0.572000</td>\n",
       "      <td>0.208000</td>\n",
       "    </tr>\n",
       "    <tr>\n",
       "      <th>50%</th>\n",
       "      <td>2014.000000</td>\n",
       "      <td>5.432000</td>\n",
       "      <td>9.499000</td>\n",
       "      <td>0.836000</td>\n",
       "      <td>65.050000</td>\n",
       "      <td>0.770000</td>\n",
       "      <td>-0.023000</td>\n",
       "      <td>0.800000</td>\n",
       "      <td>0.663000</td>\n",
       "      <td>0.261000</td>\n",
       "    </tr>\n",
       "    <tr>\n",
       "      <th>75%</th>\n",
       "      <td>2018.000000</td>\n",
       "      <td>6.309500</td>\n",
       "      <td>10.373500</td>\n",
       "      <td>0.905000</td>\n",
       "      <td>68.500000</td>\n",
       "      <td>0.859000</td>\n",
       "      <td>0.092000</td>\n",
       "      <td>0.869000</td>\n",
       "      <td>0.738000</td>\n",
       "      <td>0.323000</td>\n",
       "    </tr>\n",
       "    <tr>\n",
       "      <th>max</th>\n",
       "      <td>2022.000000</td>\n",
       "      <td>8.019000</td>\n",
       "      <td>11.664000</td>\n",
       "      <td>0.987000</td>\n",
       "      <td>74.475000</td>\n",
       "      <td>0.985000</td>\n",
       "      <td>0.703000</td>\n",
       "      <td>0.983000</td>\n",
       "      <td>0.884000</td>\n",
       "      <td>0.705000</td>\n",
       "    </tr>\n",
       "  </tbody>\n",
       "</table>\n",
       "</div>"
      ],
      "text/plain": [
       "              year  Life Ladder  Log GDP per capita  Social support   \n",
       "count  2199.000000  2199.000000         2179.000000     2186.000000  \\\n",
       "mean   2014.161437     5.479227            9.389760        0.810681   \n",
       "std       4.718736     1.125527            1.153402        0.120953   \n",
       "min    2005.000000     1.281000            5.527000        0.228000   \n",
       "25%    2010.000000     4.647000            8.500000        0.747000   \n",
       "50%    2014.000000     5.432000            9.499000        0.836000   \n",
       "75%    2018.000000     6.309500           10.373500        0.905000   \n",
       "max    2022.000000     8.019000           11.664000        0.987000   \n",
       "\n",
       "       Healthy life expectancy at birth  Freedom to make life choices   \n",
       "count                       2145.000000                   2166.000000  \\\n",
       "mean                          63.294582                      0.747847   \n",
       "std                            6.901104                      0.140137   \n",
       "min                            6.720000                      0.258000   \n",
       "25%                           59.120000                      0.656250   \n",
       "50%                           65.050000                      0.770000   \n",
       "75%                           68.500000                      0.859000   \n",
       "max                           74.475000                      0.985000   \n",
       "\n",
       "        Generosity  Perceptions of corruption  Positive affect   \n",
       "count  2126.000000                2083.000000      2175.000000  \\\n",
       "mean      0.000091                   0.745208         0.652148   \n",
       "std       0.161079                   0.185835         0.105913   \n",
       "min      -0.338000                   0.035000         0.179000   \n",
       "25%      -0.112000                   0.688000         0.572000   \n",
       "50%      -0.023000                   0.800000         0.663000   \n",
       "75%       0.092000                   0.869000         0.738000   \n",
       "max       0.703000                   0.983000         0.884000   \n",
       "\n",
       "       Negative affect  \n",
       "count      2183.000000  \n",
       "mean          0.271493  \n",
       "std           0.086872  \n",
       "min           0.083000  \n",
       "25%           0.208000  \n",
       "50%           0.261000  \n",
       "75%           0.323000  \n",
       "max           0.705000  "
      ]
     },
     "execution_count": 23,
     "metadata": {},
     "output_type": "execute_result"
    }
   ],
   "source": [
    "df.describe()"
   ]
  },
  {
   "cell_type": "markdown",
   "metadata": {},
   "source": [
    "_**...replacing spaces in the column names**_"
   ]
  },
  {
   "cell_type": "code",
   "execution_count": 24,
   "metadata": {},
   "outputs": [],
   "source": [
    "df.columns = df.columns.str.replace(' ','_')\n",
    "df.columns = df.columns.str.lower( )\n"
   ]
  },
  {
   "cell_type": "code",
   "execution_count": 25,
   "metadata": {},
   "outputs": [
    {
     "data": {
      "text/plain": [
       "Index(['country_name', 'year', 'life_ladder', 'log_gdp_per_capita',\n",
       "       'social_support', 'healthy_life_expectancy_at_birth',\n",
       "       'freedom_to_make_life_choices', 'generosity',\n",
       "       'perceptions_of_corruption', 'positive_affect', 'negative_affect'],\n",
       "      dtype='object')"
      ]
     },
     "execution_count": 25,
     "metadata": {},
     "output_type": "execute_result"
    }
   ],
   "source": [
    "df.columns"
   ]
  },
  {
   "cell_type": "code",
   "execution_count": 26,
   "metadata": {},
   "outputs": [],
   "source": [
    "df_eda = df[['country_name', 'year', 'life_ladder', 'log_gdp_per_capita',\n",
    "       'social_support', 'healthy_life_expectancy_at_birth',\n",
    "       'freedom_to_make_life_choices','perceptions_of_corruption']]"
   ]
  },
  {
   "cell_type": "code",
   "execution_count": 27,
   "metadata": {},
   "outputs": [
    {
     "data": {
      "text/html": [
       "<div>\n",
       "<style scoped>\n",
       "    .dataframe tbody tr th:only-of-type {\n",
       "        vertical-align: middle;\n",
       "    }\n",
       "\n",
       "    .dataframe tbody tr th {\n",
       "        vertical-align: top;\n",
       "    }\n",
       "\n",
       "    .dataframe thead th {\n",
       "        text-align: right;\n",
       "    }\n",
       "</style>\n",
       "<table border=\"1\" class=\"dataframe\">\n",
       "  <thead>\n",
       "    <tr style=\"text-align: right;\">\n",
       "      <th></th>\n",
       "      <th>country_name</th>\n",
       "      <th>year</th>\n",
       "      <th>life_ladder</th>\n",
       "      <th>log_gdp_per_capita</th>\n",
       "      <th>social_support</th>\n",
       "      <th>healthy_life_expectancy_at_birth</th>\n",
       "      <th>freedom_to_make_life_choices</th>\n",
       "      <th>perceptions_of_corruption</th>\n",
       "    </tr>\n",
       "  </thead>\n",
       "  <tbody>\n",
       "    <tr>\n",
       "      <th>0</th>\n",
       "      <td>Afghanistan</td>\n",
       "      <td>2008</td>\n",
       "      <td>3.724</td>\n",
       "      <td>7.350</td>\n",
       "      <td>0.451</td>\n",
       "      <td>50.500</td>\n",
       "      <td>0.718</td>\n",
       "      <td>0.882</td>\n",
       "    </tr>\n",
       "    <tr>\n",
       "      <th>1</th>\n",
       "      <td>Afghanistan</td>\n",
       "      <td>2009</td>\n",
       "      <td>4.402</td>\n",
       "      <td>7.509</td>\n",
       "      <td>0.552</td>\n",
       "      <td>50.800</td>\n",
       "      <td>0.679</td>\n",
       "      <td>0.850</td>\n",
       "    </tr>\n",
       "    <tr>\n",
       "      <th>2</th>\n",
       "      <td>Afghanistan</td>\n",
       "      <td>2010</td>\n",
       "      <td>4.758</td>\n",
       "      <td>7.614</td>\n",
       "      <td>0.539</td>\n",
       "      <td>51.100</td>\n",
       "      <td>0.600</td>\n",
       "      <td>0.707</td>\n",
       "    </tr>\n",
       "    <tr>\n",
       "      <th>3</th>\n",
       "      <td>Afghanistan</td>\n",
       "      <td>2011</td>\n",
       "      <td>3.832</td>\n",
       "      <td>7.581</td>\n",
       "      <td>0.521</td>\n",
       "      <td>51.400</td>\n",
       "      <td>0.496</td>\n",
       "      <td>0.731</td>\n",
       "    </tr>\n",
       "    <tr>\n",
       "      <th>4</th>\n",
       "      <td>Afghanistan</td>\n",
       "      <td>2012</td>\n",
       "      <td>3.783</td>\n",
       "      <td>7.661</td>\n",
       "      <td>0.521</td>\n",
       "      <td>51.700</td>\n",
       "      <td>0.531</td>\n",
       "      <td>0.776</td>\n",
       "    </tr>\n",
       "    <tr>\n",
       "      <th>...</th>\n",
       "      <td>...</td>\n",
       "      <td>...</td>\n",
       "      <td>...</td>\n",
       "      <td>...</td>\n",
       "      <td>...</td>\n",
       "      <td>...</td>\n",
       "      <td>...</td>\n",
       "      <td>...</td>\n",
       "    </tr>\n",
       "    <tr>\n",
       "      <th>2194</th>\n",
       "      <td>Zimbabwe</td>\n",
       "      <td>2018</td>\n",
       "      <td>3.616</td>\n",
       "      <td>7.783</td>\n",
       "      <td>0.775</td>\n",
       "      <td>52.625</td>\n",
       "      <td>0.763</td>\n",
       "      <td>0.844</td>\n",
       "    </tr>\n",
       "    <tr>\n",
       "      <th>2195</th>\n",
       "      <td>Zimbabwe</td>\n",
       "      <td>2019</td>\n",
       "      <td>2.694</td>\n",
       "      <td>7.698</td>\n",
       "      <td>0.759</td>\n",
       "      <td>53.100</td>\n",
       "      <td>0.632</td>\n",
       "      <td>0.831</td>\n",
       "    </tr>\n",
       "    <tr>\n",
       "      <th>2196</th>\n",
       "      <td>Zimbabwe</td>\n",
       "      <td>2020</td>\n",
       "      <td>3.160</td>\n",
       "      <td>7.596</td>\n",
       "      <td>0.717</td>\n",
       "      <td>53.575</td>\n",
       "      <td>0.643</td>\n",
       "      <td>0.789</td>\n",
       "    </tr>\n",
       "    <tr>\n",
       "      <th>2197</th>\n",
       "      <td>Zimbabwe</td>\n",
       "      <td>2021</td>\n",
       "      <td>3.155</td>\n",
       "      <td>7.657</td>\n",
       "      <td>0.685</td>\n",
       "      <td>54.050</td>\n",
       "      <td>0.668</td>\n",
       "      <td>0.757</td>\n",
       "    </tr>\n",
       "    <tr>\n",
       "      <th>2198</th>\n",
       "      <td>Zimbabwe</td>\n",
       "      <td>2022</td>\n",
       "      <td>3.296</td>\n",
       "      <td>7.670</td>\n",
       "      <td>0.666</td>\n",
       "      <td>54.525</td>\n",
       "      <td>0.652</td>\n",
       "      <td>0.753</td>\n",
       "    </tr>\n",
       "  </tbody>\n",
       "</table>\n",
       "<p>2199 rows × 8 columns</p>\n",
       "</div>"
      ],
      "text/plain": [
       "     country_name  year  life_ladder  log_gdp_per_capita  social_support   \n",
       "0     Afghanistan  2008        3.724               7.350           0.451  \\\n",
       "1     Afghanistan  2009        4.402               7.509           0.552   \n",
       "2     Afghanistan  2010        4.758               7.614           0.539   \n",
       "3     Afghanistan  2011        3.832               7.581           0.521   \n",
       "4     Afghanistan  2012        3.783               7.661           0.521   \n",
       "...           ...   ...          ...                 ...             ...   \n",
       "2194     Zimbabwe  2018        3.616               7.783           0.775   \n",
       "2195     Zimbabwe  2019        2.694               7.698           0.759   \n",
       "2196     Zimbabwe  2020        3.160               7.596           0.717   \n",
       "2197     Zimbabwe  2021        3.155               7.657           0.685   \n",
       "2198     Zimbabwe  2022        3.296               7.670           0.666   \n",
       "\n",
       "      healthy_life_expectancy_at_birth  freedom_to_make_life_choices   \n",
       "0                               50.500                         0.718  \\\n",
       "1                               50.800                         0.679   \n",
       "2                               51.100                         0.600   \n",
       "3                               51.400                         0.496   \n",
       "4                               51.700                         0.531   \n",
       "...                                ...                           ...   \n",
       "2194                            52.625                         0.763   \n",
       "2195                            53.100                         0.632   \n",
       "2196                            53.575                         0.643   \n",
       "2197                            54.050                         0.668   \n",
       "2198                            54.525                         0.652   \n",
       "\n",
       "      perceptions_of_corruption  \n",
       "0                         0.882  \n",
       "1                         0.850  \n",
       "2                         0.707  \n",
       "3                         0.731  \n",
       "4                         0.776  \n",
       "...                         ...  \n",
       "2194                      0.844  \n",
       "2195                      0.831  \n",
       "2196                      0.789  \n",
       "2197                      0.757  \n",
       "2198                      0.753  \n",
       "\n",
       "[2199 rows x 8 columns]"
      ]
     },
     "execution_count": 27,
     "metadata": {},
     "output_type": "execute_result"
    }
   ],
   "source": [
    "df_eda"
   ]
  },
  {
   "cell_type": "code",
   "execution_count": 28,
   "metadata": {},
   "outputs": [
    {
     "data": {
      "image/png": "[encoded data removed]",
      "text/plain": [
       "<Figure size 1400x1200 with 2 Axes>"
      ]
     },
     "metadata": {},
     "output_type": "display_data"
    }
   ],
   "source": [
    "corr_columns=['life_ladder', 'log_gdp_per_capita',\n",
    "       'social_support', 'healthy_life_expectancy_at_birth',\n",
    "       'freedom_to_make_life_choices',\n",
    "       'perceptions_of_corruption']\n",
    "corr_mtrx=df_eda[corr_columns].corr(numeric_only=True)\n",
    "plt.figure(figsize = (14,12))\n",
    "mask = np.triu(corr_mtrx)\n",
    "ax = sns.heatmap(corr_mtrx, vmax=1, vmin=-1, linewidths=.5,mask= mask, annot=True, cmap='coolwarm')"
   ]
  },
  {
   "cell_type": "code",
   "execution_count": 29,
   "metadata": {},
   "outputs": [
    {
     "data": {
      "text/plain": [
       "0       False\n",
       "1       False\n",
       "2       False\n",
       "3       False\n",
       "4       False\n",
       "        ...  \n",
       "2194    False\n",
       "2195    False\n",
       "2196    False\n",
       "2197    False\n",
       "2198    False\n",
       "Name: social_support, Length: 2199, dtype: bool"
      ]
     },
     "execution_count": 29,
     "metadata": {},
     "output_type": "execute_result"
    }
   ],
   "source": [
    "df_eda.social_support.isna()"
   ]
  },
  {
   "cell_type": "code",
   "execution_count": null,
   "metadata": {},
   "outputs": [],
   "source": []
  },
  {
   "cell_type": "markdown",
   "metadata": {},
   "source": [
    "##### Summary:\n",
    "- **There are ll columnst (10 features plus our target variable, 'life_ladder'.)**\n",
    "- **2199 Rows or observations in total.**\n",
    "- **Missing values  in columns**\n",
    "    - log_gdp_per_capita\n",
    "    - social_support\n",
    "    - healthy_life_expectancy_at_birth'\n",
    "    - freedom_to_make_life_choices'\n",
    "    - generosity'\n",
    "    - perceptions_of_corruption\n",
    "    - positive_affect \n",
    "    - negative_affect\n",
    "- **Do we have any duplicates?**\n",
    "- **In which rows are the values missing?**"
   ]
  },
  {
   "cell_type": "code",
   "execution_count": 30,
   "metadata": {},
   "outputs": [
    {
     "data": {
      "text/plain": [
       "False    2199\n",
       "Name: count, dtype: int64"
      ]
     },
     "execution_count": 30,
     "metadata": {},
     "output_type": "execute_result"
    }
   ],
   "source": [
    "#how many duplicates?\n",
    "df.duplicated().value_counts()"
   ]
  },
  {
   "cell_type": "markdown",
   "metadata": {},
   "source": [
    "_...No,there are no duplicated rows._"
   ]
  },
  {
   "cell_type": "code",
   "execution_count": 31,
   "metadata": {},
   "outputs": [
    {
     "data": {
      "text/html": [
       "<div>\n",
       "<style scoped>\n",
       "    .dataframe tbody tr th:only-of-type {\n",
       "        vertical-align: middle;\n",
       "    }\n",
       "\n",
       "    .dataframe tbody tr th {\n",
       "        vertical-align: top;\n",
       "    }\n",
       "\n",
       "    .dataframe thead th {\n",
       "        text-align: right;\n",
       "    }\n",
       "</style>\n",
       "<table border=\"1\" class=\"dataframe\">\n",
       "  <thead>\n",
       "    <tr style=\"text-align: right;\">\n",
       "      <th></th>\n",
       "      <th>country_name</th>\n",
       "      <th>year</th>\n",
       "      <th>life_ladder</th>\n",
       "      <th>log_gdp_per_capita</th>\n",
       "      <th>social_support</th>\n",
       "      <th>healthy_life_expectancy_at_birth</th>\n",
       "      <th>freedom_to_make_life_choices</th>\n",
       "      <th>generosity</th>\n",
       "      <th>perceptions_of_corruption</th>\n",
       "      <th>positive_affect</th>\n",
       "      <th>negative_affect</th>\n",
       "    </tr>\n",
       "  </thead>\n",
       "  <tbody>\n",
       "    <tr>\n",
       "      <th>1404</th>\n",
       "      <td>New Zealand</td>\n",
       "      <td>2015</td>\n",
       "      <td>7.418</td>\n",
       "      <td>10.622</td>\n",
       "      <td>0.987</td>\n",
       "      <td>69.900</td>\n",
       "      <td>0.942</td>\n",
       "      <td>0.324</td>\n",
       "      <td>0.186</td>\n",
       "      <td>0.795</td>\n",
       "      <td>0.160</td>\n",
       "    </tr>\n",
       "    <tr>\n",
       "      <th>830</th>\n",
       "      <td>Iceland</td>\n",
       "      <td>2022</td>\n",
       "      <td>7.449</td>\n",
       "      <td>10.935</td>\n",
       "      <td>0.985</td>\n",
       "      <td>72.075</td>\n",
       "      <td>0.936</td>\n",
       "      <td>0.222</td>\n",
       "      <td>0.692</td>\n",
       "      <td>0.768</td>\n",
       "      <td>0.178</td>\n",
       "    </tr>\n",
       "    <tr>\n",
       "      <th>825</th>\n",
       "      <td>Iceland</td>\n",
       "      <td>2016</td>\n",
       "      <td>7.510</td>\n",
       "      <td>10.909</td>\n",
       "      <td>0.985</td>\n",
       "      <td>71.925</td>\n",
       "      <td>0.952</td>\n",
       "      <td>0.276</td>\n",
       "      <td>0.719</td>\n",
       "      <td>0.808</td>\n",
       "      <td>0.158</td>\n",
       "    </tr>\n",
       "    <tr>\n",
       "      <th>2004</th>\n",
       "      <td>Turkmenistan</td>\n",
       "      <td>2018</td>\n",
       "      <td>4.621</td>\n",
       "      <td>9.569</td>\n",
       "      <td>0.984</td>\n",
       "      <td>62.000</td>\n",
       "      <td>0.858</td>\n",
       "      <td>0.259</td>\n",
       "      <td>NaN</td>\n",
       "      <td>0.567</td>\n",
       "      <td>0.189</td>\n",
       "    </tr>\n",
       "    <tr>\n",
       "      <th>894</th>\n",
       "      <td>Ireland</td>\n",
       "      <td>2008</td>\n",
       "      <td>7.568</td>\n",
       "      <td>10.939</td>\n",
       "      <td>0.983</td>\n",
       "      <td>69.860</td>\n",
       "      <td>0.894</td>\n",
       "      <td>0.317</td>\n",
       "      <td>0.487</td>\n",
       "      <td>0.745</td>\n",
       "      <td>0.148</td>\n",
       "    </tr>\n",
       "    <tr>\n",
       "      <th>...</th>\n",
       "      <td>...</td>\n",
       "      <td>...</td>\n",
       "      <td>...</td>\n",
       "      <td>...</td>\n",
       "      <td>...</td>\n",
       "      <td>...</td>\n",
       "      <td>...</td>\n",
       "      <td>...</td>\n",
       "      <td>...</td>\n",
       "      <td>...</td>\n",
       "      <td>...</td>\n",
       "    </tr>\n",
       "    <tr>\n",
       "      <th>1602</th>\n",
       "      <td>Qatar</td>\n",
       "      <td>2015</td>\n",
       "      <td>6.375</td>\n",
       "      <td>11.532</td>\n",
       "      <td>NaN</td>\n",
       "      <td>66.400</td>\n",
       "      <td>NaN</td>\n",
       "      <td>NaN</td>\n",
       "      <td>NaN</td>\n",
       "      <td>NaN</td>\n",
       "      <td>NaN</td>\n",
       "    </tr>\n",
       "    <tr>\n",
       "      <th>1966</th>\n",
       "      <td>Tunisia</td>\n",
       "      <td>2009</td>\n",
       "      <td>5.025</td>\n",
       "      <td>9.238</td>\n",
       "      <td>NaN</td>\n",
       "      <td>66.220</td>\n",
       "      <td>0.781</td>\n",
       "      <td>-0.124</td>\n",
       "      <td>0.722</td>\n",
       "      <td>NaN</td>\n",
       "      <td>NaN</td>\n",
       "    </tr>\n",
       "    <tr>\n",
       "      <th>2045</th>\n",
       "      <td>United Arab Emirates</td>\n",
       "      <td>2014</td>\n",
       "      <td>6.540</td>\n",
       "      <td>11.072</td>\n",
       "      <td>NaN</td>\n",
       "      <td>65.340</td>\n",
       "      <td>NaN</td>\n",
       "      <td>NaN</td>\n",
       "      <td>NaN</td>\n",
       "      <td>NaN</td>\n",
       "      <td>NaN</td>\n",
       "    </tr>\n",
       "    <tr>\n",
       "      <th>2072</th>\n",
       "      <td>United States</td>\n",
       "      <td>2007</td>\n",
       "      <td>7.513</td>\n",
       "      <td>10.931</td>\n",
       "      <td>NaN</td>\n",
       "      <td>66.760</td>\n",
       "      <td>0.872</td>\n",
       "      <td>0.193</td>\n",
       "      <td>0.633</td>\n",
       "      <td>0.756</td>\n",
       "      <td>0.232</td>\n",
       "    </tr>\n",
       "    <tr>\n",
       "      <th>2149</th>\n",
       "      <td>Vietnam</td>\n",
       "      <td>2017</td>\n",
       "      <td>5.175</td>\n",
       "      <td>9.111</td>\n",
       "      <td>NaN</td>\n",
       "      <td>65.100</td>\n",
       "      <td>NaN</td>\n",
       "      <td>NaN</td>\n",
       "      <td>NaN</td>\n",
       "      <td>NaN</td>\n",
       "      <td>NaN</td>\n",
       "    </tr>\n",
       "  </tbody>\n",
       "</table>\n",
       "<p>2199 rows × 11 columns</p>\n",
       "</div>"
      ],
      "text/plain": [
       "              country_name  year  life_ladder  log_gdp_per_capita   \n",
       "1404           New Zealand  2015        7.418              10.622  \\\n",
       "830                Iceland  2022        7.449              10.935   \n",
       "825                Iceland  2016        7.510              10.909   \n",
       "2004          Turkmenistan  2018        4.621               9.569   \n",
       "894                Ireland  2008        7.568              10.939   \n",
       "...                    ...   ...          ...                 ...   \n",
       "1602                 Qatar  2015        6.375              11.532   \n",
       "1966               Tunisia  2009        5.025               9.238   \n",
       "2045  United Arab Emirates  2014        6.540              11.072   \n",
       "2072         United States  2007        7.513              10.931   \n",
       "2149               Vietnam  2017        5.175               9.111   \n",
       "\n",
       "      social_support  healthy_life_expectancy_at_birth   \n",
       "1404           0.987                            69.900  \\\n",
       "830            0.985                            72.075   \n",
       "825            0.985                            71.925   \n",
       "2004           0.984                            62.000   \n",
       "894            0.983                            69.860   \n",
       "...              ...                               ...   \n",
       "1602             NaN                            66.400   \n",
       "1966             NaN                            66.220   \n",
       "2045             NaN                            65.340   \n",
       "2072             NaN                            66.760   \n",
       "2149             NaN                            65.100   \n",
       "\n",
       "      freedom_to_make_life_choices  generosity  perceptions_of_corruption   \n",
       "1404                         0.942       0.324                      0.186  \\\n",
       "830                          0.936       0.222                      0.692   \n",
       "825                          0.952       0.276                      0.719   \n",
       "2004                         0.858       0.259                        NaN   \n",
       "894                          0.894       0.317                      0.487   \n",
       "...                            ...         ...                        ...   \n",
       "1602                           NaN         NaN                        NaN   \n",
       "1966                         0.781      -0.124                      0.722   \n",
       "2045                           NaN         NaN                        NaN   \n",
       "2072                         0.872       0.193                      0.633   \n",
       "2149                           NaN         NaN                        NaN   \n",
       "\n",
       "      positive_affect  negative_affect  \n",
       "1404            0.795            0.160  \n",
       "830             0.768            0.178  \n",
       "825             0.808            0.158  \n",
       "2004            0.567            0.189  \n",
       "894             0.745            0.148  \n",
       "...               ...              ...  \n",
       "1602              NaN              NaN  \n",
       "1966              NaN              NaN  \n",
       "2045              NaN              NaN  \n",
       "2072            0.756            0.232  \n",
       "2149              NaN              NaN  \n",
       "\n",
       "[2199 rows x 11 columns]"
      ]
     },
     "execution_count": 31,
     "metadata": {},
     "output_type": "execute_result"
    }
   ],
   "source": [
    "df.sort_values(by='social_support',ascending=False)"
   ]
  },
  {
   "cell_type": "code",
   "execution_count": 33,
   "metadata": {},
   "outputs": [
    {
     "ename": "SyntaxError",
     "evalue": "unterminated string literal (detected at line 4) (3969977199.py, line 4)",
     "output_type": "error",
     "traceback": [
      "\u001b[0;36m  Cell \u001b[0;32mIn[33], line 4\u001b[0;36m\u001b[0m\n\u001b[0;31m    df_top_social_{i}= df.query('year==i) sort_values(by=['year','social_support','country_name'],\u001b[0m\n\u001b[0m                                                                                               ^\u001b[0m\n\u001b[0;31mSyntaxError\u001b[0m\u001b[0;31m:\u001b[0m unterminated string literal (detected at line 4)\n"
     ]
    }
   ],
   "source": [
    "#dfs_by_year = {}\n",
    " \n",
    "##for i in np.arange(2005, 2022)\n",
    "df_top_social_{i}= df.query('year==i) sort_values(by=['year','social_support','country_name'], \n",
    "                              ascending =[True,False, True])"
   ]
  },
  {
   "cell_type": "code",
   "execution_count": 166,
   "metadata": {},
   "outputs": [
    {
     "name": "stdout",
     "output_type": "stream",
     "text": [
      "['df_top_social_2005', 'df_top_social_2006', 'df_top_social_2007', 'df_top_social_2008', 'df_top_social_2009', 'df_top_social_2010']\n"
     ]
    }
   ],
   "source": [
    "dfs_by_year = {}\n",
    "\n",
    "for year in np.arange(2005, 2022):\n",
    "    # Query the DataFrame for the specific year\n",
    "    df_year = df.query('year == @year')\n",
    "    \n",
    "    # Sort the DataFrame by year, social_support, and country_name\n",
    "    df_year_sorted = df_year.sort_values(by=['year', 'social_support', 'country_name'],\n",
    "                                         ascending=[True, False, True])\n",
    "    \n",
    "    # Store the sorted DataFrame in the dictionary\n",
    "    dfs_by_year[f\"df_top_social_{year}\"] = df_year_sorted\n",
    "print(list(dfs_by_year.keys())[0:6])\n"
   ]
  },
  {
   "cell_type": "code",
   "execution_count": 37,
   "metadata": {},
   "outputs": [],
   "source": [
    "# Unpack the dictionary to retrieve the DataFrames\n",
    "df_top_social_2005 = dfs_by_year[\"df_top_social_2005\"]\n",
    "df_top_social_2006 = dfs_by_year[\"df_top_social_2006\"]"
   ]
  },
  {
   "cell_type": "code",
   "execution_count": 116,
   "metadata": {},
   "outputs": [],
   "source": [
    "df_top_social_2021 = dfs_by_year[\"df_top_social_2021\"]\n",
    "df_top_social_2020 = dfs_by_year[\"df_top_social_2020\"]\n"
   ]
  },
  {
   "cell_type": "code",
   "execution_count": 117,
   "metadata": {},
   "outputs": [
    {
     "data": {
      "text/html": [
       "<div>\n",
       "<style scoped>\n",
       "    .dataframe tbody tr th:only-of-type {\n",
       "        vertical-align: middle;\n",
       "    }\n",
       "\n",
       "    .dataframe tbody tr th {\n",
       "        vertical-align: top;\n",
       "    }\n",
       "\n",
       "    .dataframe thead th {\n",
       "        text-align: right;\n",
       "    }\n",
       "</style>\n",
       "<table border=\"1\" class=\"dataframe\">\n",
       "  <thead>\n",
       "    <tr style=\"text-align: right;\">\n",
       "      <th></th>\n",
       "      <th>year</th>\n",
       "      <th>life_ladder</th>\n",
       "      <th>log_gdp_per_capita</th>\n",
       "      <th>social_support</th>\n",
       "      <th>healthy_life_expectancy_at_birth</th>\n",
       "      <th>freedom_to_make_life_choices</th>\n",
       "      <th>generosity</th>\n",
       "      <th>perceptions_of_corruption</th>\n",
       "      <th>positive_affect</th>\n",
       "      <th>negative_affect</th>\n",
       "    </tr>\n",
       "  </thead>\n",
       "  <tbody>\n",
       "    <tr>\n",
       "      <th>count</th>\n",
       "      <td>27.0</td>\n",
       "      <td>27.000000</td>\n",
       "      <td>27.000000</td>\n",
       "      <td>27.000000</td>\n",
       "      <td>27.000000</td>\n",
       "      <td>25.000000</td>\n",
       "      <td>1.000</td>\n",
       "      <td>25.000000</td>\n",
       "      <td>26.000000</td>\n",
       "      <td>26.000000</td>\n",
       "    </tr>\n",
       "    <tr>\n",
       "      <th>mean</th>\n",
       "      <td>2005.0</td>\n",
       "      <td>6.446259</td>\n",
       "      <td>10.124222</td>\n",
       "      <td>0.897407</td>\n",
       "      <td>66.825926</td>\n",
       "      <td>0.829520</td>\n",
       "      <td>0.248</td>\n",
       "      <td>0.715880</td>\n",
       "      <td>0.671962</td>\n",
       "      <td>0.255769</td>\n",
       "    </tr>\n",
       "    <tr>\n",
       "      <th>std</th>\n",
       "      <td>0.0</td>\n",
       "      <td>0.919129</td>\n",
       "      <td>0.683781</td>\n",
       "      <td>0.084185</td>\n",
       "      <td>4.129033</td>\n",
       "      <td>0.105477</td>\n",
       "      <td>NaN</td>\n",
       "      <td>0.198819</td>\n",
       "      <td>0.088513</td>\n",
       "      <td>0.064453</td>\n",
       "    </tr>\n",
       "    <tr>\n",
       "      <th>min</th>\n",
       "      <td>2005.0</td>\n",
       "      <td>4.719000</td>\n",
       "      <td>8.252000</td>\n",
       "      <td>0.591000</td>\n",
       "      <td>53.200000</td>\n",
       "      <td>0.623000</td>\n",
       "      <td>0.248</td>\n",
       "      <td>0.237000</td>\n",
       "      <td>0.479000</td>\n",
       "      <td>0.151000</td>\n",
       "    </tr>\n",
       "    <tr>\n",
       "      <th>25%</th>\n",
       "      <td>2005.0</td>\n",
       "      <td>5.539000</td>\n",
       "      <td>9.653000</td>\n",
       "      <td>0.858000</td>\n",
       "      <td>64.750000</td>\n",
       "      <td>0.782000</td>\n",
       "      <td>0.248</td>\n",
       "      <td>0.598000</td>\n",
       "      <td>0.607250</td>\n",
       "      <td>0.233000</td>\n",
       "    </tr>\n",
       "    <tr>\n",
       "      <th>50%</th>\n",
       "      <td>2005.0</td>\n",
       "      <td>6.620000</td>\n",
       "      <td>10.454000</td>\n",
       "      <td>0.928000</td>\n",
       "      <td>67.100000</td>\n",
       "      <td>0.847000</td>\n",
       "      <td>0.248</td>\n",
       "      <td>0.745000</td>\n",
       "      <td>0.683000</td>\n",
       "      <td>0.242000</td>\n",
       "    </tr>\n",
       "    <tr>\n",
       "      <th>75%</th>\n",
       "      <td>2005.0</td>\n",
       "      <td>7.161500</td>\n",
       "      <td>10.683000</td>\n",
       "      <td>0.953000</td>\n",
       "      <td>70.150000</td>\n",
       "      <td>0.916000</td>\n",
       "      <td>0.248</td>\n",
       "      <td>0.877000</td>\n",
       "      <td>0.757750</td>\n",
       "      <td>0.288000</td>\n",
       "    </tr>\n",
       "    <tr>\n",
       "      <th>max</th>\n",
       "      <td>2005.0</td>\n",
       "      <td>8.019000</td>\n",
       "      <td>10.849000</td>\n",
       "      <td>0.979000</td>\n",
       "      <td>72.400000</td>\n",
       "      <td>0.971000</td>\n",
       "      <td>0.248</td>\n",
       "      <td>0.983000</td>\n",
       "      <td>0.803000</td>\n",
       "      <td>0.456000</td>\n",
       "    </tr>\n",
       "  </tbody>\n",
       "</table>\n",
       "</div>"
      ],
      "text/plain": [
       "         year  life_ladder  log_gdp_per_capita  social_support   \n",
       "count    27.0    27.000000           27.000000       27.000000  \\\n",
       "mean   2005.0     6.446259           10.124222        0.897407   \n",
       "std       0.0     0.919129            0.683781        0.084185   \n",
       "min    2005.0     4.719000            8.252000        0.591000   \n",
       "25%    2005.0     5.539000            9.653000        0.858000   \n",
       "50%    2005.0     6.620000           10.454000        0.928000   \n",
       "75%    2005.0     7.161500           10.683000        0.953000   \n",
       "max    2005.0     8.019000           10.849000        0.979000   \n",
       "\n",
       "       healthy_life_expectancy_at_birth  freedom_to_make_life_choices   \n",
       "count                         27.000000                     25.000000  \\\n",
       "mean                          66.825926                      0.829520   \n",
       "std                            4.129033                      0.105477   \n",
       "min                           53.200000                      0.623000   \n",
       "25%                           64.750000                      0.782000   \n",
       "50%                           67.100000                      0.847000   \n",
       "75%                           70.150000                      0.916000   \n",
       "max                           72.400000                      0.971000   \n",
       "\n",
       "       generosity  perceptions_of_corruption  positive_affect  negative_affect  \n",
       "count       1.000                  25.000000        26.000000        26.000000  \n",
       "mean        0.248                   0.715880         0.671962         0.255769  \n",
       "std           NaN                   0.198819         0.088513         0.064453  \n",
       "min         0.248                   0.237000         0.479000         0.151000  \n",
       "25%         0.248                   0.598000         0.607250         0.233000  \n",
       "50%         0.248                   0.745000         0.683000         0.242000  \n",
       "75%         0.248                   0.877000         0.757750         0.288000  \n",
       "max         0.248                   0.983000         0.803000         0.456000  "
      ]
     },
     "execution_count": 117,
     "metadata": {},
     "output_type": "execute_result"
    }
   ],
   "source": [
    "df_top_social_2005.describe()"
   ]
  },
  {
   "cell_type": "code",
   "execution_count": 118,
   "metadata": {},
   "outputs": [
    {
     "name": "stdout",
     "output_type": "stream",
     "text": [
      "<class 'pandas.core.frame.DataFrame'>\n",
      "Index: 27 entries, 2054 to 1486\n",
      "Data columns (total 11 columns):\n",
      " #   Column                            Non-Null Count  Dtype  \n",
      "---  ------                            --------------  -----  \n",
      " 0   country_name                      27 non-null     object \n",
      " 1   year                              27 non-null     int64  \n",
      " 2   life_ladder                       27 non-null     float64\n",
      " 3   log_gdp_per_capita                27 non-null     float64\n",
      " 4   social_support                    27 non-null     float64\n",
      " 5   healthy_life_expectancy_at_birth  27 non-null     float64\n",
      " 6   freedom_to_make_life_choices      25 non-null     float64\n",
      " 7   generosity                        1 non-null      float64\n",
      " 8   perceptions_of_corruption         25 non-null     float64\n",
      " 9   positive_affect                   26 non-null     float64\n",
      " 10  negative_affect                   26 non-null     float64\n",
      "dtypes: float64(9), int64(1), object(1)\n",
      "memory usage: 2.5+ KB\n"
     ]
    }
   ],
   "source": [
    "df_top_social_2005.info()"
   ]
  },
  {
   "cell_type": "code",
   "execution_count": 119,
   "metadata": {},
   "outputs": [
    {
     "data": {
      "text/plain": [
       "475              Cuba\n",
       "893           Ireland\n",
       "623           Finland\n",
       "2071    United States\n",
       "1473           Norway\n",
       "            ...      \n",
       "671           Georgia\n",
       "1696     Sierra Leone\n",
       "1179           Malawi\n",
       "181             Benin\n",
       "1950             Togo\n",
       "Name: country_name, Length: 89, dtype: object"
      ]
     },
     "execution_count": 119,
     "metadata": {},
     "output_type": "execute_result"
    }
   ],
   "source": [
    "df_top_social_2006['country_name']"
   ]
  },
  {
   "cell_type": "code",
   "execution_count": 120,
   "metadata": {},
   "outputs": [
    {
     "data": {
      "image/png": "[encoded data removed]",
      "text/plain": [
       "<Figure size 640x480 with 1 Axes>"
      ]
     },
     "metadata": {},
     "output_type": "display_data"
    }
   ],
   "source": [
    "ax= sns.barplot(df_top_social_2006.head(15), x=\"country_name\", y=\"social_support\")\n",
    "ax.set_xticklabels(ax.get_xticklabels(), rotation=46, horizontalalignment='right')\n",
    "# Manually set y-axis limits and adjust tick marks\n",
    "ax.set_ylim(0.9, 1.0)  # Adjust the range of the y-axis\n",
    "#ax.set_yticks([0.9, 0.91, 0.9, 1.0, 1.1])  # Set custom tick marks\n",
    "sns.barplot(df_top_social_2006.head(15), x=\"country_name\", y=\"life_ladder\")\n",
    "\n",
    "plt.show();"
   ]
  },
  {
   "cell_type": "code",
   "execution_count": 121,
   "metadata": {},
   "outputs": [
    {
     "data": {
      "image/png": "[encoded data removed]",
      "text/plain": [
       "<Figure size 640x480 with 2 Axes>"
      ]
     },
     "metadata": {},
     "output_type": "display_data"
    }
   ],
   "source": [
    "import seaborn as sns\n",
    "import matplotlib.pyplot as plt\n",
    "\n",
    "# Assuming df_top_social_2006 is your DataFrame\n",
    "# Create a single axis object\n",
    "fig, ax1 = plt.subplots()\n",
    "ax2= ax1.twinx()\n",
    "# Plot the first bar plot for \"social_support\"\n",
    "sns.barplot(data=df_top_social_2006.head(15), x=\"country_name\", y=\"social_support\", ax=ax1, color ='blue')\n",
    "\n",
    "# Rotate x-axis tick labels to 46 degrees and align them towards the right\n",
    "ax1.set_xticklabels(ax.get_xticklabels(), rotation=46, horizontalalignment='right')\n",
    "\n",
    "# Manually set y-axis limits and adjust tick marks for \"social_support\"\n",
    "#ax.set_ylim(0.9, 1.0)  # Adjust the range of the y-axis\n",
    "\n",
    "# Plot the second bar plot for \"life_ladder\" on the same axis\n",
    "sns.barplot(data=df_top_social_2006.head(15), x=\"country_name\", y=\"life_ladder\", ax=ax2, color='orange')\n",
    "\n",
    "plt.show()\n",
    "\n"
   ]
  },
  {
   "cell_type": "code",
   "execution_count": 122,
   "metadata": {},
   "outputs": [
    {
     "data": {
      "text/html": [
       "<div>\n",
       "<style scoped>\n",
       "    .dataframe tbody tr th:only-of-type {\n",
       "        vertical-align: middle;\n",
       "    }\n",
       "\n",
       "    .dataframe tbody tr th {\n",
       "        vertical-align: top;\n",
       "    }\n",
       "\n",
       "    .dataframe thead th {\n",
       "        text-align: right;\n",
       "    }\n",
       "</style>\n",
       "<table border=\"1\" class=\"dataframe\">\n",
       "  <thead>\n",
       "    <tr style=\"text-align: right;\">\n",
       "      <th></th>\n",
       "      <th>country_name</th>\n",
       "      <th>year</th>\n",
       "      <th>life_ladder</th>\n",
       "      <th>log_gdp_per_capita</th>\n",
       "      <th>social_support</th>\n",
       "      <th>healthy_life_expectancy_at_birth</th>\n",
       "      <th>freedom_to_make_life_choices</th>\n",
       "      <th>generosity</th>\n",
       "      <th>perceptions_of_corruption</th>\n",
       "      <th>positive_affect</th>\n",
       "      <th>negative_affect</th>\n",
       "    </tr>\n",
       "  </thead>\n",
       "  <tbody>\n",
       "    <tr>\n",
       "      <th>828</th>\n",
       "      <td>Iceland</td>\n",
       "      <td>2020</td>\n",
       "      <td>7.575</td>\n",
       "      <td>10.862</td>\n",
       "      <td>0.983</td>\n",
       "      <td>72.025</td>\n",
       "      <td>0.949</td>\n",
       "      <td>0.153</td>\n",
       "      <td>0.644</td>\n",
       "      <td>0.808</td>\n",
       "      <td>0.172</td>\n",
       "    </tr>\n",
       "    <tr>\n",
       "      <th>1011</th>\n",
       "      <td>Kazakhstan</td>\n",
       "      <td>2020</td>\n",
       "      <td>6.168</td>\n",
       "      <td>10.141</td>\n",
       "      <td>0.966</td>\n",
       "      <td>65.400</td>\n",
       "      <td>0.872</td>\n",
       "      <td>-0.060</td>\n",
       "      <td>0.661</td>\n",
       "      <td>0.620</td>\n",
       "      <td>0.150</td>\n",
       "    </tr>\n",
       "    <tr>\n",
       "      <th>502</th>\n",
       "      <td>Czechia</td>\n",
       "      <td>2020</td>\n",
       "      <td>6.897</td>\n",
       "      <td>10.562</td>\n",
       "      <td>0.964</td>\n",
       "      <td>68.925</td>\n",
       "      <td>0.906</td>\n",
       "      <td>-0.133</td>\n",
       "      <td>0.884</td>\n",
       "      <td>0.748</td>\n",
       "      <td>0.290</td>\n",
       "    </tr>\n",
       "    <tr>\n",
       "      <th>635</th>\n",
       "      <td>Finland</td>\n",
       "      <td>2020</td>\n",
       "      <td>7.889</td>\n",
       "      <td>10.767</td>\n",
       "      <td>0.962</td>\n",
       "      <td>71.075</td>\n",
       "      <td>0.962</td>\n",
       "      <td>-0.121</td>\n",
       "      <td>0.164</td>\n",
       "      <td>0.748</td>\n",
       "      <td>0.193</td>\n",
       "    </tr>\n",
       "    <tr>\n",
       "      <th>906</th>\n",
       "      <td>Ireland</td>\n",
       "      <td>2020</td>\n",
       "      <td>7.035</td>\n",
       "      <td>11.420</td>\n",
       "      <td>0.960</td>\n",
       "      <td>71.200</td>\n",
       "      <td>0.882</td>\n",
       "      <td>0.002</td>\n",
       "      <td>0.356</td>\n",
       "      <td>0.753</td>\n",
       "      <td>0.246</td>\n",
       "    </tr>\n",
       "    <tr>\n",
       "      <th>...</th>\n",
       "      <td>...</td>\n",
       "      <td>...</td>\n",
       "      <td>...</td>\n",
       "      <td>...</td>\n",
       "      <td>...</td>\n",
       "      <td>...</td>\n",
       "      <td>...</td>\n",
       "      <td>...</td>\n",
       "      <td>...</td>\n",
       "      <td>...</td>\n",
       "      <td>...</td>\n",
       "    </tr>\n",
       "    <tr>\n",
       "      <th>1500</th>\n",
       "      <td>Pakistan</td>\n",
       "      <td>2020</td>\n",
       "      <td>4.624</td>\n",
       "      <td>8.518</td>\n",
       "      <td>0.594</td>\n",
       "      <td>57.175</td>\n",
       "      <td>0.767</td>\n",
       "      <td>0.006</td>\n",
       "      <td>0.833</td>\n",
       "      <td>0.470</td>\n",
       "      <td>0.376</td>\n",
       "    </tr>\n",
       "    <tr>\n",
       "      <th>1221</th>\n",
       "      <td>Mali</td>\n",
       "      <td>2020</td>\n",
       "      <td>4.269</td>\n",
       "      <td>7.661</td>\n",
       "      <td>0.568</td>\n",
       "      <td>55.000</td>\n",
       "      <td>0.645</td>\n",
       "      <td>-0.065</td>\n",
       "      <td>0.895</td>\n",
       "      <td>0.648</td>\n",
       "      <td>0.440</td>\n",
       "    </tr>\n",
       "    <tr>\n",
       "      <th>1332</th>\n",
       "      <td>Morocco</td>\n",
       "      <td>2020</td>\n",
       "      <td>4.803</td>\n",
       "      <td>8.929</td>\n",
       "      <td>0.553</td>\n",
       "      <td>63.800</td>\n",
       "      <td>0.819</td>\n",
       "      <td>-0.235</td>\n",
       "      <td>0.803</td>\n",
       "      <td>0.548</td>\n",
       "      <td>0.256</td>\n",
       "    </tr>\n",
       "    <tr>\n",
       "      <th>1115</th>\n",
       "      <td>Lebanon</td>\n",
       "      <td>2020</td>\n",
       "      <td>2.634</td>\n",
       "      <td>9.531</td>\n",
       "      <td>0.547</td>\n",
       "      <td>66.075</td>\n",
       "      <td>0.552</td>\n",
       "      <td>-0.136</td>\n",
       "      <td>0.884</td>\n",
       "      <td>0.352</td>\n",
       "      <td>0.482</td>\n",
       "    </tr>\n",
       "    <tr>\n",
       "      <th>192</th>\n",
       "      <td>Benin</td>\n",
       "      <td>2020</td>\n",
       "      <td>4.408</td>\n",
       "      <td>8.067</td>\n",
       "      <td>0.507</td>\n",
       "      <td>55.800</td>\n",
       "      <td>0.783</td>\n",
       "      <td>-0.083</td>\n",
       "      <td>0.532</td>\n",
       "      <td>0.557</td>\n",
       "      <td>0.305</td>\n",
       "    </tr>\n",
       "  </tbody>\n",
       "</table>\n",
       "<p>116 rows × 11 columns</p>\n",
       "</div>"
      ],
      "text/plain": [
       "     country_name  year  life_ladder  log_gdp_per_capita  social_support   \n",
       "828       Iceland  2020        7.575              10.862           0.983  \\\n",
       "1011   Kazakhstan  2020        6.168              10.141           0.966   \n",
       "502       Czechia  2020        6.897              10.562           0.964   \n",
       "635       Finland  2020        7.889              10.767           0.962   \n",
       "906       Ireland  2020        7.035              11.420           0.960   \n",
       "...           ...   ...          ...                 ...             ...   \n",
       "1500     Pakistan  2020        4.624               8.518           0.594   \n",
       "1221         Mali  2020        4.269               7.661           0.568   \n",
       "1332      Morocco  2020        4.803               8.929           0.553   \n",
       "1115      Lebanon  2020        2.634               9.531           0.547   \n",
       "192         Benin  2020        4.408               8.067           0.507   \n",
       "\n",
       "      healthy_life_expectancy_at_birth  freedom_to_make_life_choices   \n",
       "828                             72.025                         0.949  \\\n",
       "1011                            65.400                         0.872   \n",
       "502                             68.925                         0.906   \n",
       "635                             71.075                         0.962   \n",
       "906                             71.200                         0.882   \n",
       "...                                ...                           ...   \n",
       "1500                            57.175                         0.767   \n",
       "1221                            55.000                         0.645   \n",
       "1332                            63.800                         0.819   \n",
       "1115                            66.075                         0.552   \n",
       "192                             55.800                         0.783   \n",
       "\n",
       "      generosity  perceptions_of_corruption  positive_affect  negative_affect  \n",
       "828        0.153                      0.644            0.808            0.172  \n",
       "1011      -0.060                      0.661            0.620            0.150  \n",
       "502       -0.133                      0.884            0.748            0.290  \n",
       "635       -0.121                      0.164            0.748            0.193  \n",
       "906        0.002                      0.356            0.753            0.246  \n",
       "...          ...                        ...              ...              ...  \n",
       "1500       0.006                      0.833            0.470            0.376  \n",
       "1221      -0.065                      0.895            0.648            0.440  \n",
       "1332      -0.235                      0.803            0.548            0.256  \n",
       "1115      -0.136                      0.884            0.352            0.482  \n",
       "192       -0.083                      0.532            0.557            0.305  \n",
       "\n",
       "[116 rows x 11 columns]"
      ]
     },
     "execution_count": 122,
     "metadata": {},
     "output_type": "execute_result"
    }
   ],
   "source": [
    "df_top_social_2020"
   ]
  },
  {
   "cell_type": "code",
   "execution_count": 123,
   "metadata": {},
   "outputs": [
    {
     "data": {
      "application/vnd.plotly.v1+json": {
       "config": {
        "plotlyServerURL": "https://plot.ly"
       },
       "data": [
        {
         "alignmentgroup": "True",
         "hovertemplate": "country_name=%{x}<br>life_ladder=%{y}<br>social_support=%{marker.color}<extra></extra>",
         "legendgroup": "",
         "marker": {
          "color": [
           0.98,
           0.97,
           0.955,
           0.954,
           0.951,
           0.95,
           0.95,
           0.948,
           0.948,
           0.946
          ],
          "coloraxis": "coloraxis",
          "pattern": {
           "shape": ""
          }
         },
         "name": "",
         "offsetgroup": "",
         "orientation": "v",
         "showlegend": false,
         "textposition": "auto",
         "type": "bar",
         "x": [
          "Iceland",
          "Finland",
          "Slovenia",
          "Latvia",
          "Slovakia",
          "Czechia",
          "New Zealand",
          "Hungary",
          "Norway",
          "Estonia"
         ],
         "xaxis": "x",
         "y": [
          7.565,
          7.794,
          6.761,
          6.353,
          6.419,
          6.942,
          7.137,
          6.227,
          7.362,
          6.554
         ],
         "yaxis": "y"
        }
       ],
       "layout": {
        "barmode": "group",
        "coloraxis": {
         "colorbar": {
          "title": {
           "text": "social_support"
          }
         },
         "colorscale": [
          [
           0,
           "#0d0887"
          ],
          [
           0.1111111111111111,
           "#46039f"
          ],
          [
           0.2222222222222222,
           "#7201a8"
          ],
          [
           0.3333333333333333,
           "#9c179e"
          ],
          [
           0.4444444444444444,
           "#bd3786"
          ],
          [
           0.5555555555555556,
           "#d8576b"
          ],
          [
           0.6666666666666666,
           "#ed7953"
          ],
          [
           0.7777777777777778,
           "#fb9f3a"
          ],
          [
           0.8888888888888888,
           "#fdca26"
          ],
          [
           1,
           "#f0f921"
          ]
         ]
        },
        "height": 500,
        "legend": {
         "tracegroupgap": 0
        },
        "margin": {
         "t": 60
        },
        "template": {
         "data": {
          "bar": [
           {
            "error_x": {
             "color": "#2a3f5f"
            },
            "error_y": {
             "color": "#2a3f5f"
            },
            "marker": {
             "line": {
              "color": "#E5ECF6",
              "width": 0.5
             },
             "pattern": {
              "fillmode": "overlay",
              "size": 10,
              "solidity": 0.2
             }
            },
            "type": "bar"
           }
          ],
          "barpolar": [
           {
            "marker": {
             "line": {
              "color": "#E5ECF6",
              "width": 0.5
             },
             "pattern": {
              "fillmode": "overlay",
              "size": 10,
              "solidity": 0.2
             }
            },
            "type": "barpolar"
           }
          ],
          "carpet": [
           {
            "aaxis": {
             "endlinecolor": "#2a3f5f",
             "gridcolor": "white",
             "linecolor": "white",
             "minorgridcolor": "white",
             "startlinecolor": "#2a3f5f"
            },
            "baxis": {
             "endlinecolor": "#2a3f5f",
             "gridcolor": "white",
             "linecolor": "white",
             "minorgridcolor": "white",
             "startlinecolor": "#2a3f5f"
            },
            "type": "carpet"
           }
          ],
          "choropleth": [
           {
            "colorbar": {
             "outlinewidth": 0,
             "ticks": ""
            },
            "type": "choropleth"
           }
          ],
          "contour": [
           {
            "colorbar": {
             "outlinewidth": 0,
             "ticks": ""
            },
            "colorscale": [
             [
              0,
              "#0d0887"
             ],
             [
              0.1111111111111111,
              "#46039f"
             ],
             [
              0.2222222222222222,
              "#7201a8"
             ],
             [
              0.3333333333333333,
              "#9c179e"
             ],
             [
              0.4444444444444444,
              "#bd3786"
             ],
             [
              0.5555555555555556,
              "#d8576b"
             ],
             [
              0.6666666666666666,
              "#ed7953"
             ],
             [
              0.7777777777777778,
              "#fb9f3a"
             ],
             [
              0.8888888888888888,
              "#fdca26"
             ],
             [
              1,
              "#f0f921"
             ]
            ],
            "type": "contour"
           }
          ],
          "contourcarpet": [
           {
            "colorbar": {
             "outlinewidth": 0,
             "ticks": ""
            },
            "type": "contourcarpet"
           }
          ],
          "heatmap": [
           {
            "colorbar": {
             "outlinewidth": 0,
             "ticks": ""
            },
            "colorscale": [
             [
              0,
              "#0d0887"
             ],
             [
              0.1111111111111111,
              "#46039f"
             ],
             [
              0.2222222222222222,
              "#7201a8"
             ],
             [
              0.3333333333333333,
              "#9c179e"
             ],
             [
              0.4444444444444444,
              "#bd3786"
             ],
             [
              0.5555555555555556,
              "#d8576b"
             ],
             [
              0.6666666666666666,
              "#ed7953"
             ],
             [
              0.7777777777777778,
              "#fb9f3a"
             ],
             [
              0.8888888888888888,
              "#fdca26"
             ],
             [
              1,
              "#f0f921"
             ]
            ],
            "type": "heatmap"
           }
          ],
          "heatmapgl": [
           {
            "colorbar": {
             "outlinewidth": 0,
             "ticks": ""
            },
            "colorscale": [
             [
              0,
              "#0d0887"
             ],
             [
              0.1111111111111111,
              "#46039f"
             ],
             [
              0.2222222222222222,
              "#7201a8"
             ],
             [
              0.3333333333333333,
              "#9c179e"
             ],
             [
              0.4444444444444444,
              "#bd3786"
             ],
             [
              0.5555555555555556,
              "#d8576b"
             ],
             [
              0.6666666666666666,
              "#ed7953"
             ],
             [
              0.7777777777777778,
              "#fb9f3a"
             ],
             [
              0.8888888888888888,
              "#fdca26"
             ],
             [
              1,
              "#f0f921"
             ]
            ],
            "type": "heatmapgl"
           }
          ],
          "histogram": [
           {
            "marker": {
             "pattern": {
              "fillmode": "overlay",
              "size": 10,
              "solidity": 0.2
             }
            },
            "type": "histogram"
           }
          ],
          "histogram2d": [
           {
            "colorbar": {
             "outlinewidth": 0,
             "ticks": ""
            },
            "colorscale": [
             [
              0,
              "#0d0887"
             ],
             [
              0.1111111111111111,
              "#46039f"
             ],
             [
              0.2222222222222222,
              "#7201a8"
             ],
             [
              0.3333333333333333,
              "#9c179e"
             ],
             [
              0.4444444444444444,
              "#bd3786"
             ],
             [
              0.5555555555555556,
              "#d8576b"
             ],
             [
              0.6666666666666666,
              "#ed7953"
             ],
             [
              0.7777777777777778,
              "#fb9f3a"
             ],
             [
              0.8888888888888888,
              "#fdca26"
             ],
             [
              1,
              "#f0f921"
             ]
            ],
            "type": "histogram2d"
           }
          ],
          "histogram2dcontour": [
           {
            "colorbar": {
             "outlinewidth": 0,
             "ticks": ""
            },
            "colorscale": [
             [
              0,
              "#0d0887"
             ],
             [
              0.1111111111111111,
              "#46039f"
             ],
             [
              0.2222222222222222,
              "#7201a8"
             ],
             [
              0.3333333333333333,
              "#9c179e"
             ],
             [
              0.4444444444444444,
              "#bd3786"
             ],
             [
              0.5555555555555556,
              "#d8576b"
             ],
             [
              0.6666666666666666,
              "#ed7953"
             ],
             [
              0.7777777777777778,
              "#fb9f3a"
             ],
             [
              0.8888888888888888,
              "#fdca26"
             ],
             [
              1,
              "#f0f921"
             ]
            ],
            "type": "histogram2dcontour"
           }
          ],
          "mesh3d": [
           {
            "colorbar": {
             "outlinewidth": 0,
             "ticks": ""
            },
            "type": "mesh3d"
           }
          ],
          "parcoords": [
           {
            "line": {
             "colorbar": {
              "outlinewidth": 0,
              "ticks": ""
             }
            },
            "type": "parcoords"
           }
          ],
          "pie": [
           {
            "automargin": true,
            "type": "pie"
           }
          ],
          "scatter": [
           {
            "fillpattern": {
             "fillmode": "overlay",
             "size": 10,
             "solidity": 0.2
            },
            "type": "scatter"
           }
          ],
          "scatter3d": [
           {
            "line": {
             "colorbar": {
              "outlinewidth": 0,
              "ticks": ""
             }
            },
            "marker": {
             "colorbar": {
              "outlinewidth": 0,
              "ticks": ""
             }
            },
            "type": "scatter3d"
           }
          ],
          "scattercarpet": [
           {
            "marker": {
             "colorbar": {
              "outlinewidth": 0,
              "ticks": ""
             }
            },
            "type": "scattercarpet"
           }
          ],
          "scattergeo": [
           {
            "marker": {
             "colorbar": {
              "outlinewidth": 0,
              "ticks": ""
             }
            },
            "type": "scattergeo"
           }
          ],
          "scattergl": [
           {
            "marker": {
             "colorbar": {
              "outlinewidth": 0,
              "ticks": ""
             }
            },
            "type": "scattergl"
           }
          ],
          "scattermapbox": [
           {
            "marker": {
             "colorbar": {
              "outlinewidth": 0,
              "ticks": ""
             }
            },
            "type": "scattermapbox"
           }
          ],
          "scatterpolar": [
           {
            "marker": {
             "colorbar": {
              "outlinewidth": 0,
              "ticks": ""
             }
            },
            "type": "scatterpolar"
           }
          ],
          "scatterpolargl": [
           {
            "marker": {
             "colorbar": {
              "outlinewidth": 0,
              "ticks": ""
             }
            },
            "type": "scatterpolargl"
           }
          ],
          "scatterternary": [
           {
            "marker": {
             "colorbar": {
              "outlinewidth": 0,
              "ticks": ""
             }
            },
            "type": "scatterternary"
           }
          ],
          "surface": [
           {
            "colorbar": {
             "outlinewidth": 0,
             "ticks": ""
            },
            "colorscale": [
             [
              0,
              "#0d0887"
             ],
             [
              0.1111111111111111,
              "#46039f"
             ],
             [
              0.2222222222222222,
              "#7201a8"
             ],
             [
              0.3333333333333333,
              "#9c179e"
             ],
             [
              0.4444444444444444,
              "#bd3786"
             ],
             [
              0.5555555555555556,
              "#d8576b"
             ],
             [
              0.6666666666666666,
              "#ed7953"
             ],
             [
              0.7777777777777778,
              "#fb9f3a"
             ],
             [
              0.8888888888888888,
              "#fdca26"
             ],
             [
              1,
              "#f0f921"
             ]
            ],
            "type": "surface"
           }
          ],
          "table": [
           {
            "cells": {
             "fill": {
              "color": "#EBF0F8"
             },
             "line": {
              "color": "white"
             }
            },
            "header": {
             "fill": {
              "color": "#C8D4E3"
             },
             "line": {
              "color": "white"
             }
            },
            "type": "table"
           }
          ]
         },
         "layout": {
          "annotationdefaults": {
           "arrowcolor": "#2a3f5f",
           "arrowhead": 0,
           "arrowwidth": 1
          },
          "autotypenumbers": "strict",
          "coloraxis": {
           "colorbar": {
            "outlinewidth": 0,
            "ticks": ""
           }
          },
          "colorscale": {
           "diverging": [
            [
             0,
             "#8e0152"
            ],
            [
             0.1,
             "#c51b7d"
            ],
            [
             0.2,
             "#de77ae"
            ],
            [
             0.3,
             "#f1b6da"
            ],
            [
             0.4,
             "#fde0ef"
            ],
            [
             0.5,
             "#f7f7f7"
            ],
            [
             0.6,
             "#e6f5d0"
            ],
            [
             0.7,
             "#b8e186"
            ],
            [
             0.8,
             "#7fbc41"
            ],
            [
             0.9,
             "#4d9221"
            ],
            [
             1,
             "#276419"
            ]
           ],
           "sequential": [
            [
             0,
             "#0d0887"
            ],
            [
             0.1111111111111111,
             "#46039f"
            ],
            [
             0.2222222222222222,
             "#7201a8"
            ],
            [
             0.3333333333333333,
             "#9c179e"
            ],
            [
             0.4444444444444444,
             "#bd3786"
            ],
            [
             0.5555555555555556,
             "#d8576b"
            ],
            [
             0.6666666666666666,
             "#ed7953"
            ],
            [
             0.7777777777777778,
             "#fb9f3a"
            ],
            [
             0.8888888888888888,
             "#fdca26"
            ],
            [
             1,
             "#f0f921"
            ]
           ],
           "sequentialminus": [
            [
             0,
             "#0d0887"
            ],
            [
             0.1111111111111111,
             "#46039f"
            ],
            [
             0.2222222222222222,
             "#7201a8"
            ],
            [
             0.3333333333333333,
             "#9c179e"
            ],
            [
             0.4444444444444444,
             "#bd3786"
            ],
            [
             0.5555555555555556,
             "#d8576b"
            ],
            [
             0.6666666666666666,
             "#ed7953"
            ],
            [
             0.7777777777777778,
             "#fb9f3a"
            ],
            [
             0.8888888888888888,
             "#fdca26"
            ],
            [
             1,
             "#f0f921"
            ]
           ]
          },
          "colorway": [
           "#636efa",
           "#EF553B",
           "#00cc96",
           "#ab63fa",
           "#FFA15A",
           "#19d3f3",
           "#FF6692",
           "#B6E880",
           "#FF97FF",
           "#FECB52"
          ],
          "font": {
           "color": "#2a3f5f"
          },
          "geo": {
           "bgcolor": "white",
           "lakecolor": "white",
           "landcolor": "#E5ECF6",
           "showlakes": true,
           "showland": true,
           "subunitcolor": "white"
          },
          "hoverlabel": {
           "align": "left"
          },
          "hovermode": "closest",
          "mapbox": {
           "style": "light"
          },
          "paper_bgcolor": "white",
          "plot_bgcolor": "#E5ECF6",
          "polar": {
           "angularaxis": {
            "gridcolor": "white",
            "linecolor": "white",
            "ticks": ""
           },
           "bgcolor": "#E5ECF6",
           "radialaxis": {
            "gridcolor": "white",
            "linecolor": "white",
            "ticks": ""
           }
          },
          "scene": {
           "xaxis": {
            "backgroundcolor": "#E5ECF6",
            "gridcolor": "white",
            "gridwidth": 2,
            "linecolor": "white",
            "showbackground": true,
            "ticks": "",
            "zerolinecolor": "white"
           },
           "yaxis": {
            "backgroundcolor": "#E5ECF6",
            "gridcolor": "white",
            "gridwidth": 2,
            "linecolor": "white",
            "showbackground": true,
            "ticks": "",
            "zerolinecolor": "white"
           },
           "zaxis": {
            "backgroundcolor": "#E5ECF6",
            "gridcolor": "white",
            "gridwidth": 2,
            "linecolor": "white",
            "showbackground": true,
            "ticks": "",
            "zerolinecolor": "white"
           }
          },
          "shapedefaults": {
           "line": {
            "color": "#2a3f5f"
           }
          },
          "ternary": {
           "aaxis": {
            "gridcolor": "white",
            "linecolor": "white",
            "ticks": ""
           },
           "baxis": {
            "gridcolor": "white",
            "linecolor": "white",
            "ticks": ""
           },
           "bgcolor": "#E5ECF6",
           "caxis": {
            "gridcolor": "white",
            "linecolor": "white",
            "ticks": ""
           }
          },
          "title": {
           "x": 0.05
          },
          "xaxis": {
           "automargin": true,
           "gridcolor": "white",
           "linecolor": "white",
           "ticks": "",
           "title": {
            "standoff": 15
           },
           "zerolinecolor": "white",
           "zerolinewidth": 2
          },
          "yaxis": {
           "automargin": true,
           "gridcolor": "white",
           "linecolor": "white",
           "ticks": "",
           "title": {
            "standoff": 15
           },
           "zerolinecolor": "white",
           "zerolinewidth": 2
          }
         }
        },
        "xaxis": {
         "anchor": "y",
         "domain": [
          0,
          1
         ],
         "title": {
          "text": "country_name"
         }
        },
        "yaxis": {
         "anchor": "x",
         "domain": [
          0,
          1
         ],
         "title": {
          "text": "life_ladder"
         }
        }
       }
      }
     },
     "metadata": {},
     "output_type": "display_data"
    }
   ],
   "source": [
    "import plotly.express as px\n",
    "\n",
    "fig = px.bar(df_top_social_2021.head(10), x=\"country_name\", y=\"life_ladder\",\n",
    "             color='social_support', barmode='group',\n",
    "             #histfunc='avg',\n",
    "             height=500)\n",
    "fig.show()"
   ]
  },
  {
   "cell_type": "code",
   "execution_count": 124,
   "metadata": {},
   "outputs": [
    {
     "data": {
      "application/vnd.plotly.v1+json": {
       "config": {
        "plotlyServerURL": "https://plot.ly"
       },
       "data": [
        {
         "alignmentgroup": "True",
         "hovertemplate": "country_name=%{x}<br>life_ladder=%{y}<br>social_support=%{marker.color}<extra></extra>",
         "legendgroup": "",
         "marker": {
          "color": [
           0.983,
           0.966,
           0.964,
           0.962,
           0.96,
           0.959,
           0.958,
           0.956,
           0.954,
           0.953
          ],
          "coloraxis": "coloraxis",
          "pattern": {
           "shape": ""
          }
         },
         "name": "",
         "offsetgroup": "",
         "orientation": "v",
         "showlegend": false,
         "textposition": "auto",
         "type": "bar",
         "x": [
          "Iceland",
          "Kazakhstan",
          "Czechia",
          "Finland",
          "Ireland",
          "Israel",
          "Estonia",
          "Norway",
          "Slovakia",
          "Lithuania"
         ],
         "xaxis": "x",
         "y": [
          7.575,
          6.168,
          6.897,
          7.889,
          7.035,
          7.195,
          6.453,
          7.29,
          6.519,
          6.391
         ],
         "yaxis": "y"
        }
       ],
       "layout": {
        "barmode": "group",
        "coloraxis": {
         "colorbar": {
          "title": {
           "text": "social_support"
          }
         },
         "colorscale": [
          [
           0,
           "#0d0887"
          ],
          [
           0.1111111111111111,
           "#46039f"
          ],
          [
           0.2222222222222222,
           "#7201a8"
          ],
          [
           0.3333333333333333,
           "#9c179e"
          ],
          [
           0.4444444444444444,
           "#bd3786"
          ],
          [
           0.5555555555555556,
           "#d8576b"
          ],
          [
           0.6666666666666666,
           "#ed7953"
          ],
          [
           0.7777777777777778,
           "#fb9f3a"
          ],
          [
           0.8888888888888888,
           "#fdca26"
          ],
          [
           1,
           "#f0f921"
          ]
         ]
        },
        "height": 500,
        "legend": {
         "tracegroupgap": 0
        },
        "margin": {
         "t": 60
        },
        "template": {
         "data": {
          "bar": [
           {
            "error_x": {
             "color": "#2a3f5f"
            },
            "error_y": {
             "color": "#2a3f5f"
            },
            "marker": {
             "line": {
              "color": "#E5ECF6",
              "width": 0.5
             },
             "pattern": {
              "fillmode": "overlay",
              "size": 10,
              "solidity": 0.2
             }
            },
            "type": "bar"
           }
          ],
          "barpolar": [
           {
            "marker": {
             "line": {
              "color": "#E5ECF6",
              "width": 0.5
             },
             "pattern": {
              "fillmode": "overlay",
              "size": 10,
              "solidity": 0.2
             }
            },
            "type": "barpolar"
           }
          ],
          "carpet": [
           {
            "aaxis": {
             "endlinecolor": "#2a3f5f",
             "gridcolor": "white",
             "linecolor": "white",
             "minorgridcolor": "white",
             "startlinecolor": "#2a3f5f"
            },
            "baxis": {
             "endlinecolor": "#2a3f5f",
             "gridcolor": "white",
             "linecolor": "white",
             "minorgridcolor": "white",
             "startlinecolor": "#2a3f5f"
            },
            "type": "carpet"
           }
          ],
          "choropleth": [
           {
            "colorbar": {
             "outlinewidth": 0,
             "ticks": ""
            },
            "type": "choropleth"
           }
          ],
          "contour": [
           {
            "colorbar": {
             "outlinewidth": 0,
             "ticks": ""
            },
            "colorscale": [
             [
              0,
              "#0d0887"
             ],
             [
              0.1111111111111111,
              "#46039f"
             ],
             [
              0.2222222222222222,
              "#7201a8"
             ],
             [
              0.3333333333333333,
              "#9c179e"
             ],
             [
              0.4444444444444444,
              "#bd3786"
             ],
             [
              0.5555555555555556,
              "#d8576b"
             ],
             [
              0.6666666666666666,
              "#ed7953"
             ],
             [
              0.7777777777777778,
              "#fb9f3a"
             ],
             [
              0.8888888888888888,
              "#fdca26"
             ],
             [
              1,
              "#f0f921"
             ]
            ],
            "type": "contour"
           }
          ],
          "contourcarpet": [
           {
            "colorbar": {
             "outlinewidth": 0,
             "ticks": ""
            },
            "type": "contourcarpet"
           }
          ],
          "heatmap": [
           {
            "colorbar": {
             "outlinewidth": 0,
             "ticks": ""
            },
            "colorscale": [
             [
              0,
              "#0d0887"
             ],
             [
              0.1111111111111111,
              "#46039f"
             ],
             [
              0.2222222222222222,
              "#7201a8"
             ],
             [
              0.3333333333333333,
              "#9c179e"
             ],
             [
              0.4444444444444444,
              "#bd3786"
             ],
             [
              0.5555555555555556,
              "#d8576b"
             ],
             [
              0.6666666666666666,
              "#ed7953"
             ],
             [
              0.7777777777777778,
              "#fb9f3a"
             ],
             [
              0.8888888888888888,
              "#fdca26"
             ],
             [
              1,
              "#f0f921"
             ]
            ],
            "type": "heatmap"
           }
          ],
          "heatmapgl": [
           {
            "colorbar": {
             "outlinewidth": 0,
             "ticks": ""
            },
            "colorscale": [
             [
              0,
              "#0d0887"
             ],
             [
              0.1111111111111111,
              "#46039f"
             ],
             [
              0.2222222222222222,
              "#7201a8"
             ],
             [
              0.3333333333333333,
              "#9c179e"
             ],
             [
              0.4444444444444444,
              "#bd3786"
             ],
             [
              0.5555555555555556,
              "#d8576b"
             ],
             [
              0.6666666666666666,
              "#ed7953"
             ],
             [
              0.7777777777777778,
              "#fb9f3a"
             ],
             [
              0.8888888888888888,
              "#fdca26"
             ],
             [
              1,
              "#f0f921"
             ]
            ],
            "type": "heatmapgl"
           }
          ],
          "histogram": [
           {
            "marker": {
             "pattern": {
              "fillmode": "overlay",
              "size": 10,
              "solidity": 0.2
             }
            },
            "type": "histogram"
           }
          ],
          "histogram2d": [
           {
            "colorbar": {
             "outlinewidth": 0,
             "ticks": ""
            },
            "colorscale": [
             [
              0,
              "#0d0887"
             ],
             [
              0.1111111111111111,
              "#46039f"
             ],
             [
              0.2222222222222222,
              "#7201a8"
             ],
             [
              0.3333333333333333,
              "#9c179e"
             ],
             [
              0.4444444444444444,
              "#bd3786"
             ],
             [
              0.5555555555555556,
              "#d8576b"
             ],
             [
              0.6666666666666666,
              "#ed7953"
             ],
             [
              0.7777777777777778,
              "#fb9f3a"
             ],
             [
              0.8888888888888888,
              "#fdca26"
             ],
             [
              1,
              "#f0f921"
             ]
            ],
            "type": "histogram2d"
           }
          ],
          "histogram2dcontour": [
           {
            "colorbar": {
             "outlinewidth": 0,
             "ticks": ""
            },
            "colorscale": [
             [
              0,
              "#0d0887"
             ],
             [
              0.1111111111111111,
              "#46039f"
             ],
             [
              0.2222222222222222,
              "#7201a8"
             ],
             [
              0.3333333333333333,
              "#9c179e"
             ],
             [
              0.4444444444444444,
              "#bd3786"
             ],
             [
              0.5555555555555556,
              "#d8576b"
             ],
             [
              0.6666666666666666,
              "#ed7953"
             ],
             [
              0.7777777777777778,
              "#fb9f3a"
             ],
             [
              0.8888888888888888,
              "#fdca26"
             ],
             [
              1,
              "#f0f921"
             ]
            ],
            "type": "histogram2dcontour"
           }
          ],
          "mesh3d": [
           {
            "colorbar": {
             "outlinewidth": 0,
             "ticks": ""
            },
            "type": "mesh3d"
           }
          ],
          "parcoords": [
           {
            "line": {
             "colorbar": {
              "outlinewidth": 0,
              "ticks": ""
             }
            },
            "type": "parcoords"
           }
          ],
          "pie": [
           {
            "automargin": true,
            "type": "pie"
           }
          ],
          "scatter": [
           {
            "fillpattern": {
             "fillmode": "overlay",
             "size": 10,
             "solidity": 0.2
            },
            "type": "scatter"
           }
          ],
          "scatter3d": [
           {
            "line": {
             "colorbar": {
              "outlinewidth": 0,
              "ticks": ""
             }
            },
            "marker": {
             "colorbar": {
              "outlinewidth": 0,
              "ticks": ""
             }
            },
            "type": "scatter3d"
           }
          ],
          "scattercarpet": [
           {
            "marker": {
             "colorbar": {
              "outlinewidth": 0,
              "ticks": ""
             }
            },
            "type": "scattercarpet"
           }
          ],
          "scattergeo": [
           {
            "marker": {
             "colorbar": {
              "outlinewidth": 0,
              "ticks": ""
             }
            },
            "type": "scattergeo"
           }
          ],
          "scattergl": [
           {
            "marker": {
             "colorbar": {
              "outlinewidth": 0,
              "ticks": ""
             }
            },
            "type": "scattergl"
           }
          ],
          "scattermapbox": [
           {
            "marker": {
             "colorbar": {
              "outlinewidth": 0,
              "ticks": ""
             }
            },
            "type": "scattermapbox"
           }
          ],
          "scatterpolar": [
           {
            "marker": {
             "colorbar": {
              "outlinewidth": 0,
              "ticks": ""
             }
            },
            "type": "scatterpolar"
           }
          ],
          "scatterpolargl": [
           {
            "marker": {
             "colorbar": {
              "outlinewidth": 0,
              "ticks": ""
             }
            },
            "type": "scatterpolargl"
           }
          ],
          "scatterternary": [
           {
            "marker": {
             "colorbar": {
              "outlinewidth": 0,
              "ticks": ""
             }
            },
            "type": "scatterternary"
           }
          ],
          "surface": [
           {
            "colorbar": {
             "outlinewidth": 0,
             "ticks": ""
            },
            "colorscale": [
             [
              0,
              "#0d0887"
             ],
             [
              0.1111111111111111,
              "#46039f"
             ],
             [
              0.2222222222222222,
              "#7201a8"
             ],
             [
              0.3333333333333333,
              "#9c179e"
             ],
             [
              0.4444444444444444,
              "#bd3786"
             ],
             [
              0.5555555555555556,
              "#d8576b"
             ],
             [
              0.6666666666666666,
              "#ed7953"
             ],
             [
              0.7777777777777778,
              "#fb9f3a"
             ],
             [
              0.8888888888888888,
              "#fdca26"
             ],
             [
              1,
              "#f0f921"
             ]
            ],
            "type": "surface"
           }
          ],
          "table": [
           {
            "cells": {
             "fill": {
              "color": "#EBF0F8"
             },
             "line": {
              "color": "white"
             }
            },
            "header": {
             "fill": {
              "color": "#C8D4E3"
             },
             "line": {
              "color": "white"
             }
            },
            "type": "table"
           }
          ]
         },
         "layout": {
          "annotationdefaults": {
           "arrowcolor": "#2a3f5f",
           "arrowhead": 0,
           "arrowwidth": 1
          },
          "autotypenumbers": "strict",
          "coloraxis": {
           "colorbar": {
            "outlinewidth": 0,
            "ticks": ""
           }
          },
          "colorscale": {
           "diverging": [
            [
             0,
             "#8e0152"
            ],
            [
             0.1,
             "#c51b7d"
            ],
            [
             0.2,
             "#de77ae"
            ],
            [
             0.3,
             "#f1b6da"
            ],
            [
             0.4,
             "#fde0ef"
            ],
            [
             0.5,
             "#f7f7f7"
            ],
            [
             0.6,
             "#e6f5d0"
            ],
            [
             0.7,
             "#b8e186"
            ],
            [
             0.8,
             "#7fbc41"
            ],
            [
             0.9,
             "#4d9221"
            ],
            [
             1,
             "#276419"
            ]
           ],
           "sequential": [
            [
             0,
             "#0d0887"
            ],
            [
             0.1111111111111111,
             "#46039f"
            ],
            [
             0.2222222222222222,
             "#7201a8"
            ],
            [
             0.3333333333333333,
             "#9c179e"
            ],
            [
             0.4444444444444444,
             "#bd3786"
            ],
            [
             0.5555555555555556,
             "#d8576b"
            ],
            [
             0.6666666666666666,
             "#ed7953"
            ],
            [
             0.7777777777777778,
             "#fb9f3a"
            ],
            [
             0.8888888888888888,
             "#fdca26"
            ],
            [
             1,
             "#f0f921"
            ]
           ],
           "sequentialminus": [
            [
             0,
             "#0d0887"
            ],
            [
             0.1111111111111111,
             "#46039f"
            ],
            [
             0.2222222222222222,
             "#7201a8"
            ],
            [
             0.3333333333333333,
             "#9c179e"
            ],
            [
             0.4444444444444444,
             "#bd3786"
            ],
            [
             0.5555555555555556,
             "#d8576b"
            ],
            [
             0.6666666666666666,
             "#ed7953"
            ],
            [
             0.7777777777777778,
             "#fb9f3a"
            ],
            [
             0.8888888888888888,
             "#fdca26"
            ],
            [
             1,
             "#f0f921"
            ]
           ]
          },
          "colorway": [
           "#636efa",
           "#EF553B",
           "#00cc96",
           "#ab63fa",
           "#FFA15A",
           "#19d3f3",
           "#FF6692",
           "#B6E880",
           "#FF97FF",
           "#FECB52"
          ],
          "font": {
           "color": "#2a3f5f"
          },
          "geo": {
           "bgcolor": "white",
           "lakecolor": "white",
           "landcolor": "#E5ECF6",
           "showlakes": true,
           "showland": true,
           "subunitcolor": "white"
          },
          "hoverlabel": {
           "align": "left"
          },
          "hovermode": "closest",
          "mapbox": {
           "style": "light"
          },
          "paper_bgcolor": "white",
          "plot_bgcolor": "#E5ECF6",
          "polar": {
           "angularaxis": {
            "gridcolor": "white",
            "linecolor": "white",
            "ticks": ""
           },
           "bgcolor": "#E5ECF6",
           "radialaxis": {
            "gridcolor": "white",
            "linecolor": "white",
            "ticks": ""
           }
          },
          "scene": {
           "xaxis": {
            "backgroundcolor": "#E5ECF6",
            "gridcolor": "white",
            "gridwidth": 2,
            "linecolor": "white",
            "showbackground": true,
            "ticks": "",
            "zerolinecolor": "white"
           },
           "yaxis": {
            "backgroundcolor": "#E5ECF6",
            "gridcolor": "white",
            "gridwidth": 2,
            "linecolor": "white",
            "showbackground": true,
            "ticks": "",
            "zerolinecolor": "white"
           },
           "zaxis": {
            "backgroundcolor": "#E5ECF6",
            "gridcolor": "white",
            "gridwidth": 2,
            "linecolor": "white",
            "showbackground": true,
            "ticks": "",
            "zerolinecolor": "white"
           }
          },
          "shapedefaults": {
           "line": {
            "color": "#2a3f5f"
           }
          },
          "ternary": {
           "aaxis": {
            "gridcolor": "white",
            "linecolor": "white",
            "ticks": ""
           },
           "baxis": {
            "gridcolor": "white",
            "linecolor": "white",
            "ticks": ""
           },
           "bgcolor": "#E5ECF6",
           "caxis": {
            "gridcolor": "white",
            "linecolor": "white",
            "ticks": ""
           }
          },
          "title": {
           "x": 0.05
          },
          "xaxis": {
           "automargin": true,
           "gridcolor": "white",
           "linecolor": "white",
           "ticks": "",
           "title": {
            "standoff": 15
           },
           "zerolinecolor": "white",
           "zerolinewidth": 2
          },
          "yaxis": {
           "automargin": true,
           "gridcolor": "white",
           "linecolor": "white",
           "ticks": "",
           "title": {
            "standoff": 15
           },
           "zerolinecolor": "white",
           "zerolinewidth": 2
          }
         }
        },
        "xaxis": {
         "anchor": "y",
         "domain": [
          0,
          1
         ],
         "title": {
          "text": "country_name"
         }
        },
        "yaxis": {
         "anchor": "x",
         "domain": [
          0,
          1
         ],
         "title": {
          "text": "life_ladder"
         }
        }
       }
      }
     },
     "metadata": {},
     "output_type": "display_data"
    }
   ],
   "source": [
    "fig = px.bar(df_top_social_2020.head(10), x=\"country_name\", y=\"life_ladder\",\n",
    "             color='social_support', barmode='group',\n",
    "             #histfunc='avg',\n",
    "             height=500)\n",
    "fig.show()"
   ]
  },
  {
   "cell_type": "code",
   "execution_count": 125,
   "metadata": {},
   "outputs": [],
   "source": [
    "df_pop= pd.read_csv('../data/world_population_density.csv')"
   ]
  },
  {
   "cell_type": "code",
   "execution_count": 126,
   "metadata": {},
   "outputs": [],
   "source": [
    "df_world_pop= pd.read_csv('../data/world_population.csv')"
   ]
  },
  {
   "cell_type": "code",
   "execution_count": 127,
   "metadata": {},
   "outputs": [
    {
     "data": {
      "text/html": [
       "<div>\n",
       "<style scoped>\n",
       "    .dataframe tbody tr th:only-of-type {\n",
       "        vertical-align: middle;\n",
       "    }\n",
       "\n",
       "    .dataframe tbody tr th {\n",
       "        vertical-align: top;\n",
       "    }\n",
       "\n",
       "    .dataframe thead th {\n",
       "        text-align: right;\n",
       "    }\n",
       "</style>\n",
       "<table border=\"1\" class=\"dataframe\">\n",
       "  <thead>\n",
       "    <tr style=\"text-align: right;\">\n",
       "      <th></th>\n",
       "      <th>Rank</th>\n",
       "      <th>CCA3</th>\n",
       "      <th>Country/Territory</th>\n",
       "      <th>Capital</th>\n",
       "      <th>Continent</th>\n",
       "      <th>2022 Population</th>\n",
       "      <th>2020 Population</th>\n",
       "      <th>2015 Population</th>\n",
       "      <th>2010 Population</th>\n",
       "      <th>2000 Population</th>\n",
       "      <th>1990 Population</th>\n",
       "      <th>1980 Population</th>\n",
       "      <th>1970 Population</th>\n",
       "      <th>Area (km²)</th>\n",
       "      <th>Density (per km²)</th>\n",
       "      <th>Growth Rate</th>\n",
       "      <th>World Population Percentage</th>\n",
       "    </tr>\n",
       "  </thead>\n",
       "  <tbody>\n",
       "    <tr>\n",
       "      <th>0</th>\n",
       "      <td>36</td>\n",
       "      <td>AFG</td>\n",
       "      <td>Afghanistan</td>\n",
       "      <td>Kabul</td>\n",
       "      <td>Asia</td>\n",
       "      <td>41128771</td>\n",
       "      <td>38972230</td>\n",
       "      <td>33753499</td>\n",
       "      <td>28189672</td>\n",
       "      <td>19542982</td>\n",
       "      <td>10694796</td>\n",
       "      <td>12486631</td>\n",
       "      <td>10752971</td>\n",
       "      <td>652230</td>\n",
       "      <td>63.0587</td>\n",
       "      <td>1.0257</td>\n",
       "      <td>0.52</td>\n",
       "    </tr>\n",
       "    <tr>\n",
       "      <th>1</th>\n",
       "      <td>138</td>\n",
       "      <td>ALB</td>\n",
       "      <td>Albania</td>\n",
       "      <td>Tirana</td>\n",
       "      <td>Europe</td>\n",
       "      <td>2842321</td>\n",
       "      <td>2866849</td>\n",
       "      <td>2882481</td>\n",
       "      <td>2913399</td>\n",
       "      <td>3182021</td>\n",
       "      <td>3295066</td>\n",
       "      <td>2941651</td>\n",
       "      <td>2324731</td>\n",
       "      <td>28748</td>\n",
       "      <td>98.8702</td>\n",
       "      <td>0.9957</td>\n",
       "      <td>0.04</td>\n",
       "    </tr>\n",
       "    <tr>\n",
       "      <th>2</th>\n",
       "      <td>34</td>\n",
       "      <td>DZA</td>\n",
       "      <td>Algeria</td>\n",
       "      <td>Algiers</td>\n",
       "      <td>Africa</td>\n",
       "      <td>44903225</td>\n",
       "      <td>43451666</td>\n",
       "      <td>39543154</td>\n",
       "      <td>35856344</td>\n",
       "      <td>30774621</td>\n",
       "      <td>25518074</td>\n",
       "      <td>18739378</td>\n",
       "      <td>13795915</td>\n",
       "      <td>2381741</td>\n",
       "      <td>18.8531</td>\n",
       "      <td>1.0164</td>\n",
       "      <td>0.56</td>\n",
       "    </tr>\n",
       "    <tr>\n",
       "      <th>3</th>\n",
       "      <td>213</td>\n",
       "      <td>ASM</td>\n",
       "      <td>American Samoa</td>\n",
       "      <td>Pago Pago</td>\n",
       "      <td>Oceania</td>\n",
       "      <td>44273</td>\n",
       "      <td>46189</td>\n",
       "      <td>51368</td>\n",
       "      <td>54849</td>\n",
       "      <td>58230</td>\n",
       "      <td>47818</td>\n",
       "      <td>32886</td>\n",
       "      <td>27075</td>\n",
       "      <td>199</td>\n",
       "      <td>222.4774</td>\n",
       "      <td>0.9831</td>\n",
       "      <td>0.00</td>\n",
       "    </tr>\n",
       "    <tr>\n",
       "      <th>4</th>\n",
       "      <td>203</td>\n",
       "      <td>AND</td>\n",
       "      <td>Andorra</td>\n",
       "      <td>Andorra la Vella</td>\n",
       "      <td>Europe</td>\n",
       "      <td>79824</td>\n",
       "      <td>77700</td>\n",
       "      <td>71746</td>\n",
       "      <td>71519</td>\n",
       "      <td>66097</td>\n",
       "      <td>53569</td>\n",
       "      <td>35611</td>\n",
       "      <td>19860</td>\n",
       "      <td>468</td>\n",
       "      <td>170.5641</td>\n",
       "      <td>1.0100</td>\n",
       "      <td>0.00</td>\n",
       "    </tr>\n",
       "    <tr>\n",
       "      <th>...</th>\n",
       "      <td>...</td>\n",
       "      <td>...</td>\n",
       "      <td>...</td>\n",
       "      <td>...</td>\n",
       "      <td>...</td>\n",
       "      <td>...</td>\n",
       "      <td>...</td>\n",
       "      <td>...</td>\n",
       "      <td>...</td>\n",
       "      <td>...</td>\n",
       "      <td>...</td>\n",
       "      <td>...</td>\n",
       "      <td>...</td>\n",
       "      <td>...</td>\n",
       "      <td>...</td>\n",
       "      <td>...</td>\n",
       "      <td>...</td>\n",
       "    </tr>\n",
       "    <tr>\n",
       "      <th>229</th>\n",
       "      <td>226</td>\n",
       "      <td>WLF</td>\n",
       "      <td>Wallis and Futuna</td>\n",
       "      <td>Mata-Utu</td>\n",
       "      <td>Oceania</td>\n",
       "      <td>11572</td>\n",
       "      <td>11655</td>\n",
       "      <td>12182</td>\n",
       "      <td>13142</td>\n",
       "      <td>14723</td>\n",
       "      <td>13454</td>\n",
       "      <td>11315</td>\n",
       "      <td>9377</td>\n",
       "      <td>142</td>\n",
       "      <td>81.4930</td>\n",
       "      <td>0.9953</td>\n",
       "      <td>0.00</td>\n",
       "    </tr>\n",
       "    <tr>\n",
       "      <th>230</th>\n",
       "      <td>172</td>\n",
       "      <td>ESH</td>\n",
       "      <td>Western Sahara</td>\n",
       "      <td>El Aaiún</td>\n",
       "      <td>Africa</td>\n",
       "      <td>575986</td>\n",
       "      <td>556048</td>\n",
       "      <td>491824</td>\n",
       "      <td>413296</td>\n",
       "      <td>270375</td>\n",
       "      <td>178529</td>\n",
       "      <td>116775</td>\n",
       "      <td>76371</td>\n",
       "      <td>266000</td>\n",
       "      <td>2.1654</td>\n",
       "      <td>1.0184</td>\n",
       "      <td>0.01</td>\n",
       "    </tr>\n",
       "    <tr>\n",
       "      <th>231</th>\n",
       "      <td>46</td>\n",
       "      <td>YEM</td>\n",
       "      <td>Yemen</td>\n",
       "      <td>Sanaa</td>\n",
       "      <td>Asia</td>\n",
       "      <td>33696614</td>\n",
       "      <td>32284046</td>\n",
       "      <td>28516545</td>\n",
       "      <td>24743946</td>\n",
       "      <td>18628700</td>\n",
       "      <td>13375121</td>\n",
       "      <td>9204938</td>\n",
       "      <td>6843607</td>\n",
       "      <td>527968</td>\n",
       "      <td>63.8232</td>\n",
       "      <td>1.0217</td>\n",
       "      <td>0.42</td>\n",
       "    </tr>\n",
       "    <tr>\n",
       "      <th>232</th>\n",
       "      <td>63</td>\n",
       "      <td>ZMB</td>\n",
       "      <td>Zambia</td>\n",
       "      <td>Lusaka</td>\n",
       "      <td>Africa</td>\n",
       "      <td>20017675</td>\n",
       "      <td>18927715</td>\n",
       "      <td>16248230</td>\n",
       "      <td>13792086</td>\n",
       "      <td>9891136</td>\n",
       "      <td>7686401</td>\n",
       "      <td>5720438</td>\n",
       "      <td>4281671</td>\n",
       "      <td>752612</td>\n",
       "      <td>26.5976</td>\n",
       "      <td>1.0280</td>\n",
       "      <td>0.25</td>\n",
       "    </tr>\n",
       "    <tr>\n",
       "      <th>233</th>\n",
       "      <td>74</td>\n",
       "      <td>ZWE</td>\n",
       "      <td>Zimbabwe</td>\n",
       "      <td>Harare</td>\n",
       "      <td>Africa</td>\n",
       "      <td>16320537</td>\n",
       "      <td>15669666</td>\n",
       "      <td>14154937</td>\n",
       "      <td>12839771</td>\n",
       "      <td>11834676</td>\n",
       "      <td>10113893</td>\n",
       "      <td>7049926</td>\n",
       "      <td>5202918</td>\n",
       "      <td>390757</td>\n",
       "      <td>41.7665</td>\n",
       "      <td>1.0204</td>\n",
       "      <td>0.20</td>\n",
       "    </tr>\n",
       "  </tbody>\n",
       "</table>\n",
       "<p>234 rows × 17 columns</p>\n",
       "</div>"
      ],
      "text/plain": [
       "     Rank CCA3  Country/Territory           Capital Continent   \n",
       "0      36  AFG        Afghanistan             Kabul      Asia  \\\n",
       "1     138  ALB            Albania            Tirana    Europe   \n",
       "2      34  DZA            Algeria           Algiers    Africa   \n",
       "3     213  ASM     American Samoa         Pago Pago   Oceania   \n",
       "4     203  AND            Andorra  Andorra la Vella    Europe   \n",
       "..    ...  ...                ...               ...       ...   \n",
       "229   226  WLF  Wallis and Futuna          Mata-Utu   Oceania   \n",
       "230   172  ESH     Western Sahara          El Aaiún    Africa   \n",
       "231    46  YEM              Yemen             Sanaa      Asia   \n",
       "232    63  ZMB             Zambia            Lusaka    Africa   \n",
       "233    74  ZWE           Zimbabwe            Harare    Africa   \n",
       "\n",
       "     2022 Population  2020 Population  2015 Population  2010 Population   \n",
       "0           41128771         38972230         33753499         28189672  \\\n",
       "1            2842321          2866849          2882481          2913399   \n",
       "2           44903225         43451666         39543154         35856344   \n",
       "3              44273            46189            51368            54849   \n",
       "4              79824            77700            71746            71519   \n",
       "..               ...              ...              ...              ...   \n",
       "229            11572            11655            12182            13142   \n",
       "230           575986           556048           491824           413296   \n",
       "231         33696614         32284046         28516545         24743946   \n",
       "232         20017675         18927715         16248230         13792086   \n",
       "233         16320537         15669666         14154937         12839771   \n",
       "\n",
       "     2000 Population  1990 Population  1980 Population  1970 Population   \n",
       "0           19542982         10694796         12486631         10752971  \\\n",
       "1            3182021          3295066          2941651          2324731   \n",
       "2           30774621         25518074         18739378         13795915   \n",
       "3              58230            47818            32886            27075   \n",
       "4              66097            53569            35611            19860   \n",
       "..               ...              ...              ...              ...   \n",
       "229            14723            13454            11315             9377   \n",
       "230           270375           178529           116775            76371   \n",
       "231         18628700         13375121          9204938          6843607   \n",
       "232          9891136          7686401          5720438          4281671   \n",
       "233         11834676         10113893          7049926          5202918   \n",
       "\n",
       "     Area (km²)  Density (per km²)  Growth Rate  World Population Percentage  \n",
       "0        652230            63.0587       1.0257                         0.52  \n",
       "1         28748            98.8702       0.9957                         0.04  \n",
       "2       2381741            18.8531       1.0164                         0.56  \n",
       "3           199           222.4774       0.9831                         0.00  \n",
       "4           468           170.5641       1.0100                         0.00  \n",
       "..          ...                ...          ...                          ...  \n",
       "229         142            81.4930       0.9953                         0.00  \n",
       "230      266000             2.1654       1.0184                         0.01  \n",
       "231      527968            63.8232       1.0217                         0.42  \n",
       "232      752612            26.5976       1.0280                         0.25  \n",
       "233      390757            41.7665       1.0204                         0.20  \n",
       "\n",
       "[234 rows x 17 columns]"
      ]
     },
     "execution_count": 127,
     "metadata": {},
     "output_type": "execute_result"
    }
   ],
   "source": [
    "df_world_pop"
   ]
  },
  {
   "cell_type": "code",
   "execution_count": 128,
   "metadata": {},
   "outputs": [
    {
     "data": {
      "text/plain": [
       "Index(['Rank', 'CCA3', 'Country/Territory', 'Capital', 'Continent',\n",
       "       '2022 Population', '2020 Population', '2015 Population',\n",
       "       '2010 Population', '2000 Population', '1990 Population',\n",
       "       '1980 Population', '1970 Population', 'Area (km²)', 'Density (per km²)',\n",
       "       'Growth Rate', 'World Population Percentage'],\n",
       "      dtype='object')"
      ]
     },
     "execution_count": 128,
     "metadata": {},
     "output_type": "execute_result"
    }
   ],
   "source": [
    "df_world_pop.columns"
   ]
  },
  {
   "cell_type": "code",
   "execution_count": 129,
   "metadata": {},
   "outputs": [],
   "source": [
    "df_world_pop.columns= df_world_pop.columns.str.replace('/','_')"
   ]
  },
  {
   "cell_type": "code",
   "execution_count": 130,
   "metadata": {},
   "outputs": [],
   "source": [
    "df_world_pop.columns= df_world_pop.columns.str.lower()"
   ]
  },
  {
   "cell_type": "code",
   "execution_count": 131,
   "metadata": {},
   "outputs": [],
   "source": [
    "\n",
    "\n",
    "df_world_pop.columns=df_world_pop.columns.str.replace(' ','_')"
   ]
  },
  {
   "cell_type": "code",
   "execution_count": 132,
   "metadata": {},
   "outputs": [
    {
     "data": {
      "text/plain": [
       "Index(['rank', 'cca3', 'country_territory', 'capital', 'continent',\n",
       "       '2022_population', '2020_population', '2015_population',\n",
       "       '2010_population', '2000_population', '1990_population',\n",
       "       '1980_population', '1970_population', 'area_(km²)', 'density_(per_km²)',\n",
       "       'growth_rate', 'world_population_percentage'],\n",
       "      dtype='object')"
      ]
     },
     "execution_count": 132,
     "metadata": {},
     "output_type": "execute_result"
    }
   ],
   "source": [
    "df_world_pop.columns"
   ]
  },
  {
   "cell_type": "code",
   "execution_count": 133,
   "metadata": {},
   "outputs": [
    {
     "data": {
      "text/plain": [
       "array(['Afghanistan', 'Albania', 'Algeria', 'American Samoa', 'Andorra',\n",
       "       'Angola', 'Anguilla', 'Antigua and Barbuda', 'Argentina',\n",
       "       'Armenia', 'Aruba', 'Australia', 'Austria', 'Azerbaijan',\n",
       "       'Bahamas', 'Bahrain', 'Bangladesh', 'Barbados', 'Belarus',\n",
       "       'Belgium', 'Belize', 'Benin', 'Bermuda', 'Bhutan', 'Bolivia',\n",
       "       'Bosnia and Herzegovina', 'Botswana', 'Brazil',\n",
       "       'British Virgin Islands', 'Brunei', 'Bulgaria', 'Burkina Faso',\n",
       "       'Burundi', 'Cambodia', 'Cameroon', 'Canada', 'Cape Verde',\n",
       "       'Cayman Islands', 'Central African Republic', 'Chad', 'Chile',\n",
       "       'China', 'Colombia', 'Comoros', 'Cook Islands', 'Costa Rica',\n",
       "       'Croatia', 'Cuba', 'Curacao', 'Cyprus', 'Czech Republic',\n",
       "       'DR Congo', 'Denmark', 'Djibouti', 'Dominica',\n",
       "       'Dominican Republic', 'Ecuador', 'Egypt', 'El Salvador',\n",
       "       'Equatorial Guinea', 'Eritrea', 'Estonia', 'Eswatini', 'Ethiopia',\n",
       "       'Falkland Islands', 'Faroe Islands', 'Fiji', 'Finland', 'France',\n",
       "       'French Guiana', 'French Polynesia', 'Gabon', 'Gambia', 'Georgia',\n",
       "       'Germany', 'Ghana', 'Gibraltar', 'Greece', 'Greenland', 'Grenada',\n",
       "       'Guadeloupe', 'Guam', 'Guatemala', 'Guernsey', 'Guinea',\n",
       "       'Guinea-Bissau', 'Guyana', 'Haiti', 'Honduras', 'Hong Kong',\n",
       "       'Hungary', 'Iceland', 'India', 'Indonesia', 'Iran', 'Iraq',\n",
       "       'Ireland', 'Isle of Man', 'Israel', 'Italy', 'Ivory Coast',\n",
       "       'Jamaica', 'Japan', 'Jersey', 'Jordan', 'Kazakhstan', 'Kenya',\n",
       "       'Kiribati', 'Kuwait', 'Kyrgyzstan', 'Laos', 'Latvia', 'Lebanon',\n",
       "       'Lesotho', 'Liberia', 'Libya', 'Liechtenstein', 'Lithuania',\n",
       "       'Luxembourg', 'Macau', 'Madagascar', 'Malawi', 'Malaysia',\n",
       "       'Maldives', 'Mali', 'Malta', 'Marshall Islands', 'Martinique',\n",
       "       'Mauritania', 'Mauritius', 'Mayotte', 'Mexico', 'Micronesia',\n",
       "       'Moldova', 'Monaco', 'Mongolia', 'Montenegro', 'Montserrat',\n",
       "       'Morocco', 'Mozambique', 'Myanmar', 'Namibia', 'Nauru', 'Nepal',\n",
       "       'Netherlands', 'New Caledonia', 'New Zealand', 'Nicaragua',\n",
       "       'Niger', 'Nigeria', 'Niue', 'North Korea', 'North Macedonia',\n",
       "       'Northern Mariana Islands', 'Norway', 'Oman', 'Pakistan', 'Palau',\n",
       "       'Palestine', 'Panama', 'Papua New Guinea', 'Paraguay', 'Peru',\n",
       "       'Philippines', 'Poland', 'Portugal', 'Puerto Rico', 'Qatar',\n",
       "       'Republic of the Congo', 'Reunion', 'Romania', 'Russia', 'Rwanda',\n",
       "       'Saint Barthelemy', 'Saint Kitts and Nevis', 'Saint Lucia',\n",
       "       'Saint Martin', 'Saint Pierre and Miquelon',\n",
       "       'Saint Vincent and the Grenadines', 'Samoa', 'San Marino',\n",
       "       'Sao Tome and Principe', 'Saudi Arabia', 'Senegal', 'Serbia',\n",
       "       'Seychelles', 'Sierra Leone', 'Singapore', 'Sint Maarten',\n",
       "       'Slovakia', 'Slovenia', 'Solomon Islands', 'Somalia',\n",
       "       'South Africa', 'South Korea', 'South Sudan', 'Spain', 'Sri Lanka',\n",
       "       'Sudan', 'Suriname', 'Sweden', 'Switzerland', 'Syria', 'Taiwan',\n",
       "       'Tajikistan', 'Tanzania', 'Thailand', 'Timor-Leste', 'Togo',\n",
       "       'Tokelau', 'Tonga', 'Trinidad and Tobago', 'Tunisia', 'Turkey',\n",
       "       'Turkmenistan', 'Turks and Caicos Islands', 'Tuvalu', 'Uganda',\n",
       "       'Ukraine', 'United Arab Emirates', 'United Kingdom',\n",
       "       'United States', 'United States Virgin Islands', 'Uruguay',\n",
       "       'Uzbekistan', 'Vanuatu', 'Vatican City', 'Venezuela', 'Vietnam',\n",
       "       'Wallis and Futuna', 'Western Sahara', 'Yemen', 'Zambia',\n",
       "       'Zimbabwe'], dtype=object)"
      ]
     },
     "execution_count": 133,
     "metadata": {},
     "output_type": "execute_result"
    }
   ],
   "source": [
    "df_world_pop.country_territory.sort_values().unique()"
   ]
  },
  {
   "cell_type": "code",
   "execution_count": 134,
   "metadata": {},
   "outputs": [
    {
     "name": "stdout",
     "output_type": "stream",
     "text": [
      "165\n"
     ]
    }
   ],
   "source": [
    "print(df.country_name.nunique())\n"
   ]
  },
  {
   "cell_type": "code",
   "execution_count": 135,
   "metadata": {},
   "outputs": [
    {
     "name": "stdout",
     "output_type": "stream",
     "text": [
      "234\n"
     ]
    }
   ],
   "source": [
    "print(df_world_pop.country_territory.nunique())"
   ]
  },
  {
   "cell_type": "code",
   "execution_count": 136,
   "metadata": {},
   "outputs": [],
   "source": [
    "lst_world_pop= df_world_pop.country_territory.sort_values().unique().ravel().tolist()\n",
    "lst_df= df.country_name.sort_values().unique().ravel().tolist()"
   ]
  },
  {
   "cell_type": "code",
   "execution_count": 137,
   "metadata": {},
   "outputs": [
    {
     "name": "stdout",
     "output_type": "stream",
     "text": [
      "['Afghanistan', 'Albania', 'Algeria', 'Angola', 'Argentina', 'Armenia', 'Australia', 'Austria', 'Azerbaijan', 'Bahrain', 'Bangladesh', 'Belarus', 'Belgium', 'Belize', 'Benin', 'Bhutan', 'Bolivia', 'Bosnia and Herzegovina', 'Botswana', 'Brazil', 'Bulgaria', 'Burkina Faso', 'Burundi', 'Cambodia', 'Cameroon', 'Canada', 'Central African Republic', 'Chad', 'Chile', 'China', 'Colombia', 'Comoros', 'Congo (Brazzaville)', 'Congo (Kinshasa)', 'Costa Rica', 'Croatia', 'Cuba', 'Cyprus', 'Czechia', 'Denmark', 'Djibouti', 'Dominican Republic', 'Ecuador', 'Egypt', 'El Salvador', 'Estonia', 'Eswatini', 'Ethiopia', 'Finland', 'France', 'Gabon', 'Gambia', 'Georgia', 'Germany', 'Ghana', 'Greece', 'Guatemala', 'Guinea', 'Guyana', 'Haiti', 'Honduras', 'Hong Kong S.A.R. of China', 'Hungary', 'Iceland', 'India', 'Indonesia', 'Iran', 'Iraq', 'Ireland', 'Israel', 'Italy', 'Ivory Coast', 'Jamaica', 'Japan', 'Jordan', 'Kazakhstan', 'Kenya', 'Kosovo', 'Kuwait', 'Kyrgyzstan', 'Laos', 'Latvia', 'Lebanon', 'Lesotho', 'Liberia', 'Libya', 'Lithuania', 'Luxembourg', 'Madagascar', 'Malawi', 'Malaysia', 'Maldives', 'Mali', 'Malta', 'Mauritania', 'Mauritius', 'Mexico', 'Moldova', 'Mongolia', 'Montenegro', 'Morocco', 'Mozambique', 'Myanmar', 'Namibia', 'Nepal', 'Netherlands', 'New Zealand', 'Nicaragua', 'Niger', 'Nigeria', 'North Macedonia', 'Norway', 'Oman', 'Pakistan', 'Panama', 'Paraguay', 'Peru', 'Philippines', 'Poland', 'Portugal', 'Qatar', 'Romania', 'Russia', 'Rwanda', 'Saudi Arabia', 'Senegal', 'Serbia', 'Sierra Leone', 'Singapore', 'Slovakia', 'Slovenia', 'Somalia', 'Somaliland region', 'South Africa', 'South Korea', 'South Sudan', 'Spain', 'Sri Lanka', 'State of Palestine', 'Sudan', 'Suriname', 'Sweden', 'Switzerland', 'Syria', 'Taiwan Province of China', 'Tajikistan', 'Tanzania', 'Thailand', 'Togo', 'Trinidad and Tobago', 'Tunisia', 'Turkiye', 'Turkmenistan', 'Uganda', 'Ukraine', 'United Arab Emirates', 'United Kingdom', 'United States', 'Uruguay', 'Uzbekistan', 'Venezuela', 'Vietnam', 'Yemen', 'Zambia', 'Zimbabwe']\n"
     ]
    }
   ],
   "source": [
    "\n",
    "print(lst_df)"
   ]
  },
  {
   "cell_type": "code",
   "execution_count": 138,
   "metadata": {},
   "outputs": [
    {
     "name": "stdout",
     "output_type": "stream",
     "text": [
      "78\n",
      "American Samoa\n",
      "Andorra\n",
      "Anguilla\n",
      "Antigua and Barbuda\n",
      "Aruba\n",
      "Bahamas\n",
      "Barbados\n",
      "Bermuda\n",
      "British Virgin Islands\n",
      "Brunei\n",
      "Cape Verde\n",
      "Cayman Islands\n",
      "Cook Islands\n",
      "Curacao\n",
      "Czech Republic\n",
      "DR Congo\n",
      "Dominica\n",
      "Equatorial Guinea\n",
      "Eritrea\n",
      "Falkland Islands\n",
      "Faroe Islands\n",
      "Fiji\n",
      "French Guiana\n",
      "French Polynesia\n",
      "Gibraltar\n",
      "Greenland\n",
      "Grenada\n",
      "Guadeloupe\n",
      "Guam\n",
      "Guernsey\n",
      "Guinea-Bissau\n",
      "Hong Kong\n",
      "Isle of Man\n",
      "Jersey\n",
      "Kiribati\n",
      "Liechtenstein\n",
      "Macau\n",
      "Marshall Islands\n",
      "Martinique\n",
      "Mayotte\n",
      "Micronesia\n",
      "Monaco\n",
      "Montserrat\n",
      "Nauru\n",
      "New Caledonia\n",
      "Niue\n",
      "North Korea\n",
      "Northern Mariana Islands\n",
      "Palau\n",
      "Palestine\n",
      "Papua New Guinea\n",
      "Puerto Rico\n",
      "Republic of the Congo\n",
      "Reunion\n",
      "Saint Barthelemy\n",
      "Saint Kitts and Nevis\n",
      "Saint Lucia\n",
      "Saint Martin\n",
      "Saint Pierre and Miquelon\n",
      "Saint Vincent and the Grenadines\n",
      "Samoa\n",
      "San Marino\n",
      "Sao Tome and Principe\n",
      "Seychelles\n",
      "Sint Maarten\n",
      "Solomon Islands\n",
      "Taiwan\n",
      "Timor-Leste\n",
      "Tokelau\n",
      "Tonga\n",
      "Turkey\n",
      "Turks and Caicos Islands\n",
      "Tuvalu\n",
      "United States Virgin Islands\n",
      "Vanuatu\n",
      "Vatican City\n",
      "Wallis and Futuna\n",
      "Western Sahara\n"
     ]
    }
   ],
   "source": [
    "def exclusion(lst_world_pop, lst_df):\n",
    "    lst = [value for value in lst_world_pop if value not in lst_df]\n",
    "    return lst\n",
    "\n",
    "print(len(exclusion(lst_world_pop,lst_df)))\n",
    "for i in exclusion(lst_world_pop,lst_df):\n",
    "    print(i)\n"
   ]
  },
  {
   "cell_type": "code",
   "execution_count": 154,
   "metadata": {},
   "outputs": [
    {
     "name": "stdout",
     "output_type": "stream",
     "text": [
      "156\n",
      "Afghanistan\n",
      "Albania\n",
      "Algeria\n",
      "Angola\n",
      "Argentina\n",
      "Armenia\n",
      "Australia\n",
      "Austria\n",
      "Azerbaijan\n",
      "Bahrain\n",
      "Bangladesh\n",
      "Belarus\n",
      "Belgium\n",
      "Belize\n",
      "Benin\n",
      "Bhutan\n",
      "Bolivia\n",
      "Bosnia and Herzegovina\n",
      "Botswana\n",
      "Brazil\n",
      "Bulgaria\n",
      "Burkina Faso\n",
      "Burundi\n",
      "Cambodia\n",
      "Cameroon\n",
      "Canada\n",
      "Central African Republic\n",
      "Chad\n",
      "Chile\n",
      "China\n",
      "Colombia\n",
      "Comoros\n",
      "Costa Rica\n",
      "Croatia\n",
      "Cuba\n",
      "Cyprus\n",
      "Denmark\n",
      "Djibouti\n",
      "Dominican Republic\n",
      "Ecuador\n",
      "Egypt\n",
      "El Salvador\n",
      "Estonia\n",
      "Eswatini\n",
      "Ethiopia\n",
      "Finland\n",
      "France\n",
      "Gabon\n",
      "Gambia\n",
      "Georgia\n",
      "Germany\n",
      "Ghana\n",
      "Greece\n",
      "Guatemala\n",
      "Guinea\n",
      "Guyana\n",
      "Haiti\n",
      "Honduras\n",
      "Hungary\n",
      "Iceland\n",
      "India\n",
      "Indonesia\n",
      "Iran\n",
      "Iraq\n",
      "Ireland\n",
      "Israel\n",
      "Italy\n",
      "Ivory Coast\n",
      "Jamaica\n",
      "Japan\n",
      "Jordan\n",
      "Kazakhstan\n",
      "Kenya\n",
      "Kuwait\n",
      "Kyrgyzstan\n",
      "Laos\n",
      "Latvia\n",
      "Lebanon\n",
      "Lesotho\n",
      "Liberia\n",
      "Libya\n",
      "Lithuania\n",
      "Luxembourg\n",
      "Madagascar\n",
      "Malawi\n",
      "Malaysia\n",
      "Maldives\n",
      "Mali\n",
      "Malta\n",
      "Mauritania\n",
      "Mauritius\n",
      "Mexico\n",
      "Moldova\n",
      "Mongolia\n",
      "Montenegro\n",
      "Morocco\n",
      "Mozambique\n",
      "Myanmar\n",
      "Namibia\n",
      "Nepal\n",
      "Netherlands\n",
      "New Zealand\n",
      "Nicaragua\n",
      "Niger\n",
      "Nigeria\n",
      "North Macedonia\n",
      "Norway\n",
      "Oman\n",
      "Pakistan\n",
      "Panama\n",
      "Paraguay\n",
      "Peru\n",
      "Philippines\n",
      "Poland\n",
      "Portugal\n",
      "Qatar\n",
      "Romania\n",
      "Russia\n",
      "Rwanda\n",
      "Saudi Arabia\n",
      "Senegal\n",
      "Serbia\n",
      "Sierra Leone\n",
      "Singapore\n",
      "Slovakia\n",
      "Slovenia\n",
      "Somalia\n",
      "South Africa\n",
      "South Korea\n",
      "South Sudan\n",
      "Spain\n",
      "Sri Lanka\n",
      "Sudan\n",
      "Suriname\n",
      "Sweden\n",
      "Switzerland\n",
      "Syria\n",
      "Tajikistan\n",
      "Tanzania\n",
      "Thailand\n",
      "Togo\n",
      "Trinidad and Tobago\n",
      "Tunisia\n",
      "Turkmenistan\n",
      "Uganda\n",
      "Ukraine\n",
      "United Arab Emirates\n",
      "United Kingdom\n",
      "United States\n",
      "Uruguay\n",
      "Uzbekistan\n",
      "Venezuela\n",
      "Vietnam\n",
      "Yemen\n",
      "Zambia\n",
      "Zimbabwe\n"
     ]
    }
   ],
   "source": [
    "def intersection(lst_world_pop, lst_df):\n",
    "    lst3 = [value for value in lst_world_pop if value  in lst_df]\n",
    "    return lst3\n",
    "\n",
    "print(len(intersection(lst_world_pop,lst_df)))\n",
    "for i in intersection(lst_world_pop,lst_df):\n",
    "#print(intersection(lst1,lst2))\n",
    "    print(i)"
   ]
  },
  {
   "cell_type": "markdown",
   "metadata": {},
   "source": [
    "change country_territory names in df_world_pop to match  country names in df\n",
    "'Turkey', 'Turkiye'\n",
    "'Czech Republic', 'Czechia'\n",
    "'DR Congo', 'Congo (Kinshasa)'\n",
    "'Republic of the Congo', 'Congo (Brazzaville)'\n",
    "'Hong Kong', 'Hong Kong S.A.R. of China'"
   ]
  },
  {
   "cell_type": "code",
   "execution_count": 140,
   "metadata": {},
   "outputs": [],
   "source": [
    "df_world_pop.replace(to_replace= {'Turkey': 'Turkiye',\n",
    "                                  'Czech Republic': 'Czechia',\n",
    "                                  'DR Congo': 'Congo (Kinshasa)',\n",
    "                                  'Republic of the Congo': 'Congo (Brazzaville)',\n",
    "                                  'Hong Kong': 'Hong Kong S.A.R. of China'}, inplace=True)"
   ]
  },
  {
   "cell_type": "markdown",
   "metadata": {},
   "source": [
    "**changed 5 names**"
   ]
  },
  {
   "cell_type": "code",
   "execution_count": 141,
   "metadata": {},
   "outputs": [
    {
     "data": {
      "text/plain": [
       "73"
      ]
     },
     "execution_count": 141,
     "metadata": {},
     "output_type": "execute_result"
    }
   ],
   "source": [
    "lst_world_pop1= df_world_pop.country_territory.sort_values().unique().ravel().tolist()\n",
    "lst_df1= df.country_name.sort_values().unique().ravel().tolist()\n",
    "len(exclusion(lst_world_pop1, lst_df1))"
   ]
  },
  {
   "cell_type": "code",
   "execution_count": 142,
   "metadata": {},
   "outputs": [
    {
     "data": {
      "text/plain": [
       "array(['Afghanistan', 'Albania', 'Algeria', 'American Samoa', 'Andorra',\n",
       "       'Angola', 'Anguilla', 'Antigua and Barbuda', 'Argentina',\n",
       "       'Armenia', 'Aruba', 'Australia', 'Austria', 'Azerbaijan',\n",
       "       'Bahamas', 'Bahrain', 'Bangladesh', 'Barbados', 'Belarus',\n",
       "       'Belgium', 'Belize', 'Benin', 'Bermuda', 'Bhutan', 'Bolivia',\n",
       "       'Bosnia and Herzegovina', 'Botswana', 'Brazil',\n",
       "       'British Virgin Islands', 'Brunei', 'Bulgaria', 'Burkina Faso',\n",
       "       'Burundi', 'Cambodia', 'Cameroon', 'Canada', 'Cape Verde',\n",
       "       'Cayman Islands', 'Central African Republic', 'Chad', 'Chile',\n",
       "       'China', 'Colombia', 'Comoros', 'Cook Islands', 'Costa Rica',\n",
       "       'Croatia', 'Cuba', 'Curacao', 'Cyprus', 'Czechia', 'Denmark',\n",
       "       'Djibouti', 'Dominica', 'Dominican Republic', 'Congo (Kinshasa)',\n",
       "       'Ecuador', 'Egypt', 'El Salvador', 'Equatorial Guinea', 'Eritrea',\n",
       "       'Estonia', 'Eswatini', 'Ethiopia', 'Falkland Islands',\n",
       "       'Faroe Islands', 'Fiji', 'Finland', 'France', 'French Guiana',\n",
       "       'French Polynesia', 'Gabon', 'Gambia', 'Georgia', 'Germany',\n",
       "       'Ghana', 'Gibraltar', 'Greece', 'Greenland', 'Grenada',\n",
       "       'Guadeloupe', 'Guam', 'Guatemala', 'Guernsey', 'Guinea',\n",
       "       'Guinea-Bissau', 'Guyana', 'Haiti', 'Honduras',\n",
       "       'Hong Kong S.A.R. of China', 'Hungary', 'Iceland', 'India',\n",
       "       'Indonesia', 'Iran', 'Iraq', 'Ireland', 'Isle of Man', 'Israel',\n",
       "       'Italy', 'Ivory Coast', 'Jamaica', 'Japan', 'Jersey', 'Jordan',\n",
       "       'Kazakhstan', 'Kenya', 'Kiribati', 'Kuwait', 'Kyrgyzstan', 'Laos',\n",
       "       'Latvia', 'Lebanon', 'Lesotho', 'Liberia', 'Libya',\n",
       "       'Liechtenstein', 'Lithuania', 'Luxembourg', 'Macau', 'Madagascar',\n",
       "       'Malawi', 'Malaysia', 'Maldives', 'Mali', 'Malta',\n",
       "       'Marshall Islands', 'Martinique', 'Mauritania', 'Mauritius',\n",
       "       'Mayotte', 'Mexico', 'Micronesia', 'Moldova', 'Monaco', 'Mongolia',\n",
       "       'Montenegro', 'Montserrat', 'Morocco', 'Mozambique', 'Myanmar',\n",
       "       'Namibia', 'Nauru', 'Nepal', 'Netherlands', 'New Caledonia',\n",
       "       'New Zealand', 'Nicaragua', 'Niger', 'Nigeria', 'Niue',\n",
       "       'North Korea', 'North Macedonia', 'Northern Mariana Islands',\n",
       "       'Norway', 'Oman', 'Pakistan', 'Palau', 'Palestine', 'Panama',\n",
       "       'Papua New Guinea', 'Paraguay', 'Peru', 'Philippines', 'Poland',\n",
       "       'Portugal', 'Puerto Rico', 'Qatar', 'Congo (Brazzaville)',\n",
       "       'Reunion', 'Romania', 'Russia', 'Rwanda', 'Saint Barthelemy',\n",
       "       'Saint Kitts and Nevis', 'Saint Lucia', 'Saint Martin',\n",
       "       'Saint Pierre and Miquelon', 'Saint Vincent and the Grenadines',\n",
       "       'Samoa', 'San Marino', 'Sao Tome and Principe', 'Saudi Arabia',\n",
       "       'Senegal', 'Serbia', 'Seychelles', 'Sierra Leone', 'Singapore',\n",
       "       'Sint Maarten', 'Slovakia', 'Slovenia', 'Solomon Islands',\n",
       "       'Somalia', 'South Africa', 'South Korea', 'South Sudan', 'Spain',\n",
       "       'Sri Lanka', 'Sudan', 'Suriname', 'Sweden', 'Switzerland', 'Syria',\n",
       "       'Taiwan', 'Tajikistan', 'Tanzania', 'Thailand', 'Timor-Leste',\n",
       "       'Togo', 'Tokelau', 'Tonga', 'Trinidad and Tobago', 'Tunisia',\n",
       "       'Turkiye', 'Turkmenistan', 'Turks and Caicos Islands', 'Tuvalu',\n",
       "       'Uganda', 'Ukraine', 'United Arab Emirates', 'United Kingdom',\n",
       "       'United States', 'United States Virgin Islands', 'Uruguay',\n",
       "       'Uzbekistan', 'Vanuatu', 'Vatican City', 'Venezuela', 'Vietnam',\n",
       "       'Wallis and Futuna', 'Western Sahara', 'Yemen', 'Zambia',\n",
       "       'Zimbabwe'], dtype=object)"
      ]
     },
     "execution_count": 142,
     "metadata": {},
     "output_type": "execute_result"
    }
   ],
   "source": [
    "df_world_pop.country_territory.unique()"
   ]
  },
  {
   "cell_type": "code",
   "execution_count": 143,
   "metadata": {},
   "outputs": [
    {
     "data": {
      "text/html": [
       "<div>\n",
       "<style scoped>\n",
       "    .dataframe tbody tr th:only-of-type {\n",
       "        vertical-align: middle;\n",
       "    }\n",
       "\n",
       "    .dataframe tbody tr th {\n",
       "        vertical-align: top;\n",
       "    }\n",
       "\n",
       "    .dataframe thead th {\n",
       "        text-align: right;\n",
       "    }\n",
       "</style>\n",
       "<table border=\"1\" class=\"dataframe\">\n",
       "  <thead>\n",
       "    <tr style=\"text-align: right;\">\n",
       "      <th></th>\n",
       "      <th>rank</th>\n",
       "      <th>cca3</th>\n",
       "      <th>country_territory</th>\n",
       "      <th>capital</th>\n",
       "      <th>continent</th>\n",
       "      <th>2022_population</th>\n",
       "      <th>2020_population</th>\n",
       "      <th>2015_population</th>\n",
       "      <th>2010_population</th>\n",
       "      <th>2000_population</th>\n",
       "      <th>1990_population</th>\n",
       "      <th>1980_population</th>\n",
       "      <th>1970_population</th>\n",
       "      <th>area_(km²)</th>\n",
       "      <th>density_(per_km²)</th>\n",
       "      <th>growth_rate</th>\n",
       "      <th>world_population_percentage</th>\n",
       "    </tr>\n",
       "  </thead>\n",
       "  <tbody>\n",
       "    <tr>\n",
       "      <th>0</th>\n",
       "      <td>36</td>\n",
       "      <td>AFG</td>\n",
       "      <td>Afghanistan</td>\n",
       "      <td>Kabul</td>\n",
       "      <td>Asia</td>\n",
       "      <td>41128771</td>\n",
       "      <td>38972230</td>\n",
       "      <td>33753499</td>\n",
       "      <td>28189672</td>\n",
       "      <td>19542982</td>\n",
       "      <td>10694796</td>\n",
       "      <td>12486631</td>\n",
       "      <td>10752971</td>\n",
       "      <td>652230</td>\n",
       "      <td>63.0587</td>\n",
       "      <td>1.0257</td>\n",
       "      <td>0.52</td>\n",
       "    </tr>\n",
       "    <tr>\n",
       "      <th>1</th>\n",
       "      <td>138</td>\n",
       "      <td>ALB</td>\n",
       "      <td>Albania</td>\n",
       "      <td>Tirana</td>\n",
       "      <td>Europe</td>\n",
       "      <td>2842321</td>\n",
       "      <td>2866849</td>\n",
       "      <td>2882481</td>\n",
       "      <td>2913399</td>\n",
       "      <td>3182021</td>\n",
       "      <td>3295066</td>\n",
       "      <td>2941651</td>\n",
       "      <td>2324731</td>\n",
       "      <td>28748</td>\n",
       "      <td>98.8702</td>\n",
       "      <td>0.9957</td>\n",
       "      <td>0.04</td>\n",
       "    </tr>\n",
       "    <tr>\n",
       "      <th>2</th>\n",
       "      <td>34</td>\n",
       "      <td>DZA</td>\n",
       "      <td>Algeria</td>\n",
       "      <td>Algiers</td>\n",
       "      <td>Africa</td>\n",
       "      <td>44903225</td>\n",
       "      <td>43451666</td>\n",
       "      <td>39543154</td>\n",
       "      <td>35856344</td>\n",
       "      <td>30774621</td>\n",
       "      <td>25518074</td>\n",
       "      <td>18739378</td>\n",
       "      <td>13795915</td>\n",
       "      <td>2381741</td>\n",
       "      <td>18.8531</td>\n",
       "      <td>1.0164</td>\n",
       "      <td>0.56</td>\n",
       "    </tr>\n",
       "    <tr>\n",
       "      <th>3</th>\n",
       "      <td>213</td>\n",
       "      <td>ASM</td>\n",
       "      <td>American Samoa</td>\n",
       "      <td>Pago Pago</td>\n",
       "      <td>Oceania</td>\n",
       "      <td>44273</td>\n",
       "      <td>46189</td>\n",
       "      <td>51368</td>\n",
       "      <td>54849</td>\n",
       "      <td>58230</td>\n",
       "      <td>47818</td>\n",
       "      <td>32886</td>\n",
       "      <td>27075</td>\n",
       "      <td>199</td>\n",
       "      <td>222.4774</td>\n",
       "      <td>0.9831</td>\n",
       "      <td>0.00</td>\n",
       "    </tr>\n",
       "    <tr>\n",
       "      <th>4</th>\n",
       "      <td>203</td>\n",
       "      <td>AND</td>\n",
       "      <td>Andorra</td>\n",
       "      <td>Andorra la Vella</td>\n",
       "      <td>Europe</td>\n",
       "      <td>79824</td>\n",
       "      <td>77700</td>\n",
       "      <td>71746</td>\n",
       "      <td>71519</td>\n",
       "      <td>66097</td>\n",
       "      <td>53569</td>\n",
       "      <td>35611</td>\n",
       "      <td>19860</td>\n",
       "      <td>468</td>\n",
       "      <td>170.5641</td>\n",
       "      <td>1.0100</td>\n",
       "      <td>0.00</td>\n",
       "    </tr>\n",
       "    <tr>\n",
       "      <th>...</th>\n",
       "      <td>...</td>\n",
       "      <td>...</td>\n",
       "      <td>...</td>\n",
       "      <td>...</td>\n",
       "      <td>...</td>\n",
       "      <td>...</td>\n",
       "      <td>...</td>\n",
       "      <td>...</td>\n",
       "      <td>...</td>\n",
       "      <td>...</td>\n",
       "      <td>...</td>\n",
       "      <td>...</td>\n",
       "      <td>...</td>\n",
       "      <td>...</td>\n",
       "      <td>...</td>\n",
       "      <td>...</td>\n",
       "      <td>...</td>\n",
       "    </tr>\n",
       "    <tr>\n",
       "      <th>229</th>\n",
       "      <td>226</td>\n",
       "      <td>WLF</td>\n",
       "      <td>Wallis and Futuna</td>\n",
       "      <td>Mata-Utu</td>\n",
       "      <td>Oceania</td>\n",
       "      <td>11572</td>\n",
       "      <td>11655</td>\n",
       "      <td>12182</td>\n",
       "      <td>13142</td>\n",
       "      <td>14723</td>\n",
       "      <td>13454</td>\n",
       "      <td>11315</td>\n",
       "      <td>9377</td>\n",
       "      <td>142</td>\n",
       "      <td>81.4930</td>\n",
       "      <td>0.9953</td>\n",
       "      <td>0.00</td>\n",
       "    </tr>\n",
       "    <tr>\n",
       "      <th>230</th>\n",
       "      <td>172</td>\n",
       "      <td>ESH</td>\n",
       "      <td>Western Sahara</td>\n",
       "      <td>El Aaiún</td>\n",
       "      <td>Africa</td>\n",
       "      <td>575986</td>\n",
       "      <td>556048</td>\n",
       "      <td>491824</td>\n",
       "      <td>413296</td>\n",
       "      <td>270375</td>\n",
       "      <td>178529</td>\n",
       "      <td>116775</td>\n",
       "      <td>76371</td>\n",
       "      <td>266000</td>\n",
       "      <td>2.1654</td>\n",
       "      <td>1.0184</td>\n",
       "      <td>0.01</td>\n",
       "    </tr>\n",
       "    <tr>\n",
       "      <th>231</th>\n",
       "      <td>46</td>\n",
       "      <td>YEM</td>\n",
       "      <td>Yemen</td>\n",
       "      <td>Sanaa</td>\n",
       "      <td>Asia</td>\n",
       "      <td>33696614</td>\n",
       "      <td>32284046</td>\n",
       "      <td>28516545</td>\n",
       "      <td>24743946</td>\n",
       "      <td>18628700</td>\n",
       "      <td>13375121</td>\n",
       "      <td>9204938</td>\n",
       "      <td>6843607</td>\n",
       "      <td>527968</td>\n",
       "      <td>63.8232</td>\n",
       "      <td>1.0217</td>\n",
       "      <td>0.42</td>\n",
       "    </tr>\n",
       "    <tr>\n",
       "      <th>232</th>\n",
       "      <td>63</td>\n",
       "      <td>ZMB</td>\n",
       "      <td>Zambia</td>\n",
       "      <td>Lusaka</td>\n",
       "      <td>Africa</td>\n",
       "      <td>20017675</td>\n",
       "      <td>18927715</td>\n",
       "      <td>16248230</td>\n",
       "      <td>13792086</td>\n",
       "      <td>9891136</td>\n",
       "      <td>7686401</td>\n",
       "      <td>5720438</td>\n",
       "      <td>4281671</td>\n",
       "      <td>752612</td>\n",
       "      <td>26.5976</td>\n",
       "      <td>1.0280</td>\n",
       "      <td>0.25</td>\n",
       "    </tr>\n",
       "    <tr>\n",
       "      <th>233</th>\n",
       "      <td>74</td>\n",
       "      <td>ZWE</td>\n",
       "      <td>Zimbabwe</td>\n",
       "      <td>Harare</td>\n",
       "      <td>Africa</td>\n",
       "      <td>16320537</td>\n",
       "      <td>15669666</td>\n",
       "      <td>14154937</td>\n",
       "      <td>12839771</td>\n",
       "      <td>11834676</td>\n",
       "      <td>10113893</td>\n",
       "      <td>7049926</td>\n",
       "      <td>5202918</td>\n",
       "      <td>390757</td>\n",
       "      <td>41.7665</td>\n",
       "      <td>1.0204</td>\n",
       "      <td>0.20</td>\n",
       "    </tr>\n",
       "  </tbody>\n",
       "</table>\n",
       "<p>234 rows × 17 columns</p>\n",
       "</div>"
      ],
      "text/plain": [
       "     rank cca3  country_territory           capital continent   \n",
       "0      36  AFG        Afghanistan             Kabul      Asia  \\\n",
       "1     138  ALB            Albania            Tirana    Europe   \n",
       "2      34  DZA            Algeria           Algiers    Africa   \n",
       "3     213  ASM     American Samoa         Pago Pago   Oceania   \n",
       "4     203  AND            Andorra  Andorra la Vella    Europe   \n",
       "..    ...  ...                ...               ...       ...   \n",
       "229   226  WLF  Wallis and Futuna          Mata-Utu   Oceania   \n",
       "230   172  ESH     Western Sahara          El Aaiún    Africa   \n",
       "231    46  YEM              Yemen             Sanaa      Asia   \n",
       "232    63  ZMB             Zambia            Lusaka    Africa   \n",
       "233    74  ZWE           Zimbabwe            Harare    Africa   \n",
       "\n",
       "     2022_population  2020_population  2015_population  2010_population   \n",
       "0           41128771         38972230         33753499         28189672  \\\n",
       "1            2842321          2866849          2882481          2913399   \n",
       "2           44903225         43451666         39543154         35856344   \n",
       "3              44273            46189            51368            54849   \n",
       "4              79824            77700            71746            71519   \n",
       "..               ...              ...              ...              ...   \n",
       "229            11572            11655            12182            13142   \n",
       "230           575986           556048           491824           413296   \n",
       "231         33696614         32284046         28516545         24743946   \n",
       "232         20017675         18927715         16248230         13792086   \n",
       "233         16320537         15669666         14154937         12839771   \n",
       "\n",
       "     2000_population  1990_population  1980_population  1970_population   \n",
       "0           19542982         10694796         12486631         10752971  \\\n",
       "1            3182021          3295066          2941651          2324731   \n",
       "2           30774621         25518074         18739378         13795915   \n",
       "3              58230            47818            32886            27075   \n",
       "4              66097            53569            35611            19860   \n",
       "..               ...              ...              ...              ...   \n",
       "229            14723            13454            11315             9377   \n",
       "230           270375           178529           116775            76371   \n",
       "231         18628700         13375121          9204938          6843607   \n",
       "232          9891136          7686401          5720438          4281671   \n",
       "233         11834676         10113893          7049926          5202918   \n",
       "\n",
       "     area_(km²)  density_(per_km²)  growth_rate  world_population_percentage  \n",
       "0        652230            63.0587       1.0257                         0.52  \n",
       "1         28748            98.8702       0.9957                         0.04  \n",
       "2       2381741            18.8531       1.0164                         0.56  \n",
       "3           199           222.4774       0.9831                         0.00  \n",
       "4           468           170.5641       1.0100                         0.00  \n",
       "..          ...                ...          ...                          ...  \n",
       "229         142            81.4930       0.9953                         0.00  \n",
       "230      266000             2.1654       1.0184                         0.01  \n",
       "231      527968            63.8232       1.0217                         0.42  \n",
       "232      752612            26.5976       1.0280                         0.25  \n",
       "233      390757            41.7665       1.0204                         0.20  \n",
       "\n",
       "[234 rows x 17 columns]"
      ]
     },
     "execution_count": 143,
     "metadata": {},
     "output_type": "execute_result"
    }
   ],
   "source": [
    "df_world_pop"
   ]
  },
  {
   "cell_type": "markdown",
   "metadata": {},
   "source": [
    "**what numbers are the basis for the values in the density column?**\n",
    "\n",
    "from the final year 2022/area"
   ]
  },
  {
   "cell_type": "code",
   "execution_count": 144,
   "metadata": {},
   "outputs": [
    {
     "data": {
      "text/plain": [
       "0      4.112878e+07\n",
       "1      2.842321e+06\n",
       "2      4.490320e+07\n",
       "3      4.427300e+04\n",
       "4      7.982400e+04\n",
       "           ...     \n",
       "229    1.157201e+04\n",
       "230    5.759964e+05\n",
       "231    3.369661e+07\n",
       "232    2.001767e+07\n",
       "233    1.632055e+07\n",
       "Length: 234, dtype: float64"
      ]
     },
     "execution_count": 144,
     "metadata": {},
     "output_type": "execute_result"
    }
   ],
   "source": [
    "df_new= df_world_pop['density_(per_km²)'] * df_world_pop['area_(km²)']\n",
    "df_new"
   ]
  },
  {
   "cell_type": "markdown",
   "metadata": {},
   "source": [
    "~~**now to place create a dataframe with country (intersection between df & df_world_pop), new rows for each country per year from 2005-2022 (17 rows per country),  population column (transpose the rows into one column), area columns**~~"
   ]
  },
  {
   "cell_type": "markdown",
   "metadata": {},
   "source": [
    "**make dataframe with only the intersecting countries and save to csv file, then open in google sheets and impute population data there, making a separate table for each year that can be concatenated one on top of the other.**"
   ]
  },
  {
   "cell_type": "code",
   "execution_count": 145,
   "metadata": {},
   "outputs": [
    {
     "name": "stdout",
     "output_type": "stream",
     "text": [
      "161\n",
      "['Afghanistan', 'Albania', 'Algeria', 'Angola', 'Argentina', 'Armenia', 'Australia', 'Austria', 'Azerbaijan', 'Bahrain', 'Bangladesh', 'Belarus', 'Belgium', 'Belize', 'Benin', 'Bhutan', 'Bolivia', 'Bosnia and Herzegovina', 'Botswana', 'Brazil', 'Bulgaria', 'Burkina Faso', 'Burundi', 'Cambodia', 'Cameroon', 'Canada', 'Central African Republic', 'Chad', 'Chile', 'China', 'Colombia', 'Comoros', 'Congo (Brazzaville)', 'Congo (Kinshasa)', 'Costa Rica', 'Croatia', 'Cuba', 'Cyprus', 'Czechia', 'Denmark', 'Djibouti', 'Dominican Republic', 'Ecuador', 'Egypt', 'El Salvador', 'Estonia', 'Eswatini', 'Ethiopia', 'Finland', 'France', 'Gabon', 'Gambia', 'Georgia', 'Germany', 'Ghana', 'Greece', 'Guatemala', 'Guinea', 'Guyana', 'Haiti', 'Honduras', 'Hong Kong S.A.R. of China', 'Hungary', 'Iceland', 'India', 'Indonesia', 'Iran', 'Iraq', 'Ireland', 'Israel', 'Italy', 'Ivory Coast', 'Jamaica', 'Japan', 'Jordan', 'Kazakhstan', 'Kenya', 'Kuwait', 'Kyrgyzstan', 'Laos', 'Latvia', 'Lebanon', 'Lesotho', 'Liberia', 'Libya', 'Lithuania', 'Luxembourg', 'Madagascar', 'Malawi', 'Malaysia', 'Maldives', 'Mali', 'Malta', 'Mauritania', 'Mauritius', 'Mexico', 'Moldova', 'Mongolia', 'Montenegro', 'Morocco', 'Mozambique', 'Myanmar', 'Namibia', 'Nepal', 'Netherlands', 'New Zealand', 'Nicaragua', 'Niger', 'Nigeria', 'North Macedonia', 'Norway', 'Oman', 'Pakistan', 'Panama', 'Paraguay', 'Peru', 'Philippines', 'Poland', 'Portugal', 'Qatar', 'Romania', 'Russia', 'Rwanda', 'Saudi Arabia', 'Senegal', 'Serbia', 'Sierra Leone', 'Singapore', 'Slovakia', 'Slovenia', 'Somalia', 'South Africa', 'South Korea', 'South Sudan', 'Spain', 'Sri Lanka', 'Sudan', 'Suriname', 'Sweden', 'Switzerland', 'Syria', 'Tajikistan', 'Tanzania', 'Thailand', 'Togo', 'Trinidad and Tobago', 'Tunisia', 'Turkiye', 'Turkmenistan', 'Uganda', 'Ukraine', 'United Arab Emirates', 'United Kingdom', 'United States', 'Uruguay', 'Uzbekistan', 'Venezuela', 'Vietnam', 'Yemen', 'Zambia', 'Zimbabwe']\n"
     ]
    }
   ],
   "source": [
    "lst_world_pop1= df_world_pop.country_territory.sort_values().unique().ravel().tolist()\n",
    "lst_df1= df.country_name.sort_values().unique().ravel().tolist()\n",
    "print(len(intersection(lst_world_pop1, lst_df1)))\n",
    "print(intersection(lst_world_pop1, lst_df1))"
   ]
  },
  {
   "cell_type": "code",
   "execution_count": 146,
   "metadata": {},
   "outputs": [],
   "source": [
    "in_common=intersection(lst_world_pop1, lst_df1)"
   ]
  },
  {
   "cell_type": "code",
   "execution_count": 147,
   "metadata": {},
   "outputs": [],
   "source": [
    "df_population= df_world_pop[df_world_pop['country_territory'].isin(in_common)]"
   ]
  },
  {
   "cell_type": "code",
   "execution_count": 148,
   "metadata": {},
   "outputs": [
    {
     "name": "stdout",
     "output_type": "stream",
     "text": [
      "<class 'pandas.core.frame.DataFrame'>\n",
      "Index: 161 entries, 0 to 233\n",
      "Data columns (total 17 columns):\n",
      " #   Column                       Non-Null Count  Dtype  \n",
      "---  ------                       --------------  -----  \n",
      " 0   rank                         161 non-null    int64  \n",
      " 1   cca3                         161 non-null    object \n",
      " 2   country_territory            161 non-null    object \n",
      " 3   capital                      161 non-null    object \n",
      " 4   continent                    161 non-null    object \n",
      " 5   2022_population              161 non-null    int64  \n",
      " 6   2020_population              161 non-null    int64  \n",
      " 7   2015_population              161 non-null    int64  \n",
      " 8   2010_population              161 non-null    int64  \n",
      " 9   2000_population              161 non-null    int64  \n",
      " 10  1990_population              161 non-null    int64  \n",
      " 11  1980_population              161 non-null    int64  \n",
      " 12  1970_population              161 non-null    int64  \n",
      " 13  area_(km²)                   161 non-null    int64  \n",
      " 14  density_(per_km²)            161 non-null    float64\n",
      " 15  growth_rate                  161 non-null    float64\n",
      " 16  world_population_percentage  161 non-null    float64\n",
      "dtypes: float64(3), int64(10), object(4)\n",
      "memory usage: 22.6+ KB\n"
     ]
    }
   ],
   "source": [
    "df_population.info()"
   ]
  },
  {
   "cell_type": "code",
   "execution_count": 149,
   "metadata": {},
   "outputs": [],
   "source": [
    "df_world_pop2=df_population.reset_index(drop=True)"
   ]
  },
  {
   "cell_type": "code",
   "execution_count": 150,
   "metadata": {},
   "outputs": [
    {
     "name": "stdout",
     "output_type": "stream",
     "text": [
      "<class 'pandas.core.frame.DataFrame'>\n",
      "RangeIndex: 161 entries, 0 to 160\n",
      "Data columns (total 17 columns):\n",
      " #   Column                       Non-Null Count  Dtype  \n",
      "---  ------                       --------------  -----  \n",
      " 0   rank                         161 non-null    int64  \n",
      " 1   cca3                         161 non-null    object \n",
      " 2   country_territory            161 non-null    object \n",
      " 3   capital                      161 non-null    object \n",
      " 4   continent                    161 non-null    object \n",
      " 5   2022_population              161 non-null    int64  \n",
      " 6   2020_population              161 non-null    int64  \n",
      " 7   2015_population              161 non-null    int64  \n",
      " 8   2010_population              161 non-null    int64  \n",
      " 9   2000_population              161 non-null    int64  \n",
      " 10  1990_population              161 non-null    int64  \n",
      " 11  1980_population              161 non-null    int64  \n",
      " 12  1970_population              161 non-null    int64  \n",
      " 13  area_(km²)                   161 non-null    int64  \n",
      " 14  density_(per_km²)            161 non-null    float64\n",
      " 15  growth_rate                  161 non-null    float64\n",
      " 16  world_population_percentage  161 non-null    float64\n",
      "dtypes: float64(3), int64(10), object(4)\n",
      "memory usage: 21.5+ KB\n"
     ]
    }
   ],
   "source": [
    "df_world_pop2.info()"
   ]
  },
  {
   "cell_type": "code",
   "execution_count": 151,
   "metadata": {},
   "outputs": [],
   "source": [
    "###### LASTLY SAVE TO CSV #######\n",
    "df_world_pop2.to_csv('../data/data_world_pop2.csv', index=False)"
   ]
  },
  {
   "cell_type": "code",
   "execution_count": 152,
   "metadata": {},
   "outputs": [],
   "source": [
    "df_world_pop_all=pd.read_csv('../data/HappyAlmana_World_ Population_Data - All Years.csv')"
   ]
  },
  {
   "cell_type": "code",
   "execution_count": 171,
   "metadata": {},
   "outputs": [
    {
     "data": {
      "text/plain": [
       "23"
      ]
     },
     "execution_count": 171,
     "metadata": {},
     "output_type": "execute_result"
    }
   ],
   "source": [
    "len(df_world_pop_all.columns)"
   ]
  },
  {
   "cell_type": "code",
   "execution_count": 178,
   "metadata": {},
   "outputs": [
    {
     "data": {
      "text/plain": [
       "Index(['country_territory', 'continent', '2022_population', '2021_population*',\n",
       "       '2020_population', '2019_population*', '2018_population*',\n",
       "       '2017_population*', '2016_population*', '2015_population',\n",
       "       '2014_population*', '2013_population*', '2012_population*',\n",
       "       '2011_population*', '2010_population', '2009_population*',\n",
       "       '2008_population*', '2007_population*', '2006_population*',\n",
       "       '2005_population*', '2000_population', 'area_(km²)',\n",
       "       'density_(per_km²)'],\n",
       "      dtype='object')"
      ]
     },
     "execution_count": 178,
     "metadata": {},
     "output_type": "execute_result"
    }
   ],
   "source": [
    "df_world_pop_all.columns[0:24]"
   ]
  },
  {
   "cell_type": "code",
   "execution_count": 177,
   "metadata": {},
   "outputs": [
    {
     "data": {
      "text/plain": [
       "Index(['2022_population', '2021_population*', '2020_population',\n",
       "       '2019_population*', '2018_population*', '2017_population*',\n",
       "       '2016_population*', '2015_population', '2014_population*',\n",
       "       '2013_population*', '2012_population*', '2011_population*',\n",
       "       '2010_population', '2009_population*', '2008_population*',\n",
       "       '2007_population*', '2006_population*', '2005_population*'],\n",
       "      dtype='object')"
      ]
     },
     "execution_count": 177,
     "metadata": {},
     "output_type": "execute_result"
    }
   ],
   "source": [
    "years= df_world_pop_all.columns[2:20]\n",
    "years"
   ]
  },
  {
   "cell_type": "code",
   "execution_count": null,
   "metadata": {},
   "outputs": [],
   "source": [
    "df_world_pop_2022= df_world_pop_all[['country_territory', \n",
    "                                     'continent', '2022_population', \n",
    "                                     'area_(km²)',\n",
    "                                     'density_(per_km²)']]"
   ]
  },
  {
   "cell_type": "code",
   "execution_count": 199,
   "metadata": {},
   "outputs": [],
   "source": [
    "years=['2022_population', '2021_population*', '2020_population',\n",
    "       '2019_population*', '2018_population*', '2017_population*',\n",
    "       '2016_population*', '2015_population', '2014_population*',\n",
    "       '2013_population*', '2012_population*', '2011_population*',\n",
    "       '2010_population', '2009_population*', '2008_population*',\n",
    "       '2007_population*', '2006_population*', '2005_population*']"
   ]
  },
  {
   "cell_type": "code",
   "execution_count": 224,
   "metadata": {},
   "outputs": [
    {
     "name": "stdout",
     "output_type": "stream",
     "text": [
      "['df_2022_population', 'df_2021_population*', 'df_2020_population', 'df_2019_population*', 'df_2018_population*', 'df_2017_population*', 'df_2016_population*', 'df_2015_population', 'df_2014_population*', 'df_2013_population*', 'df_2012_population*', 'df_2011_population*', 'df_2010_population', 'df_2009_population*', 'df_2008_population*', 'df_2007_population*', 'df_2006_population*', 'df_2005_population*']\n"
     ]
    }
   ],
   "source": [
    "name_list=[]\n",
    "for year in years:\n",
    "    name= 'df_' + str(year)\n",
    "    name_list.append(name)\n",
    "print(name_list)"
   ]
  },
  {
   "cell_type": "code",
   "execution_count": 225,
   "metadata": {},
   "outputs": [
    {
     "name": "stdout",
     "output_type": "stream",
     "text": [
      "18\n"
     ]
    },
    {
     "data": {
      "text/plain": [
       "'df_2020_population'"
      ]
     },
     "execution_count": 225,
     "metadata": {},
     "output_type": "execute_result"
    }
   ],
   "source": [
    "print(len(name_list))\n",
    "name_list[2]"
   ]
  },
  {
   "cell_type": "code",
   "execution_count": 231,
   "metadata": {},
   "outputs": [
    {
     "name": "stdout",
     "output_type": "stream",
     "text": [
      "[['country_territory', 'continent', '2022_population', 'area_(km²)', 'density_(per_km²)'], ['country_territory', 'continent', '2021_population*', 'area_(km²)', 'density_(per_km²)'], ['country_territory', 'continent', '2020_population', 'area_(km²)', 'density_(per_km²)'], ['country_territory', 'continent', '2019_population*', 'area_(km²)', 'density_(per_km²)'], ['country_territory', 'continent', '2018_population*', 'area_(km²)', 'density_(per_km²)'], ['country_territory', 'continent', '2017_population*', 'area_(km²)', 'density_(per_km²)'], ['country_territory', 'continent', '2016_population*', 'area_(km²)', 'density_(per_km²)'], ['country_territory', 'continent', '2015_population', 'area_(km²)', 'density_(per_km²)'], ['country_territory', 'continent', '2014_population*', 'area_(km²)', 'density_(per_km²)'], ['country_territory', 'continent', '2013_population*', 'area_(km²)', 'density_(per_km²)'], ['country_territory', 'continent', '2012_population*', 'area_(km²)', 'density_(per_km²)'], ['country_territory', 'continent', '2011_population*', 'area_(km²)', 'density_(per_km²)'], ['country_territory', 'continent', '2010_population', 'area_(km²)', 'density_(per_km²)'], ['country_territory', 'continent', '2009_population*', 'area_(km²)', 'density_(per_km²)'], ['country_territory', 'continent', '2008_population*', 'area_(km²)', 'density_(per_km²)'], ['country_territory', 'continent', '2007_population*', 'area_(km²)', 'density_(per_km²)'], ['country_territory', 'continent', '2006_population*', 'area_(km²)', 'density_(per_km²)'], ['country_territory', 'continent', '2005_population*', 'area_(km²)', 'density_(per_km²)']]\n",
      "18\n"
     ]
    }
   ],
   "source": [
    "df_list = []\n",
    "name_list\n",
    "years\n",
    "for i in years:\n",
    "\n",
    "    density_columns=['country_territory','continent', \n",
    "                          i, 'area_(km²)','density_(per_km²)']\n",
    "    df_list.append(density_columns)\n",
    "    #df_density=pd.concat(df_list)\n",
    "    #print(density_columns)\n",
    "print(df_list)\n",
    "print(len(df_list))\n"
   ]
  },
  {
   "cell_type": "code",
   "execution_count": 241,
   "metadata": {},
   "outputs": [
    {
     "data": {
      "text/html": [
       "<div>\n",
       "<style scoped>\n",
       "    .dataframe tbody tr th:only-of-type {\n",
       "        vertical-align: middle;\n",
       "    }\n",
       "\n",
       "    .dataframe tbody tr th {\n",
       "        vertical-align: top;\n",
       "    }\n",
       "\n",
       "    .dataframe thead th {\n",
       "        text-align: right;\n",
       "    }\n",
       "</style>\n",
       "<table border=\"1\" class=\"dataframe\">\n",
       "  <thead>\n",
       "    <tr style=\"text-align: right;\">\n",
       "      <th></th>\n",
       "      <th>country_territory</th>\n",
       "      <th>continent</th>\n",
       "      <th>2020_population</th>\n",
       "      <th>area_(km²)</th>\n",
       "      <th>density_(per_km²)</th>\n",
       "    </tr>\n",
       "  </thead>\n",
       "  <tbody>\n",
       "    <tr>\n",
       "      <th>0</th>\n",
       "      <td>Afghanistan</td>\n",
       "      <td>Asia</td>\n",
       "      <td>38972230</td>\n",
       "      <td>652230</td>\n",
       "      <td>63.0587</td>\n",
       "    </tr>\n",
       "    <tr>\n",
       "      <th>1</th>\n",
       "      <td>Albania</td>\n",
       "      <td>Europe</td>\n",
       "      <td>2866849</td>\n",
       "      <td>28748</td>\n",
       "      <td>98.8702</td>\n",
       "    </tr>\n",
       "    <tr>\n",
       "      <th>2</th>\n",
       "      <td>Algeria</td>\n",
       "      <td>Africa</td>\n",
       "      <td>43451666</td>\n",
       "      <td>2381741</td>\n",
       "      <td>18.8531</td>\n",
       "    </tr>\n",
       "    <tr>\n",
       "      <th>3</th>\n",
       "      <td>Angola</td>\n",
       "      <td>Africa</td>\n",
       "      <td>33428485</td>\n",
       "      <td>1246700</td>\n",
       "      <td>28.5466</td>\n",
       "    </tr>\n",
       "    <tr>\n",
       "      <th>4</th>\n",
       "      <td>Argentina</td>\n",
       "      <td>South America</td>\n",
       "      <td>45036032</td>\n",
       "      <td>2780400</td>\n",
       "      <td>16.3683</td>\n",
       "    </tr>\n",
       "    <tr>\n",
       "      <th>...</th>\n",
       "      <td>...</td>\n",
       "      <td>...</td>\n",
       "      <td>...</td>\n",
       "      <td>...</td>\n",
       "      <td>...</td>\n",
       "    </tr>\n",
       "    <tr>\n",
       "      <th>156</th>\n",
       "      <td>Venezuela</td>\n",
       "      <td>South America</td>\n",
       "      <td>28490453</td>\n",
       "      <td>916445</td>\n",
       "      <td>30.8820</td>\n",
       "    </tr>\n",
       "    <tr>\n",
       "      <th>157</th>\n",
       "      <td>Vietnam</td>\n",
       "      <td>Asia</td>\n",
       "      <td>96648685</td>\n",
       "      <td>331212</td>\n",
       "      <td>296.4472</td>\n",
       "    </tr>\n",
       "    <tr>\n",
       "      <th>158</th>\n",
       "      <td>Yemen</td>\n",
       "      <td>Asia</td>\n",
       "      <td>32284046</td>\n",
       "      <td>527968</td>\n",
       "      <td>63.8232</td>\n",
       "    </tr>\n",
       "    <tr>\n",
       "      <th>159</th>\n",
       "      <td>Zambia</td>\n",
       "      <td>Africa</td>\n",
       "      <td>18927715</td>\n",
       "      <td>752612</td>\n",
       "      <td>26.5976</td>\n",
       "    </tr>\n",
       "    <tr>\n",
       "      <th>160</th>\n",
       "      <td>Zimbabwe</td>\n",
       "      <td>Africa</td>\n",
       "      <td>15669666</td>\n",
       "      <td>390757</td>\n",
       "      <td>41.7665</td>\n",
       "    </tr>\n",
       "  </tbody>\n",
       "</table>\n",
       "<p>161 rows × 5 columns</p>\n",
       "</div>"
      ],
      "text/plain": [
       "    country_territory      continent  2020_population  area_(km²)   \n",
       "0         Afghanistan           Asia         38972230      652230  \\\n",
       "1             Albania         Europe          2866849       28748   \n",
       "2             Algeria         Africa         43451666     2381741   \n",
       "3              Angola         Africa         33428485     1246700   \n",
       "4           Argentina  South America         45036032     2780400   \n",
       "..                ...            ...              ...         ...   \n",
       "156         Venezuela  South America         28490453      916445   \n",
       "157           Vietnam           Asia         96648685      331212   \n",
       "158             Yemen           Asia         32284046      527968   \n",
       "159            Zambia         Africa         18927715      752612   \n",
       "160          Zimbabwe         Africa         15669666      390757   \n",
       "\n",
       "     density_(per_km²)  \n",
       "0              63.0587  \n",
       "1              98.8702  \n",
       "2              18.8531  \n",
       "3              28.5466  \n",
       "4              16.3683  \n",
       "..                 ...  \n",
       "156            30.8820  \n",
       "157           296.4472  \n",
       "158            63.8232  \n",
       "159            26.5976  \n",
       "160            41.7665  \n",
       "\n",
       "[161 rows x 5 columns]"
      ]
     },
     "execution_count": 241,
     "metadata": {},
     "output_type": "execute_result"
    }
   ],
   "source": [
    "df_x= df_world_pop_all[df_list[2]]\n",
    "df_x"
   ]
  },
  {
   "cell_type": "code",
   "execution_count": 248,
   "metadata": {},
   "outputs": [
    {
     "name": "stdout",
     "output_type": "stream",
     "text": [
      "    country_territory      continent  2005_population*  area_(km²)   \n",
      "0         Afghanistan           Asia        23866327.0      652230  \\\n",
      "1             Albania         Europe         3047710.0       28748   \n",
      "2             Algeria         Africa        33315482.5     2381741   \n",
      "3              Angola         Africa        19879123.5     1246700   \n",
      "4           Argentina  South America        39085448.5     2780400   \n",
      "..                ...            ...               ...         ...   \n",
      "156         Venezuela  South America        26571375.5      916445   \n",
      "157           Vietnam           Asia        83206077.0      331212   \n",
      "158             Yemen           Asia        21686323.0      527968   \n",
      "159            Zambia         Africa        11841611.0      752612   \n",
      "160          Zimbabwe         Africa        12337223.5      390757   \n",
      "\n",
      "     density_(per_km²)  \n",
      "0              63.0587  \n",
      "1              98.8702  \n",
      "2              18.8531  \n",
      "3              28.5466  \n",
      "4              16.3683  \n",
      "..                 ...  \n",
      "156            30.8820  \n",
      "157           296.4472  \n",
      "158            63.8232  \n",
      "159            26.5976  \n",
      "160            41.7665  \n",
      "\n",
      "[161 rows x 5 columns]\n",
      "    country_territory      continent  2005_population*  area_(km²)   \n",
      "0         Afghanistan           Asia        23866327.0      652230  \\\n",
      "1             Albania         Europe         3047710.0       28748   \n",
      "2             Algeria         Africa        33315482.5     2381741   \n",
      "3              Angola         Africa        19879123.5     1246700   \n",
      "4           Argentina  South America        39085448.5     2780400   \n",
      "..                ...            ...               ...         ...   \n",
      "156         Venezuela  South America        26571375.5      916445   \n",
      "157           Vietnam           Asia        83206077.0      331212   \n",
      "158             Yemen           Asia        21686323.0      527968   \n",
      "159            Zambia         Africa        11841611.0      752612   \n",
      "160          Zimbabwe         Africa        12337223.5      390757   \n",
      "\n",
      "     density_(per_km²)  \n",
      "0              63.0587  \n",
      "1              98.8702  \n",
      "2              18.8531  \n",
      "3              28.5466  \n",
      "4              16.3683  \n",
      "..                 ...  \n",
      "156            30.8820  \n",
      "157           296.4472  \n",
      "158            63.8232  \n",
      "159            26.5976  \n",
      "160            41.7665  \n",
      "\n",
      "[161 rows x 5 columns]\n",
      "    country_territory      continent  2005_population*  area_(km²)   \n",
      "0         Afghanistan           Asia        23866327.0      652230  \\\n",
      "1             Albania         Europe         3047710.0       28748   \n",
      "2             Algeria         Africa        33315482.5     2381741   \n",
      "3              Angola         Africa        19879123.5     1246700   \n",
      "4           Argentina  South America        39085448.5     2780400   \n",
      "..                ...            ...               ...         ...   \n",
      "156         Venezuela  South America        26571375.5      916445   \n",
      "157           Vietnam           Asia        83206077.0      331212   \n",
      "158             Yemen           Asia        21686323.0      527968   \n",
      "159            Zambia         Africa        11841611.0      752612   \n",
      "160          Zimbabwe         Africa        12337223.5      390757   \n",
      "\n",
      "     density_(per_km²)  \n",
      "0              63.0587  \n",
      "1              98.8702  \n",
      "2              18.8531  \n",
      "3              28.5466  \n",
      "4              16.3683  \n",
      "..                 ...  \n",
      "156            30.8820  \n",
      "157           296.4472  \n",
      "158            63.8232  \n",
      "159            26.5976  \n",
      "160            41.7665  \n",
      "\n",
      "[161 rows x 5 columns]\n",
      "    country_territory      continent  2005_population*  area_(km²)   \n",
      "0         Afghanistan           Asia        23866327.0      652230  \\\n",
      "1             Albania         Europe         3047710.0       28748   \n",
      "2             Algeria         Africa        33315482.5     2381741   \n",
      "3              Angola         Africa        19879123.5     1246700   \n",
      "4           Argentina  South America        39085448.5     2780400   \n",
      "..                ...            ...               ...         ...   \n",
      "156         Venezuela  South America        26571375.5      916445   \n",
      "157           Vietnam           Asia        83206077.0      331212   \n",
      "158             Yemen           Asia        21686323.0      527968   \n",
      "159            Zambia         Africa        11841611.0      752612   \n",
      "160          Zimbabwe         Africa        12337223.5      390757   \n",
      "\n",
      "     density_(per_km²)  \n",
      "0              63.0587  \n",
      "1              98.8702  \n",
      "2              18.8531  \n",
      "3              28.5466  \n",
      "4              16.3683  \n",
      "..                 ...  \n",
      "156            30.8820  \n",
      "157           296.4472  \n",
      "158            63.8232  \n",
      "159            26.5976  \n",
      "160            41.7665  \n",
      "\n",
      "[161 rows x 5 columns]\n",
      "    country_territory      continent  2005_population*  area_(km²)   \n",
      "0         Afghanistan           Asia        23866327.0      652230  \\\n",
      "1             Albania         Europe         3047710.0       28748   \n",
      "2             Algeria         Africa        33315482.5     2381741   \n",
      "3              Angola         Africa        19879123.5     1246700   \n",
      "4           Argentina  South America        39085448.5     2780400   \n",
      "..                ...            ...               ...         ...   \n",
      "156         Venezuela  South America        26571375.5      916445   \n",
      "157           Vietnam           Asia        83206077.0      331212   \n",
      "158             Yemen           Asia        21686323.0      527968   \n",
      "159            Zambia         Africa        11841611.0      752612   \n",
      "160          Zimbabwe         Africa        12337223.5      390757   \n",
      "\n",
      "     density_(per_km²)  \n",
      "0              63.0587  \n",
      "1              98.8702  \n",
      "2              18.8531  \n",
      "3              28.5466  \n",
      "4              16.3683  \n",
      "..                 ...  \n",
      "156            30.8820  \n",
      "157           296.4472  \n",
      "158            63.8232  \n",
      "159            26.5976  \n",
      "160            41.7665  \n",
      "\n",
      "[161 rows x 5 columns]\n",
      "    country_territory      continent  2005_population*  area_(km²)   \n",
      "0         Afghanistan           Asia        23866327.0      652230  \\\n",
      "1             Albania         Europe         3047710.0       28748   \n",
      "2             Algeria         Africa        33315482.5     2381741   \n",
      "3              Angola         Africa        19879123.5     1246700   \n",
      "4           Argentina  South America        39085448.5     2780400   \n",
      "..                ...            ...               ...         ...   \n",
      "156         Venezuela  South America        26571375.5      916445   \n",
      "157           Vietnam           Asia        83206077.0      331212   \n",
      "158             Yemen           Asia        21686323.0      527968   \n",
      "159            Zambia         Africa        11841611.0      752612   \n",
      "160          Zimbabwe         Africa        12337223.5      390757   \n",
      "\n",
      "     density_(per_km²)  \n",
      "0              63.0587  \n",
      "1              98.8702  \n",
      "2              18.8531  \n",
      "3              28.5466  \n",
      "4              16.3683  \n",
      "..                 ...  \n",
      "156            30.8820  \n",
      "157           296.4472  \n",
      "158            63.8232  \n",
      "159            26.5976  \n",
      "160            41.7665  \n",
      "\n",
      "[161 rows x 5 columns]\n",
      "    country_territory      continent  2005_population*  area_(km²)   \n",
      "0         Afghanistan           Asia        23866327.0      652230  \\\n",
      "1             Albania         Europe         3047710.0       28748   \n",
      "2             Algeria         Africa        33315482.5     2381741   \n",
      "3              Angola         Africa        19879123.5     1246700   \n",
      "4           Argentina  South America        39085448.5     2780400   \n",
      "..                ...            ...               ...         ...   \n",
      "156         Venezuela  South America        26571375.5      916445   \n",
      "157           Vietnam           Asia        83206077.0      331212   \n",
      "158             Yemen           Asia        21686323.0      527968   \n",
      "159            Zambia         Africa        11841611.0      752612   \n",
      "160          Zimbabwe         Africa        12337223.5      390757   \n",
      "\n",
      "     density_(per_km²)  \n",
      "0              63.0587  \n",
      "1              98.8702  \n",
      "2              18.8531  \n",
      "3              28.5466  \n",
      "4              16.3683  \n",
      "..                 ...  \n",
      "156            30.8820  \n",
      "157           296.4472  \n",
      "158            63.8232  \n",
      "159            26.5976  \n",
      "160            41.7665  \n",
      "\n",
      "[161 rows x 5 columns]\n",
      "    country_territory      continent  2005_population*  area_(km²)   \n",
      "0         Afghanistan           Asia        23866327.0      652230  \\\n",
      "1             Albania         Europe         3047710.0       28748   \n",
      "2             Algeria         Africa        33315482.5     2381741   \n",
      "3              Angola         Africa        19879123.5     1246700   \n",
      "4           Argentina  South America        39085448.5     2780400   \n",
      "..                ...            ...               ...         ...   \n",
      "156         Venezuela  South America        26571375.5      916445   \n",
      "157           Vietnam           Asia        83206077.0      331212   \n",
      "158             Yemen           Asia        21686323.0      527968   \n",
      "159            Zambia         Africa        11841611.0      752612   \n",
      "160          Zimbabwe         Africa        12337223.5      390757   \n",
      "\n",
      "     density_(per_km²)  \n",
      "0              63.0587  \n",
      "1              98.8702  \n",
      "2              18.8531  \n",
      "3              28.5466  \n",
      "4              16.3683  \n",
      "..                 ...  \n",
      "156            30.8820  \n",
      "157           296.4472  \n",
      "158            63.8232  \n",
      "159            26.5976  \n",
      "160            41.7665  \n",
      "\n",
      "[161 rows x 5 columns]\n",
      "    country_territory      continent  2005_population*  area_(km²)   \n",
      "0         Afghanistan           Asia        23866327.0      652230  \\\n",
      "1             Albania         Europe         3047710.0       28748   \n",
      "2             Algeria         Africa        33315482.5     2381741   \n",
      "3              Angola         Africa        19879123.5     1246700   \n",
      "4           Argentina  South America        39085448.5     2780400   \n",
      "..                ...            ...               ...         ...   \n",
      "156         Venezuela  South America        26571375.5      916445   \n",
      "157           Vietnam           Asia        83206077.0      331212   \n",
      "158             Yemen           Asia        21686323.0      527968   \n",
      "159            Zambia         Africa        11841611.0      752612   \n",
      "160          Zimbabwe         Africa        12337223.5      390757   \n",
      "\n",
      "     density_(per_km²)  \n",
      "0              63.0587  \n",
      "1              98.8702  \n",
      "2              18.8531  \n",
      "3              28.5466  \n",
      "4              16.3683  \n",
      "..                 ...  \n",
      "156            30.8820  \n",
      "157           296.4472  \n",
      "158            63.8232  \n",
      "159            26.5976  \n",
      "160            41.7665  \n",
      "\n",
      "[161 rows x 5 columns]\n",
      "    country_territory      continent  2005_population*  area_(km²)   \n",
      "0         Afghanistan           Asia        23866327.0      652230  \\\n",
      "1             Albania         Europe         3047710.0       28748   \n",
      "2             Algeria         Africa        33315482.5     2381741   \n",
      "3              Angola         Africa        19879123.5     1246700   \n",
      "4           Argentina  South America        39085448.5     2780400   \n",
      "..                ...            ...               ...         ...   \n",
      "156         Venezuela  South America        26571375.5      916445   \n",
      "157           Vietnam           Asia        83206077.0      331212   \n",
      "158             Yemen           Asia        21686323.0      527968   \n",
      "159            Zambia         Africa        11841611.0      752612   \n",
      "160          Zimbabwe         Africa        12337223.5      390757   \n",
      "\n",
      "     density_(per_km²)  \n",
      "0              63.0587  \n",
      "1              98.8702  \n",
      "2              18.8531  \n",
      "3              28.5466  \n",
      "4              16.3683  \n",
      "..                 ...  \n",
      "156            30.8820  \n",
      "157           296.4472  \n",
      "158            63.8232  \n",
      "159            26.5976  \n",
      "160            41.7665  \n",
      "\n",
      "[161 rows x 5 columns]\n",
      "    country_territory      continent  2005_population*  area_(km²)   \n",
      "0         Afghanistan           Asia        23866327.0      652230  \\\n",
      "1             Albania         Europe         3047710.0       28748   \n",
      "2             Algeria         Africa        33315482.5     2381741   \n",
      "3              Angola         Africa        19879123.5     1246700   \n",
      "4           Argentina  South America        39085448.5     2780400   \n",
      "..                ...            ...               ...         ...   \n",
      "156         Venezuela  South America        26571375.5      916445   \n",
      "157           Vietnam           Asia        83206077.0      331212   \n",
      "158             Yemen           Asia        21686323.0      527968   \n",
      "159            Zambia         Africa        11841611.0      752612   \n",
      "160          Zimbabwe         Africa        12337223.5      390757   \n",
      "\n",
      "     density_(per_km²)  \n",
      "0              63.0587  \n",
      "1              98.8702  \n",
      "2              18.8531  \n",
      "3              28.5466  \n",
      "4              16.3683  \n",
      "..                 ...  \n",
      "156            30.8820  \n",
      "157           296.4472  \n",
      "158            63.8232  \n",
      "159            26.5976  \n",
      "160            41.7665  \n",
      "\n",
      "[161 rows x 5 columns]\n",
      "    country_territory      continent  2005_population*  area_(km²)   \n",
      "0         Afghanistan           Asia        23866327.0      652230  \\\n",
      "1             Albania         Europe         3047710.0       28748   \n",
      "2             Algeria         Africa        33315482.5     2381741   \n",
      "3              Angola         Africa        19879123.5     1246700   \n",
      "4           Argentina  South America        39085448.5     2780400   \n",
      "..                ...            ...               ...         ...   \n",
      "156         Venezuela  South America        26571375.5      916445   \n",
      "157           Vietnam           Asia        83206077.0      331212   \n",
      "158             Yemen           Asia        21686323.0      527968   \n",
      "159            Zambia         Africa        11841611.0      752612   \n",
      "160          Zimbabwe         Africa        12337223.5      390757   \n",
      "\n",
      "     density_(per_km²)  \n",
      "0              63.0587  \n",
      "1              98.8702  \n",
      "2              18.8531  \n",
      "3              28.5466  \n",
      "4              16.3683  \n",
      "..                 ...  \n",
      "156            30.8820  \n",
      "157           296.4472  \n",
      "158            63.8232  \n",
      "159            26.5976  \n",
      "160            41.7665  \n",
      "\n",
      "[161 rows x 5 columns]\n",
      "    country_territory      continent  2005_population*  area_(km²)   \n",
      "0         Afghanistan           Asia        23866327.0      652230  \\\n",
      "1             Albania         Europe         3047710.0       28748   \n",
      "2             Algeria         Africa        33315482.5     2381741   \n",
      "3              Angola         Africa        19879123.5     1246700   \n",
      "4           Argentina  South America        39085448.5     2780400   \n",
      "..                ...            ...               ...         ...   \n",
      "156         Venezuela  South America        26571375.5      916445   \n",
      "157           Vietnam           Asia        83206077.0      331212   \n",
      "158             Yemen           Asia        21686323.0      527968   \n",
      "159            Zambia         Africa        11841611.0      752612   \n",
      "160          Zimbabwe         Africa        12337223.5      390757   \n",
      "\n",
      "     density_(per_km²)  \n",
      "0              63.0587  \n",
      "1              98.8702  \n",
      "2              18.8531  \n",
      "3              28.5466  \n",
      "4              16.3683  \n",
      "..                 ...  \n",
      "156            30.8820  \n",
      "157           296.4472  \n",
      "158            63.8232  \n",
      "159            26.5976  \n",
      "160            41.7665  \n",
      "\n",
      "[161 rows x 5 columns]\n",
      "    country_territory      continent  2005_population*  area_(km²)   \n",
      "0         Afghanistan           Asia        23866327.0      652230  \\\n",
      "1             Albania         Europe         3047710.0       28748   \n",
      "2             Algeria         Africa        33315482.5     2381741   \n",
      "3              Angola         Africa        19879123.5     1246700   \n",
      "4           Argentina  South America        39085448.5     2780400   \n",
      "..                ...            ...               ...         ...   \n",
      "156         Venezuela  South America        26571375.5      916445   \n",
      "157           Vietnam           Asia        83206077.0      331212   \n",
      "158             Yemen           Asia        21686323.0      527968   \n",
      "159            Zambia         Africa        11841611.0      752612   \n",
      "160          Zimbabwe         Africa        12337223.5      390757   \n",
      "\n",
      "     density_(per_km²)  \n",
      "0              63.0587  \n",
      "1              98.8702  \n",
      "2              18.8531  \n",
      "3              28.5466  \n",
      "4              16.3683  \n",
      "..                 ...  \n",
      "156            30.8820  \n",
      "157           296.4472  \n",
      "158            63.8232  \n",
      "159            26.5976  \n",
      "160            41.7665  \n",
      "\n",
      "[161 rows x 5 columns]\n",
      "    country_territory      continent  2005_population*  area_(km²)   \n",
      "0         Afghanistan           Asia        23866327.0      652230  \\\n",
      "1             Albania         Europe         3047710.0       28748   \n",
      "2             Algeria         Africa        33315482.5     2381741   \n",
      "3              Angola         Africa        19879123.5     1246700   \n",
      "4           Argentina  South America        39085448.5     2780400   \n",
      "..                ...            ...               ...         ...   \n",
      "156         Venezuela  South America        26571375.5      916445   \n",
      "157           Vietnam           Asia        83206077.0      331212   \n",
      "158             Yemen           Asia        21686323.0      527968   \n",
      "159            Zambia         Africa        11841611.0      752612   \n",
      "160          Zimbabwe         Africa        12337223.5      390757   \n",
      "\n",
      "     density_(per_km²)  \n",
      "0              63.0587  \n",
      "1              98.8702  \n",
      "2              18.8531  \n",
      "3              28.5466  \n",
      "4              16.3683  \n",
      "..                 ...  \n",
      "156            30.8820  \n",
      "157           296.4472  \n",
      "158            63.8232  \n",
      "159            26.5976  \n",
      "160            41.7665  \n",
      "\n",
      "[161 rows x 5 columns]\n",
      "    country_territory      continent  2005_population*  area_(km²)   \n",
      "0         Afghanistan           Asia        23866327.0      652230  \\\n",
      "1             Albania         Europe         3047710.0       28748   \n",
      "2             Algeria         Africa        33315482.5     2381741   \n",
      "3              Angola         Africa        19879123.5     1246700   \n",
      "4           Argentina  South America        39085448.5     2780400   \n",
      "..                ...            ...               ...         ...   \n",
      "156         Venezuela  South America        26571375.5      916445   \n",
      "157           Vietnam           Asia        83206077.0      331212   \n",
      "158             Yemen           Asia        21686323.0      527968   \n",
      "159            Zambia         Africa        11841611.0      752612   \n",
      "160          Zimbabwe         Africa        12337223.5      390757   \n",
      "\n",
      "     density_(per_km²)  \n",
      "0              63.0587  \n",
      "1              98.8702  \n",
      "2              18.8531  \n",
      "3              28.5466  \n",
      "4              16.3683  \n",
      "..                 ...  \n",
      "156            30.8820  \n",
      "157           296.4472  \n",
      "158            63.8232  \n",
      "159            26.5976  \n",
      "160            41.7665  \n",
      "\n",
      "[161 rows x 5 columns]\n",
      "    country_territory      continent  2005_population*  area_(km²)   \n",
      "0         Afghanistan           Asia        23866327.0      652230  \\\n",
      "1             Albania         Europe         3047710.0       28748   \n",
      "2             Algeria         Africa        33315482.5     2381741   \n",
      "3              Angola         Africa        19879123.5     1246700   \n",
      "4           Argentina  South America        39085448.5     2780400   \n",
      "..                ...            ...               ...         ...   \n",
      "156         Venezuela  South America        26571375.5      916445   \n",
      "157           Vietnam           Asia        83206077.0      331212   \n",
      "158             Yemen           Asia        21686323.0      527968   \n",
      "159            Zambia         Africa        11841611.0      752612   \n",
      "160          Zimbabwe         Africa        12337223.5      390757   \n",
      "\n",
      "     density_(per_km²)  \n",
      "0              63.0587  \n",
      "1              98.8702  \n",
      "2              18.8531  \n",
      "3              28.5466  \n",
      "4              16.3683  \n",
      "..                 ...  \n",
      "156            30.8820  \n",
      "157           296.4472  \n",
      "158            63.8232  \n",
      "159            26.5976  \n",
      "160            41.7665  \n",
      "\n",
      "[161 rows x 5 columns]\n",
      "    country_territory      continent  2005_population*  area_(km²)   \n",
      "0         Afghanistan           Asia        23866327.0      652230  \\\n",
      "1             Albania         Europe         3047710.0       28748   \n",
      "2             Algeria         Africa        33315482.5     2381741   \n",
      "3              Angola         Africa        19879123.5     1246700   \n",
      "4           Argentina  South America        39085448.5     2780400   \n",
      "..                ...            ...               ...         ...   \n",
      "156         Venezuela  South America        26571375.5      916445   \n",
      "157           Vietnam           Asia        83206077.0      331212   \n",
      "158             Yemen           Asia        21686323.0      527968   \n",
      "159            Zambia         Africa        11841611.0      752612   \n",
      "160          Zimbabwe         Africa        12337223.5      390757   \n",
      "\n",
      "     density_(per_km²)  \n",
      "0              63.0587  \n",
      "1              98.8702  \n",
      "2              18.8531  \n",
      "3              28.5466  \n",
      "4              16.3683  \n",
      "..                 ...  \n",
      "156            30.8820  \n",
      "157           296.4472  \n",
      "158            63.8232  \n",
      "159            26.5976  \n",
      "160            41.7665  \n",
      "\n",
      "[161 rows x 5 columns]\n"
     ]
    }
   ],
   "source": [
    "for i in range(18):\n",
    "   #x=i\n",
    "    name_list[i]=df_world_pop_all[df_list[i]]\n",
    "    print(name_list[17])\n",
    "    "
   ]
  },
  {
   "cell_type": "code",
   "execution_count": 250,
   "metadata": {},
   "outputs": [],
   "source": [
    "df_2022_density= name_list[0]\n",
    "df_2021_density= name_list[1]\n",
    "df_2020_density= name_list[2]\n",
    "df_2019_density= name_list[3]\n",
    "df_2018_density= name_list[4]\n",
    "df_2017_density= name_list[5]\n",
    "df_2016_density= name_list[6]\n",
    "df_2015_density= name_list[7]\n",
    "df_2014_density= name_list[8]\n",
    "df_2013_density= name_list[9]\n",
    "df_2012_density= name_list[10]\n",
    "df_2011_density= name_list[11]\n",
    "df_2010_density= name_list[12]\n",
    "df_2009_density= name_list[13]\n",
    "df_2008_density= name_list[14]\n",
    "df_2007_density= name_list[15]\n",
    "df_2006_density= name_list[16]\n",
    "df_2005_density= name_list[17]"
   ]
  },
  {
   "cell_type": "code",
   "execution_count": 251,
   "metadata": {},
   "outputs": [
    {
     "data": {
      "text/html": [
       "<div>\n",
       "<style scoped>\n",
       "    .dataframe tbody tr th:only-of-type {\n",
       "        vertical-align: middle;\n",
       "    }\n",
       "\n",
       "    .dataframe tbody tr th {\n",
       "        vertical-align: top;\n",
       "    }\n",
       "\n",
       "    .dataframe thead th {\n",
       "        text-align: right;\n",
       "    }\n",
       "</style>\n",
       "<table border=\"1\" class=\"dataframe\">\n",
       "  <thead>\n",
       "    <tr style=\"text-align: right;\">\n",
       "      <th></th>\n",
       "      <th>country_territory</th>\n",
       "      <th>continent</th>\n",
       "      <th>2010_population</th>\n",
       "      <th>area_(km²)</th>\n",
       "      <th>density_(per_km²)</th>\n",
       "    </tr>\n",
       "  </thead>\n",
       "  <tbody>\n",
       "    <tr>\n",
       "      <th>0</th>\n",
       "      <td>Afghanistan</td>\n",
       "      <td>Asia</td>\n",
       "      <td>28189672</td>\n",
       "      <td>652230</td>\n",
       "      <td>63.0587</td>\n",
       "    </tr>\n",
       "    <tr>\n",
       "      <th>1</th>\n",
       "      <td>Albania</td>\n",
       "      <td>Europe</td>\n",
       "      <td>2913399</td>\n",
       "      <td>28748</td>\n",
       "      <td>98.8702</td>\n",
       "    </tr>\n",
       "    <tr>\n",
       "      <th>2</th>\n",
       "      <td>Algeria</td>\n",
       "      <td>Africa</td>\n",
       "      <td>35856344</td>\n",
       "      <td>2381741</td>\n",
       "      <td>18.8531</td>\n",
       "    </tr>\n",
       "    <tr>\n",
       "      <th>3</th>\n",
       "      <td>Angola</td>\n",
       "      <td>Africa</td>\n",
       "      <td>23364185</td>\n",
       "      <td>1246700</td>\n",
       "      <td>28.5466</td>\n",
       "    </tr>\n",
       "    <tr>\n",
       "      <th>4</th>\n",
       "      <td>Argentina</td>\n",
       "      <td>South America</td>\n",
       "      <td>41100123</td>\n",
       "      <td>2780400</td>\n",
       "      <td>16.3683</td>\n",
       "    </tr>\n",
       "    <tr>\n",
       "      <th>...</th>\n",
       "      <td>...</td>\n",
       "      <td>...</td>\n",
       "      <td>...</td>\n",
       "      <td>...</td>\n",
       "      <td>...</td>\n",
       "    </tr>\n",
       "    <tr>\n",
       "      <th>156</th>\n",
       "      <td>Venezuela</td>\n",
       "      <td>South America</td>\n",
       "      <td>28715022</td>\n",
       "      <td>916445</td>\n",
       "      <td>30.8820</td>\n",
       "    </tr>\n",
       "    <tr>\n",
       "      <th>157</th>\n",
       "      <td>Vietnam</td>\n",
       "      <td>Asia</td>\n",
       "      <td>87411012</td>\n",
       "      <td>331212</td>\n",
       "      <td>296.4472</td>\n",
       "    </tr>\n",
       "    <tr>\n",
       "      <th>158</th>\n",
       "      <td>Yemen</td>\n",
       "      <td>Asia</td>\n",
       "      <td>24743946</td>\n",
       "      <td>527968</td>\n",
       "      <td>63.8232</td>\n",
       "    </tr>\n",
       "    <tr>\n",
       "      <th>159</th>\n",
       "      <td>Zambia</td>\n",
       "      <td>Africa</td>\n",
       "      <td>13792086</td>\n",
       "      <td>752612</td>\n",
       "      <td>26.5976</td>\n",
       "    </tr>\n",
       "    <tr>\n",
       "      <th>160</th>\n",
       "      <td>Zimbabwe</td>\n",
       "      <td>Africa</td>\n",
       "      <td>12839771</td>\n",
       "      <td>390757</td>\n",
       "      <td>41.7665</td>\n",
       "    </tr>\n",
       "  </tbody>\n",
       "</table>\n",
       "<p>161 rows × 5 columns</p>\n",
       "</div>"
      ],
      "text/plain": [
       "    country_territory      continent  2010_population  area_(km²)   \n",
       "0         Afghanistan           Asia         28189672      652230  \\\n",
       "1             Albania         Europe          2913399       28748   \n",
       "2             Algeria         Africa         35856344     2381741   \n",
       "3              Angola         Africa         23364185     1246700   \n",
       "4           Argentina  South America         41100123     2780400   \n",
       "..                ...            ...              ...         ...   \n",
       "156         Venezuela  South America         28715022      916445   \n",
       "157           Vietnam           Asia         87411012      331212   \n",
       "158             Yemen           Asia         24743946      527968   \n",
       "159            Zambia         Africa         13792086      752612   \n",
       "160          Zimbabwe         Africa         12839771      390757   \n",
       "\n",
       "     density_(per_km²)  \n",
       "0              63.0587  \n",
       "1              98.8702  \n",
       "2              18.8531  \n",
       "3              28.5466  \n",
       "4              16.3683  \n",
       "..                 ...  \n",
       "156            30.8820  \n",
       "157           296.4472  \n",
       "158            63.8232  \n",
       "159            26.5976  \n",
       "160            41.7665  \n",
       "\n",
       "[161 rows x 5 columns]"
      ]
     },
     "execution_count": 251,
     "metadata": {},
     "output_type": "execute_result"
    }
   ],
   "source": [
    "df_2010_density"
   ]
  },
  {
   "cell_type": "code",
   "execution_count": 255,
   "metadata": {},
   "outputs": [
    {
     "data": {
      "text/html": [
       "<div>\n",
       "<style scoped>\n",
       "    .dataframe tbody tr th:only-of-type {\n",
       "        vertical-align: middle;\n",
       "    }\n",
       "\n",
       "    .dataframe tbody tr th {\n",
       "        vertical-align: top;\n",
       "    }\n",
       "\n",
       "    .dataframe thead th {\n",
       "        text-align: right;\n",
       "    }\n",
       "</style>\n",
       "<table border=\"1\" class=\"dataframe\">\n",
       "  <thead>\n",
       "    <tr style=\"text-align: right;\">\n",
       "      <th></th>\n",
       "      <th>country_territory</th>\n",
       "      <th>continent</th>\n",
       "      <th>2010_population</th>\n",
       "      <th>area_(km²)</th>\n",
       "      <th>density_(per_km²)</th>\n",
       "      <th>density</th>\n",
       "    </tr>\n",
       "  </thead>\n",
       "  <tbody>\n",
       "    <tr>\n",
       "      <th>0</th>\n",
       "      <td>Afghanistan</td>\n",
       "      <td>Asia</td>\n",
       "      <td>28189672</td>\n",
       "      <td>652230</td>\n",
       "      <td>63.0587</td>\n",
       "      <td>43.220447</td>\n",
       "    </tr>\n",
       "    <tr>\n",
       "      <th>1</th>\n",
       "      <td>Albania</td>\n",
       "      <td>Europe</td>\n",
       "      <td>2913399</td>\n",
       "      <td>28748</td>\n",
       "      <td>98.8702</td>\n",
       "      <td>101.342667</td>\n",
       "    </tr>\n",
       "    <tr>\n",
       "      <th>2</th>\n",
       "      <td>Algeria</td>\n",
       "      <td>Africa</td>\n",
       "      <td>35856344</td>\n",
       "      <td>2381741</td>\n",
       "      <td>18.8531</td>\n",
       "      <td>15.054678</td>\n",
       "    </tr>\n",
       "    <tr>\n",
       "      <th>3</th>\n",
       "      <td>Angola</td>\n",
       "      <td>Africa</td>\n",
       "      <td>23364185</td>\n",
       "      <td>1246700</td>\n",
       "      <td>28.5466</td>\n",
       "      <td>18.740824</td>\n",
       "    </tr>\n",
       "    <tr>\n",
       "      <th>4</th>\n",
       "      <td>Argentina</td>\n",
       "      <td>South America</td>\n",
       "      <td>41100123</td>\n",
       "      <td>2780400</td>\n",
       "      <td>16.3683</td>\n",
       "      <td>14.782090</td>\n",
       "    </tr>\n",
       "    <tr>\n",
       "      <th>...</th>\n",
       "      <td>...</td>\n",
       "      <td>...</td>\n",
       "      <td>...</td>\n",
       "      <td>...</td>\n",
       "      <td>...</td>\n",
       "      <td>...</td>\n",
       "    </tr>\n",
       "    <tr>\n",
       "      <th>156</th>\n",
       "      <td>Venezuela</td>\n",
       "      <td>South America</td>\n",
       "      <td>28715022</td>\n",
       "      <td>916445</td>\n",
       "      <td>30.8820</td>\n",
       "      <td>31.333055</td>\n",
       "    </tr>\n",
       "    <tr>\n",
       "      <th>157</th>\n",
       "      <td>Vietnam</td>\n",
       "      <td>Asia</td>\n",
       "      <td>87411012</td>\n",
       "      <td>331212</td>\n",
       "      <td>296.4472</td>\n",
       "      <td>263.912576</td>\n",
       "    </tr>\n",
       "    <tr>\n",
       "      <th>158</th>\n",
       "      <td>Yemen</td>\n",
       "      <td>Asia</td>\n",
       "      <td>24743946</td>\n",
       "      <td>527968</td>\n",
       "      <td>63.8232</td>\n",
       "      <td>46.866374</td>\n",
       "    </tr>\n",
       "    <tr>\n",
       "      <th>159</th>\n",
       "      <td>Zambia</td>\n",
       "      <td>Africa</td>\n",
       "      <td>13792086</td>\n",
       "      <td>752612</td>\n",
       "      <td>26.5976</td>\n",
       "      <td>18.325626</td>\n",
       "    </tr>\n",
       "    <tr>\n",
       "      <th>160</th>\n",
       "      <td>Zimbabwe</td>\n",
       "      <td>Africa</td>\n",
       "      <td>12839771</td>\n",
       "      <td>390757</td>\n",
       "      <td>41.7665</td>\n",
       "      <td>NaN</td>\n",
       "    </tr>\n",
       "  </tbody>\n",
       "</table>\n",
       "<p>161 rows × 6 columns</p>\n",
       "</div>"
      ],
      "text/plain": [
       "    country_territory      continent  2010_population  area_(km²)   \n",
       "0         Afghanistan           Asia         28189672      652230  \\\n",
       "1             Albania         Europe          2913399       28748   \n",
       "2             Algeria         Africa         35856344     2381741   \n",
       "3              Angola         Africa         23364185     1246700   \n",
       "4           Argentina  South America         41100123     2780400   \n",
       "..                ...            ...              ...         ...   \n",
       "156         Venezuela  South America         28715022      916445   \n",
       "157           Vietnam           Asia         87411012      331212   \n",
       "158             Yemen           Asia         24743946      527968   \n",
       "159            Zambia         Africa         13792086      752612   \n",
       "160          Zimbabwe         Africa         12839771      390757   \n",
       "\n",
       "     density_(per_km²)     density  \n",
       "0              63.0587   43.220447  \n",
       "1              98.8702  101.342667  \n",
       "2              18.8531   15.054678  \n",
       "3              28.5466   18.740824  \n",
       "4              16.3683   14.782090  \n",
       "..                 ...         ...  \n",
       "156            30.8820   31.333055  \n",
       "157           296.4472  263.912576  \n",
       "158            63.8232   46.866374  \n",
       "159            26.5976   18.325626  \n",
       "160            41.7665         NaN  \n",
       "\n",
       "[161 rows x 6 columns]"
      ]
     },
     "execution_count": 255,
     "metadata": {},
     "output_type": "execute_result"
    }
   ],
   "source": [
    "df_test=df_2010_density\n",
    "df_test['density']=(df_2010_density.iloc[0:160,2])/(df_2010_density.iloc[0:160,3])\n",
    "df_test"
   ]
  },
  {
   "cell_type": "code",
   "execution_count": null,
   "metadata": {},
   "outputs": [],
   "source": [
    "list_pop_density=(df_2022_density,\n",
    "df_2021_density,\n",
    "df_2020_density,\n",
    "df_2019_density,\n",
    "df_2018_density,\n",
    "df_2017_density,\n",
    "df_2016_density,\n",
    "df_2015_density,\n",
    "df_2014_density,\n",
    "df_2013_density,\n",
    "df_2012_density,\n",
    "df_2011_density,\n",
    "df_2010_density,\n",
    "df_2009_density,\n",
    "df_2008_density,\n",
    "df_2007_density,\n",
    "df_2006_density,\n",
    "df_2005_density)"
   ]
  },
  {
   "cell_type": "markdown",
   "metadata": {},
   "source": [
    "**calculating the correct population density per km2 within each individual density dataframe for each year (2005-2022)**"
   ]
  },
  {
   "cell_type": "code",
   "execution_count": 260,
   "metadata": {},
   "outputs": [
    {
     "name": "stdout",
     "output_type": "stream",
     "text": [
      "[    country_territory      continent  2022_population  area_(km²)   \n",
      "0         Afghanistan           Asia         41128771      652230  \\\n",
      "1             Albania         Europe          2842321       28748   \n",
      "2             Algeria         Africa         44903225     2381741   \n",
      "3              Angola         Africa         35588987     1246700   \n",
      "4           Argentina  South America         45510318     2780400   \n",
      "..                ...            ...              ...         ...   \n",
      "156         Venezuela  South America         28301696      916445   \n",
      "157           Vietnam           Asia         98186856      331212   \n",
      "158             Yemen           Asia         33696614      527968   \n",
      "159            Zambia         Africa         20017675      752612   \n",
      "160          Zimbabwe         Africa         16320537      390757   \n",
      "\n",
      "     density_(per_km²)  \n",
      "0            63.058692  \n",
      "1            98.870217  \n",
      "2            18.853110  \n",
      "3            28.546552  \n",
      "4            16.368263  \n",
      "..                 ...  \n",
      "156          30.882045  \n",
      "157         296.447158  \n",
      "158          63.823213  \n",
      "159          26.597603  \n",
      "160                NaN  \n",
      "\n",
      "[161 rows x 5 columns],     country_territory      continent  2021_population*  area_(km²)   \n",
      "0         Afghanistan           Asia        40050500.5      652230  \\\n",
      "1             Albania         Europe         2854585.0       28748   \n",
      "2             Algeria         Africa        44177445.5     2381741   \n",
      "3              Angola         Africa        34508736.0     1246700   \n",
      "4           Argentina  South America        45273175.0     2780400   \n",
      "..                ...            ...               ...         ...   \n",
      "156         Venezuela  South America        28396074.5      916445   \n",
      "157           Vietnam           Asia        97417770.5      331212   \n",
      "158             Yemen           Asia        32990330.0      527968   \n",
      "159            Zambia         Africa        19472695.0      752612   \n",
      "160          Zimbabwe         Africa        15995101.5      390757   \n",
      "\n",
      "     density_(per_km²)  \n",
      "0            61.405487  \n",
      "1            99.296821  \n",
      "2            18.548384  \n",
      "3            27.680064  \n",
      "4            16.282972  \n",
      "..                 ...  \n",
      "156          30.985029  \n",
      "157         294.125124  \n",
      "158          62.485473  \n",
      "159          25.873485  \n",
      "160                NaN  \n",
      "\n",
      "[161 rows x 5 columns],     country_territory      continent  2020_population  area_(km²)   \n",
      "0         Afghanistan           Asia         38972230      652230  \\\n",
      "1             Albania         Europe          2866849       28748   \n",
      "2             Algeria         Africa         43451666     2381741   \n",
      "3              Angola         Africa         33428485     1246700   \n",
      "4           Argentina  South America         45036032     2780400   \n",
      "..                ...            ...              ...         ...   \n",
      "156         Venezuela  South America         28490453      916445   \n",
      "157           Vietnam           Asia         96648685      331212   \n",
      "158             Yemen           Asia         32284046      527968   \n",
      "159            Zambia         Africa         18927715      752612   \n",
      "160          Zimbabwe         Africa         15669666      390757   \n",
      "\n",
      "     density_(per_km²)  \n",
      "0            59.752281  \n",
      "1            99.723424  \n",
      "2            18.243657  \n",
      "3            26.813576  \n",
      "4            16.197681  \n",
      "..                 ...  \n",
      "156          31.088012  \n",
      "157         291.803090  \n",
      "158          61.147732  \n",
      "159          25.149366  \n",
      "160                NaN  \n",
      "\n",
      "[161 rows x 5 columns],     country_territory      continent  2019_population*  area_(km²)   \n",
      "0         Afghanistan           Asia        37928483.8      652230  \\\n",
      "1             Albania         Europe         2869975.4       28748   \n",
      "2             Algeria         Africa        42669963.6     2381741   \n",
      "3              Angola         Africa        32368332.2     1246700   \n",
      "4           Argentina  South America        44680238.6     2780400   \n",
      "..                ...            ...               ...         ...   \n",
      "156         Venezuela  South America        28898305.6      916445   \n",
      "157           Vietnam           Asia        95757227.6      331212   \n",
      "158             Yemen           Asia        31530545.8      527968   \n",
      "159            Zambia         Africa        18391818.0      752612   \n",
      "160          Zimbabwe         Africa        15366720.2      390757   \n",
      "\n",
      "     density_(per_km²)  \n",
      "0            58.152007  \n",
      "1            99.832176  \n",
      "2            17.915451  \n",
      "3            25.963209  \n",
      "4            16.069716  \n",
      "..                 ...  \n",
      "156          31.533050  \n",
      "157         289.111589  \n",
      "158          59.720562  \n",
      "159          24.437317  \n",
      "160                NaN  \n",
      "\n",
      "[161 rows x 5 columns],     country_territory      continent  2018_population*  area_(km²)   \n",
      "0         Afghanistan           Asia        36884737.6      652230  \\\n",
      "1             Albania         Europe         2873101.8       28748   \n",
      "2             Algeria         Africa        41888261.2     2381741   \n",
      "3              Angola         Africa        31308179.4     1246700   \n",
      "4           Argentina  South America        44324445.2     2780400   \n",
      "..                ...            ...               ...         ...   \n",
      "156         Venezuela  South America        29306158.2      916445   \n",
      "157           Vietnam           Asia        94865770.2      331212   \n",
      "158             Yemen           Asia        30777045.6      527968   \n",
      "159            Zambia         Africa        17855921.0      752612   \n",
      "160          Zimbabwe         Africa        15063774.4      390757   \n",
      "\n",
      "     density_(per_km²)  \n",
      "0            56.551734  \n",
      "1            99.940928  \n",
      "2            17.587244  \n",
      "3            25.112841  \n",
      "4            15.941751  \n",
      "..                 ...  \n",
      "156          31.978087  \n",
      "157         286.420088  \n",
      "158          58.293392  \n",
      "159          23.725267  \n",
      "160                NaN  \n",
      "\n",
      "[161 rows x 5 columns],     country_territory      continent  2017_population*  area_(km²)   \n",
      "0         Afghanistan           Asia        35840991.4      652230  \\\n",
      "1             Albania         Europe         2876228.2       28748   \n",
      "2             Algeria         Africa        41106558.8     2381741   \n",
      "3              Angola         Africa        30248026.6     1246700   \n",
      "4           Argentina  South America        43968651.8     2780400   \n",
      "..                ...            ...               ...         ...   \n",
      "156         Venezuela  South America        29714010.8      916445   \n",
      "157           Vietnam           Asia        93974312.8      331212   \n",
      "158             Yemen           Asia        30023545.4      527968   \n",
      "159            Zambia         Africa        17320024.0      752612   \n",
      "160          Zimbabwe         Africa        14760828.6      390757   \n",
      "\n",
      "     density_(per_km²)  \n",
      "0            54.951461  \n",
      "1           100.049680  \n",
      "2            17.259038  \n",
      "3            24.262474  \n",
      "4            15.813786  \n",
      "..                 ...  \n",
      "156          32.423125  \n",
      "157         283.728587  \n",
      "158          56.866222  \n",
      "159          23.013218  \n",
      "160                NaN  \n",
      "\n",
      "[161 rows x 5 columns],     country_territory      continent  2016_population*  area_(km²)   \n",
      "0         Afghanistan           Asia        34797245.2      652230  \\\n",
      "1             Albania         Europe         2879354.6       28748   \n",
      "2             Algeria         Africa        40324856.4     2381741   \n",
      "3              Angola         Africa        29187873.8     1246700   \n",
      "4           Argentina  South America        43612858.4     2780400   \n",
      "..                ...            ...               ...         ...   \n",
      "156         Venezuela  South America        30121863.4      916445   \n",
      "157           Vietnam           Asia        93082855.4      331212   \n",
      "158             Yemen           Asia        29270045.2      527968   \n",
      "159            Zambia         Africa        16784127.0      752612   \n",
      "160          Zimbabwe         Africa        14457882.8      390757   \n",
      "\n",
      "     density_(per_km²)  \n",
      "0            53.351188  \n",
      "1           100.158432  \n",
      "2            16.930832  \n",
      "3            23.412107  \n",
      "4            15.685822  \n",
      "..                 ...  \n",
      "156          32.868163  \n",
      "157         281.037086  \n",
      "158          55.439052  \n",
      "159          22.301168  \n",
      "160                NaN  \n",
      "\n",
      "[161 rows x 5 columns],     country_territory      continent  2015_population  area_(km²)   \n",
      "0         Afghanistan           Asia         33753499      652230  \\\n",
      "1             Albania         Europe          2882481       28748   \n",
      "2             Algeria         Africa         39543154     2381741   \n",
      "3              Angola         Africa         28127721     1246700   \n",
      "4           Argentina  South America         43257065     2780400   \n",
      "..                ...            ...              ...         ...   \n",
      "156         Venezuela  South America         30529716      916445   \n",
      "157           Vietnam           Asia         92191398      331212   \n",
      "158             Yemen           Asia         28516545      527968   \n",
      "159            Zambia         Africa         16248230      752612   \n",
      "160          Zimbabwe         Africa         14154937      390757   \n",
      "\n",
      "     density_(per_km²)  \n",
      "0            51.750915  \n",
      "1           100.267184  \n",
      "2            16.602626  \n",
      "3            22.561740  \n",
      "4            15.557857  \n",
      "..                 ...  \n",
      "156          33.313200  \n",
      "157         278.345585  \n",
      "158          54.011881  \n",
      "159          21.589119  \n",
      "160                NaN  \n",
      "\n",
      "[161 rows x 5 columns],     country_territory      continent  2014_population*  area_(km²)   \n",
      "0         Afghanistan           Asia        32640733.6      652230  \\\n",
      "1             Albania         Europe         2888664.6       28748   \n",
      "2             Algeria         Africa        38805792.0     2381741   \n",
      "3              Angola         Africa        27175013.8     1246700   \n",
      "4           Argentina  South America        42825676.6     2780400   \n",
      "..                ...            ...               ...         ...   \n",
      "156         Venezuela  South America        30166777.2      916445   \n",
      "157           Vietnam           Asia        91235320.8      331212   \n",
      "158             Yemen           Asia        27762025.2      527968   \n",
      "159            Zambia         Africa        15757001.2      752612   \n",
      "160          Zimbabwe         Africa        13891903.8      390757   \n",
      "\n",
      "     density_(per_km²)  \n",
      "0            50.044821  \n",
      "1           100.482281  \n",
      "2            16.293036  \n",
      "3            21.797557  \n",
      "4            15.402703  \n",
      "..                 ...  \n",
      "156          32.917171  \n",
      "157         275.458983  \n",
      "158          52.582780  \n",
      "159          20.936420  \n",
      "160                NaN  \n",
      "\n",
      "[161 rows x 5 columns],     country_territory      continent  2013_population*  area_(km²)   \n",
      "0         Afghanistan           Asia        31527968.2      652230  \\\n",
      "1             Albania         Europe         2894848.2       28748   \n",
      "2             Algeria         Africa        38068430.0     2381741   \n",
      "3              Angola         Africa        26222306.6     1246700   \n",
      "4           Argentina  South America        42394288.2     2780400   \n",
      "..                ...            ...               ...         ...   \n",
      "156         Venezuela  South America        29803838.4      916445   \n",
      "157           Vietnam           Asia        90279243.6      331212   \n",
      "158             Yemen           Asia        27007505.4      527968   \n",
      "159            Zambia         Africa        15265772.4      752612   \n",
      "160          Zimbabwe         Africa        13628870.6      390757   \n",
      "\n",
      "     density_(per_km²)  \n",
      "0            48.338727  \n",
      "1           100.697377  \n",
      "2            15.983447  \n",
      "3            21.033373  \n",
      "4            15.247550  \n",
      "..                 ...  \n",
      "156          32.521142  \n",
      "157         272.572381  \n",
      "158          51.153679  \n",
      "159          20.283722  \n",
      "160                NaN  \n",
      "\n",
      "[161 rows x 5 columns],     country_territory      continent  2012_population*  area_(km²)   \n",
      "0         Afghanistan           Asia        30415202.8      652230  \\\n",
      "1             Albania         Europe         2901031.8       28748   \n",
      "2             Algeria         Africa        37331068.0     2381741   \n",
      "3              Angola         Africa        25269599.4     1246700   \n",
      "4           Argentina  South America        41962899.8     2780400   \n",
      "..                ...            ...               ...         ...   \n",
      "156         Venezuela  South America        29440899.6      916445   \n",
      "157           Vietnam           Asia        89323166.4      331212   \n",
      "158             Yemen           Asia        26252985.6      527968   \n",
      "159            Zambia         Africa        14774543.6      752612   \n",
      "160          Zimbabwe         Africa        13365837.4      390757   \n",
      "\n",
      "     density_(per_km²)  \n",
      "0            46.632634  \n",
      "1           100.912474  \n",
      "2            15.673857  \n",
      "3            20.269190  \n",
      "4            15.092397  \n",
      "..                 ...  \n",
      "156          32.125113  \n",
      "157         269.685780  \n",
      "158          49.724577  \n",
      "159          19.631023  \n",
      "160                NaN  \n",
      "\n",
      "[161 rows x 5 columns],     country_territory      continent  2011_population*  area_(km²)   \n",
      "0         Afghanistan           Asia        29302437.4      652230  \\\n",
      "1             Albania         Europe         2907215.4       28748   \n",
      "2             Algeria         Africa        36593706.0     2381741   \n",
      "3              Angola         Africa        24316892.2     1246700   \n",
      "4           Argentina  South America        41531511.4     2780400   \n",
      "..                ...            ...               ...         ...   \n",
      "156         Venezuela  South America        29077960.8      916445   \n",
      "157           Vietnam           Asia        88367089.2      331212   \n",
      "158             Yemen           Asia        25498465.8      527968   \n",
      "159            Zambia         Africa        14283314.8      752612   \n",
      "160          Zimbabwe         Africa        13102804.2      390757   \n",
      "\n",
      "     density_(per_km²)  \n",
      "0            44.926540  \n",
      "1           101.127571  \n",
      "2            15.364268  \n",
      "3            19.505007  \n",
      "4            14.937243  \n",
      "..                 ...  \n",
      "156          31.729084  \n",
      "157         266.799178  \n",
      "158          48.295476  \n",
      "159          18.978325  \n",
      "160                NaN  \n",
      "\n",
      "[161 rows x 5 columns],     country_territory      continent  2010_population  area_(km²)   \n",
      "0         Afghanistan           Asia         28189672      652230  \\\n",
      "1             Albania         Europe          2913399       28748   \n",
      "2             Algeria         Africa         35856344     2381741   \n",
      "3              Angola         Africa         23364185     1246700   \n",
      "4           Argentina  South America         41100123     2780400   \n",
      "..                ...            ...              ...         ...   \n",
      "156         Venezuela  South America         28715022      916445   \n",
      "157           Vietnam           Asia         87411012      331212   \n",
      "158             Yemen           Asia         24743946      527968   \n",
      "159            Zambia         Africa         13792086      752612   \n",
      "160          Zimbabwe         Africa         12839771      390757   \n",
      "\n",
      "     density_(per_km²)     density  \n",
      "0            43.220447   43.220447  \n",
      "1           101.342667  101.342667  \n",
      "2            15.054678   15.054678  \n",
      "3            18.740824   18.740824  \n",
      "4            14.782090   14.782090  \n",
      "..                 ...         ...  \n",
      "156          31.333055   31.333055  \n",
      "157         263.912576  263.912576  \n",
      "158          46.866374   46.866374  \n",
      "159          18.325626   18.325626  \n",
      "160                NaN         NaN  \n",
      "\n",
      "[161 rows x 6 columns],     country_territory      continent  2009_population*  area_(km²)   \n",
      "0         Afghanistan           Asia        27325003.0      652230  \\\n",
      "1             Albania         Europe         2940261.2       28748   \n",
      "2             Algeria         Africa        35348171.7     2381741   \n",
      "3              Angola         Africa        22667172.7     1246700   \n",
      "4           Argentina  South America        40697188.1     2780400   \n",
      "..                ...            ...               ...         ...   \n",
      "156         Venezuela  South America        28286292.7      916445   \n",
      "157           Vietnam           Asia        86570025.0      331212   \n",
      "158             Yemen           Asia        24132421.4      527968   \n",
      "159            Zambia         Africa        13401991.0      752612   \n",
      "160          Zimbabwe         Africa        12739261.5      390757   \n",
      "\n",
      "     density_(per_km²)  \n",
      "0            41.894735  \n",
      "1           102.277070  \n",
      "2            14.841316  \n",
      "3            18.181738  \n",
      "4            14.637170  \n",
      "..                 ...  \n",
      "156          30.865238  \n",
      "157         261.373456  \n",
      "158          45.708114  \n",
      "159          17.807304  \n",
      "160                NaN  \n",
      "\n",
      "[161 rows x 5 columns],     country_territory      continent  2008_population*  area_(km²)   \n",
      "0         Afghanistan           Asia        26460334.0      652230  \\\n",
      "1             Albania         Europe         2967123.4       28748   \n",
      "2             Algeria         Africa        34839999.4     2381741   \n",
      "3              Angola         Africa        21970160.4     1246700   \n",
      "4           Argentina  South America        40294253.2     2780400   \n",
      "..                ...            ...               ...         ...   \n",
      "156         Venezuela  South America        27857563.4      916445   \n",
      "157           Vietnam           Asia        85729038.0      331212   \n",
      "158             Yemen           Asia        23520896.8      527968   \n",
      "159            Zambia         Africa        13011896.0      752612   \n",
      "160          Zimbabwe         Africa        12638752.0      390757   \n",
      "\n",
      "     density_(per_km²)  \n",
      "0            40.569023  \n",
      "1           103.211472  \n",
      "2            14.627955  \n",
      "3            17.622652  \n",
      "4            14.492250  \n",
      "..                 ...  \n",
      "156          30.397420  \n",
      "157         258.834336  \n",
      "158          44.549853  \n",
      "159          17.288983  \n",
      "160                NaN  \n",
      "\n",
      "[161 rows x 5 columns],     country_territory      continent  2007_population*  area_(km²)   \n",
      "0         Afghanistan           Asia        25595665.0      652230  \\\n",
      "1             Albania         Europe         2993985.6       28748   \n",
      "2             Algeria         Africa        34331827.1     2381741   \n",
      "3              Angola         Africa        21273148.1     1246700   \n",
      "4           Argentina  South America        39891318.3     2780400   \n",
      "..                ...            ...               ...         ...   \n",
      "156         Venezuela  South America        27428834.1      916445   \n",
      "157           Vietnam           Asia        84888051.0      331212   \n",
      "158             Yemen           Asia        22909372.2      527968   \n",
      "159            Zambia         Africa        12621801.0      752612   \n",
      "160          Zimbabwe         Africa        12538242.5      390757   \n",
      "\n",
      "     density_(per_km²)  \n",
      "0            39.243311  \n",
      "1           104.145874  \n",
      "2            14.414593  \n",
      "3            17.063566  \n",
      "4            14.347331  \n",
      "..                 ...  \n",
      "156          29.929602  \n",
      "157         256.295216  \n",
      "158          43.391592  \n",
      "159          16.770661  \n",
      "160                NaN  \n",
      "\n",
      "[161 rows x 5 columns],     country_territory      continent  2006_population*  area_(km²)   \n",
      "0         Afghanistan           Asia        24730996.0      652230  \\\n",
      "1             Albania         Europe         3020847.8       28748   \n",
      "2             Algeria         Africa        33823654.8     2381741   \n",
      "3              Angola         Africa        20576135.8     1246700   \n",
      "4           Argentina  South America        39488383.4     2780400   \n",
      "..                ...            ...               ...         ...   \n",
      "156         Venezuela  South America        27000104.8      916445   \n",
      "157           Vietnam           Asia        84047064.0      331212   \n",
      "158             Yemen           Asia        22297847.6      527968   \n",
      "159            Zambia         Africa        12231706.0      752612   \n",
      "160          Zimbabwe         Africa        12437733.0      390757   \n",
      "\n",
      "     density_(per_km²)  \n",
      "0            37.917600  \n",
      "1           105.080277  \n",
      "2            14.201231  \n",
      "3            16.504480  \n",
      "4            14.202411  \n",
      "..                 ...  \n",
      "156          29.461784  \n",
      "157         253.756096  \n",
      "158          42.233332  \n",
      "159          16.252340  \n",
      "160                NaN  \n",
      "\n",
      "[161 rows x 5 columns],     country_territory      continent  2005_population*  area_(km²)   \n",
      "0         Afghanistan           Asia        23866327.0      652230  \\\n",
      "1             Albania         Europe         3047710.0       28748   \n",
      "2             Algeria         Africa        33315482.5     2381741   \n",
      "3              Angola         Africa        19879123.5     1246700   \n",
      "4           Argentina  South America        39085448.5     2780400   \n",
      "..                ...            ...               ...         ...   \n",
      "156         Venezuela  South America        26571375.5      916445   \n",
      "157           Vietnam           Asia        83206077.0      331212   \n",
      "158             Yemen           Asia        21686323.0      527968   \n",
      "159            Zambia         Africa        11841611.0      752612   \n",
      "160          Zimbabwe         Africa        12337223.5      390757   \n",
      "\n",
      "     density_(per_km²)  \n",
      "0            36.591888  \n",
      "1           106.014679  \n",
      "2            13.987870  \n",
      "3            15.945395  \n",
      "4            14.057491  \n",
      "..                 ...  \n",
      "156          28.993966  \n",
      "157         251.216976  \n",
      "158          41.075071  \n",
      "159          15.734018  \n",
      "160                NaN  \n",
      "\n",
      "[161 rows x 5 columns]]\n"
     ]
    }
   ],
   "source": [
    "list=[]\n",
    "for frame in list_pop_density:\n",
    "    frame['density_(per_km²)']=(frame.iloc[0:160,2])/(frame.iloc[0:160,3])\n",
    "    list.append(frame)\n",
    "print(list)\n",
    "    "
   ]
  },
  {
   "cell_type": "code",
   "execution_count": 261,
   "metadata": {},
   "outputs": [
    {
     "data": {
      "text/html": [
       "<div>\n",
       "<style scoped>\n",
       "    .dataframe tbody tr th:only-of-type {\n",
       "        vertical-align: middle;\n",
       "    }\n",
       "\n",
       "    .dataframe tbody tr th {\n",
       "        vertical-align: top;\n",
       "    }\n",
       "\n",
       "    .dataframe thead th {\n",
       "        text-align: right;\n",
       "    }\n",
       "</style>\n",
       "<table border=\"1\" class=\"dataframe\">\n",
       "  <thead>\n",
       "    <tr style=\"text-align: right;\">\n",
       "      <th></th>\n",
       "      <th>country_territory</th>\n",
       "      <th>continent</th>\n",
       "      <th>2005_population*</th>\n",
       "      <th>area_(km²)</th>\n",
       "      <th>density_(per_km²)</th>\n",
       "    </tr>\n",
       "  </thead>\n",
       "  <tbody>\n",
       "    <tr>\n",
       "      <th>0</th>\n",
       "      <td>Afghanistan</td>\n",
       "      <td>Asia</td>\n",
       "      <td>23866327.0</td>\n",
       "      <td>652230</td>\n",
       "      <td>36.591888</td>\n",
       "    </tr>\n",
       "    <tr>\n",
       "      <th>1</th>\n",
       "      <td>Albania</td>\n",
       "      <td>Europe</td>\n",
       "      <td>3047710.0</td>\n",
       "      <td>28748</td>\n",
       "      <td>106.014679</td>\n",
       "    </tr>\n",
       "    <tr>\n",
       "      <th>2</th>\n",
       "      <td>Algeria</td>\n",
       "      <td>Africa</td>\n",
       "      <td>33315482.5</td>\n",
       "      <td>2381741</td>\n",
       "      <td>13.987870</td>\n",
       "    </tr>\n",
       "    <tr>\n",
       "      <th>3</th>\n",
       "      <td>Angola</td>\n",
       "      <td>Africa</td>\n",
       "      <td>19879123.5</td>\n",
       "      <td>1246700</td>\n",
       "      <td>15.945395</td>\n",
       "    </tr>\n",
       "    <tr>\n",
       "      <th>4</th>\n",
       "      <td>Argentina</td>\n",
       "      <td>South America</td>\n",
       "      <td>39085448.5</td>\n",
       "      <td>2780400</td>\n",
       "      <td>14.057491</td>\n",
       "    </tr>\n",
       "    <tr>\n",
       "      <th>...</th>\n",
       "      <td>...</td>\n",
       "      <td>...</td>\n",
       "      <td>...</td>\n",
       "      <td>...</td>\n",
       "      <td>...</td>\n",
       "    </tr>\n",
       "    <tr>\n",
       "      <th>156</th>\n",
       "      <td>Venezuela</td>\n",
       "      <td>South America</td>\n",
       "      <td>26571375.5</td>\n",
       "      <td>916445</td>\n",
       "      <td>28.993966</td>\n",
       "    </tr>\n",
       "    <tr>\n",
       "      <th>157</th>\n",
       "      <td>Vietnam</td>\n",
       "      <td>Asia</td>\n",
       "      <td>83206077.0</td>\n",
       "      <td>331212</td>\n",
       "      <td>251.216976</td>\n",
       "    </tr>\n",
       "    <tr>\n",
       "      <th>158</th>\n",
       "      <td>Yemen</td>\n",
       "      <td>Asia</td>\n",
       "      <td>21686323.0</td>\n",
       "      <td>527968</td>\n",
       "      <td>41.075071</td>\n",
       "    </tr>\n",
       "    <tr>\n",
       "      <th>159</th>\n",
       "      <td>Zambia</td>\n",
       "      <td>Africa</td>\n",
       "      <td>11841611.0</td>\n",
       "      <td>752612</td>\n",
       "      <td>15.734018</td>\n",
       "    </tr>\n",
       "    <tr>\n",
       "      <th>160</th>\n",
       "      <td>Zimbabwe</td>\n",
       "      <td>Africa</td>\n",
       "      <td>12337223.5</td>\n",
       "      <td>390757</td>\n",
       "      <td>NaN</td>\n",
       "    </tr>\n",
       "  </tbody>\n",
       "</table>\n",
       "<p>161 rows × 5 columns</p>\n",
       "</div>"
      ],
      "text/plain": [
       "    country_territory      continent  2005_population*  area_(km²)   \n",
       "0         Afghanistan           Asia        23866327.0      652230  \\\n",
       "1             Albania         Europe         3047710.0       28748   \n",
       "2             Algeria         Africa        33315482.5     2381741   \n",
       "3              Angola         Africa        19879123.5     1246700   \n",
       "4           Argentina  South America        39085448.5     2780400   \n",
       "..                ...            ...               ...         ...   \n",
       "156         Venezuela  South America        26571375.5      916445   \n",
       "157           Vietnam           Asia        83206077.0      331212   \n",
       "158             Yemen           Asia        21686323.0      527968   \n",
       "159            Zambia         Africa        11841611.0      752612   \n",
       "160          Zimbabwe         Africa        12337223.5      390757   \n",
       "\n",
       "     density_(per_km²)  \n",
       "0            36.591888  \n",
       "1           106.014679  \n",
       "2            13.987870  \n",
       "3            15.945395  \n",
       "4            14.057491  \n",
       "..                 ...  \n",
       "156          28.993966  \n",
       "157         251.216976  \n",
       "158          41.075071  \n",
       "159          15.734018  \n",
       "160                NaN  \n",
       "\n",
       "[161 rows x 5 columns]"
      ]
     },
     "execution_count": 261,
     "metadata": {},
     "output_type": "execute_result"
    }
   ],
   "source": [
    "df_2005_density"
   ]
  },
  {
   "cell_type": "code",
   "execution_count": 262,
   "metadata": {},
   "outputs": [
    {
     "data": {
      "text/plain": [
       "36.59188783097987"
      ]
     },
     "execution_count": 262,
     "metadata": {},
     "output_type": "execute_result"
    }
   ],
   "source": [
    "#Checking to see that the population density column was correctly calculated\n",
    "df_2005_density.iloc[0,2]/df_2005_density.iloc[0,3]"
   ]
  },
  {
   "cell_type": "markdown",
   "metadata": {},
   "source": [
    "**looking to see how i need to format these just-created population density dataframes (*df_year_density*)so that they can be concatenated with the main dataframe df.**"
   ]
  },
  {
   "cell_type": "code",
   "execution_count": 263,
   "metadata": {},
   "outputs": [
    {
     "data": {
      "text/html": [
       "<div>\n",
       "<style scoped>\n",
       "    .dataframe tbody tr th:only-of-type {\n",
       "        vertical-align: middle;\n",
       "    }\n",
       "\n",
       "    .dataframe tbody tr th {\n",
       "        vertical-align: top;\n",
       "    }\n",
       "\n",
       "    .dataframe thead th {\n",
       "        text-align: right;\n",
       "    }\n",
       "</style>\n",
       "<table border=\"1\" class=\"dataframe\">\n",
       "  <thead>\n",
       "    <tr style=\"text-align: right;\">\n",
       "      <th></th>\n",
       "      <th>country_name</th>\n",
       "      <th>year</th>\n",
       "      <th>life_ladder</th>\n",
       "      <th>log_gdp_per_capita</th>\n",
       "      <th>social_support</th>\n",
       "      <th>healthy_life_expectancy_at_birth</th>\n",
       "      <th>freedom_to_make_life_choices</th>\n",
       "      <th>generosity</th>\n",
       "      <th>perceptions_of_corruption</th>\n",
       "      <th>positive_affect</th>\n",
       "      <th>negative_affect</th>\n",
       "    </tr>\n",
       "  </thead>\n",
       "  <tbody>\n",
       "    <tr>\n",
       "      <th>0</th>\n",
       "      <td>Afghanistan</td>\n",
       "      <td>2008</td>\n",
       "      <td>3.724</td>\n",
       "      <td>7.350</td>\n",
       "      <td>0.451</td>\n",
       "      <td>50.500</td>\n",
       "      <td>0.718</td>\n",
       "      <td>0.168</td>\n",
       "      <td>0.882</td>\n",
       "      <td>0.414</td>\n",
       "      <td>0.258</td>\n",
       "    </tr>\n",
       "    <tr>\n",
       "      <th>1</th>\n",
       "      <td>Afghanistan</td>\n",
       "      <td>2009</td>\n",
       "      <td>4.402</td>\n",
       "      <td>7.509</td>\n",
       "      <td>0.552</td>\n",
       "      <td>50.800</td>\n",
       "      <td>0.679</td>\n",
       "      <td>0.191</td>\n",
       "      <td>0.850</td>\n",
       "      <td>0.481</td>\n",
       "      <td>0.237</td>\n",
       "    </tr>\n",
       "    <tr>\n",
       "      <th>2</th>\n",
       "      <td>Afghanistan</td>\n",
       "      <td>2010</td>\n",
       "      <td>4.758</td>\n",
       "      <td>7.614</td>\n",
       "      <td>0.539</td>\n",
       "      <td>51.100</td>\n",
       "      <td>0.600</td>\n",
       "      <td>0.121</td>\n",
       "      <td>0.707</td>\n",
       "      <td>0.517</td>\n",
       "      <td>0.275</td>\n",
       "    </tr>\n",
       "    <tr>\n",
       "      <th>3</th>\n",
       "      <td>Afghanistan</td>\n",
       "      <td>2011</td>\n",
       "      <td>3.832</td>\n",
       "      <td>7.581</td>\n",
       "      <td>0.521</td>\n",
       "      <td>51.400</td>\n",
       "      <td>0.496</td>\n",
       "      <td>0.164</td>\n",
       "      <td>0.731</td>\n",
       "      <td>0.480</td>\n",
       "      <td>0.267</td>\n",
       "    </tr>\n",
       "    <tr>\n",
       "      <th>4</th>\n",
       "      <td>Afghanistan</td>\n",
       "      <td>2012</td>\n",
       "      <td>3.783</td>\n",
       "      <td>7.661</td>\n",
       "      <td>0.521</td>\n",
       "      <td>51.700</td>\n",
       "      <td>0.531</td>\n",
       "      <td>0.238</td>\n",
       "      <td>0.776</td>\n",
       "      <td>0.614</td>\n",
       "      <td>0.268</td>\n",
       "    </tr>\n",
       "    <tr>\n",
       "      <th>...</th>\n",
       "      <td>...</td>\n",
       "      <td>...</td>\n",
       "      <td>...</td>\n",
       "      <td>...</td>\n",
       "      <td>...</td>\n",
       "      <td>...</td>\n",
       "      <td>...</td>\n",
       "      <td>...</td>\n",
       "      <td>...</td>\n",
       "      <td>...</td>\n",
       "      <td>...</td>\n",
       "    </tr>\n",
       "    <tr>\n",
       "      <th>2194</th>\n",
       "      <td>Zimbabwe</td>\n",
       "      <td>2018</td>\n",
       "      <td>3.616</td>\n",
       "      <td>7.783</td>\n",
       "      <td>0.775</td>\n",
       "      <td>52.625</td>\n",
       "      <td>0.763</td>\n",
       "      <td>-0.051</td>\n",
       "      <td>0.844</td>\n",
       "      <td>0.658</td>\n",
       "      <td>0.212</td>\n",
       "    </tr>\n",
       "    <tr>\n",
       "      <th>2195</th>\n",
       "      <td>Zimbabwe</td>\n",
       "      <td>2019</td>\n",
       "      <td>2.694</td>\n",
       "      <td>7.698</td>\n",
       "      <td>0.759</td>\n",
       "      <td>53.100</td>\n",
       "      <td>0.632</td>\n",
       "      <td>-0.047</td>\n",
       "      <td>0.831</td>\n",
       "      <td>0.658</td>\n",
       "      <td>0.235</td>\n",
       "    </tr>\n",
       "    <tr>\n",
       "      <th>2196</th>\n",
       "      <td>Zimbabwe</td>\n",
       "      <td>2020</td>\n",
       "      <td>3.160</td>\n",
       "      <td>7.596</td>\n",
       "      <td>0.717</td>\n",
       "      <td>53.575</td>\n",
       "      <td>0.643</td>\n",
       "      <td>0.006</td>\n",
       "      <td>0.789</td>\n",
       "      <td>0.661</td>\n",
       "      <td>0.346</td>\n",
       "    </tr>\n",
       "    <tr>\n",
       "      <th>2197</th>\n",
       "      <td>Zimbabwe</td>\n",
       "      <td>2021</td>\n",
       "      <td>3.155</td>\n",
       "      <td>7.657</td>\n",
       "      <td>0.685</td>\n",
       "      <td>54.050</td>\n",
       "      <td>0.668</td>\n",
       "      <td>-0.076</td>\n",
       "      <td>0.757</td>\n",
       "      <td>0.610</td>\n",
       "      <td>0.242</td>\n",
       "    </tr>\n",
       "    <tr>\n",
       "      <th>2198</th>\n",
       "      <td>Zimbabwe</td>\n",
       "      <td>2022</td>\n",
       "      <td>3.296</td>\n",
       "      <td>7.670</td>\n",
       "      <td>0.666</td>\n",
       "      <td>54.525</td>\n",
       "      <td>0.652</td>\n",
       "      <td>-0.070</td>\n",
       "      <td>0.753</td>\n",
       "      <td>0.641</td>\n",
       "      <td>0.191</td>\n",
       "    </tr>\n",
       "  </tbody>\n",
       "</table>\n",
       "<p>2199 rows × 11 columns</p>\n",
       "</div>"
      ],
      "text/plain": [
       "     country_name  year  life_ladder  log_gdp_per_capita  social_support   \n",
       "0     Afghanistan  2008        3.724               7.350           0.451  \\\n",
       "1     Afghanistan  2009        4.402               7.509           0.552   \n",
       "2     Afghanistan  2010        4.758               7.614           0.539   \n",
       "3     Afghanistan  2011        3.832               7.581           0.521   \n",
       "4     Afghanistan  2012        3.783               7.661           0.521   \n",
       "...           ...   ...          ...                 ...             ...   \n",
       "2194     Zimbabwe  2018        3.616               7.783           0.775   \n",
       "2195     Zimbabwe  2019        2.694               7.698           0.759   \n",
       "2196     Zimbabwe  2020        3.160               7.596           0.717   \n",
       "2197     Zimbabwe  2021        3.155               7.657           0.685   \n",
       "2198     Zimbabwe  2022        3.296               7.670           0.666   \n",
       "\n",
       "      healthy_life_expectancy_at_birth  freedom_to_make_life_choices   \n",
       "0                               50.500                         0.718  \\\n",
       "1                               50.800                         0.679   \n",
       "2                               51.100                         0.600   \n",
       "3                               51.400                         0.496   \n",
       "4                               51.700                         0.531   \n",
       "...                                ...                           ...   \n",
       "2194                            52.625                         0.763   \n",
       "2195                            53.100                         0.632   \n",
       "2196                            53.575                         0.643   \n",
       "2197                            54.050                         0.668   \n",
       "2198                            54.525                         0.652   \n",
       "\n",
       "      generosity  perceptions_of_corruption  positive_affect  negative_affect  \n",
       "0          0.168                      0.882            0.414            0.258  \n",
       "1          0.191                      0.850            0.481            0.237  \n",
       "2          0.121                      0.707            0.517            0.275  \n",
       "3          0.164                      0.731            0.480            0.267  \n",
       "4          0.238                      0.776            0.614            0.268  \n",
       "...          ...                        ...              ...              ...  \n",
       "2194      -0.051                      0.844            0.658            0.212  \n",
       "2195      -0.047                      0.831            0.658            0.235  \n",
       "2196       0.006                      0.789            0.661            0.346  \n",
       "2197      -0.076                      0.757            0.610            0.242  \n",
       "2198      -0.070                      0.753            0.641            0.191  \n",
       "\n",
       "[2199 rows x 11 columns]"
      ]
     },
     "execution_count": 263,
     "metadata": {},
     "output_type": "execute_result"
    }
   ],
   "source": [
    "df"
   ]
  }
 ],
 "metadata": {
  "kernelspec": {
   "display_name": "Python 3",
   "language": "python",
   "name": "python3"
  },
  "language_info": {
   "codemirror_mode": {
    "name": "ipython",
    "version": 3
   },
   "file_extension": ".py",
   "mimetype": "text/x-python",
   "name": "python",
   "nbconvert_exporter": "python",
   "pygments_lexer": "ipython3",
   "version": "3.11.3"
  },
  "metadata": {
   "interpreter": {
    "hash": "aee8b7b246df8f9039afb4144a1f6fd8d2ca17a180786b69acc140d282b71a49"
   }
  }
 },
 "nbformat": 4,
 "nbformat_minor": 4
}
